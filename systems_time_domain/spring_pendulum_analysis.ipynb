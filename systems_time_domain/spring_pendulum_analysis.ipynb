{
 "cells": [
  {
   "cell_type": "markdown",
   "metadata": {
    "nbsphinx": "hidden"
   },
   "source": [
    "# Characterization of Systems in the Time Domain\n",
    "\n",
    "*This Jupyter notebook is part of a [collection of notebooks](../index.ipynb) in the bachelors module Signals and Systems, Communications Engineering, Universität Rostock. Please direct questions and suggestions to [Sascha.Spors@uni-rostock.de](mailto:Sascha.Spors@uni-rostock.de).*"
   ]
  },
  {
   "cell_type": "markdown",
   "metadata": {},
   "source": [
    "## Analysis of a Damped Spring Pendulum\n",
    "\n",
    "The damped [spring pendulum](https://en.wikipedia.org/wiki/Spring_pendulum) is an example for a physical system that can be modeled by a linear ordinary differential equation (ODE) with constant coefficients. In view of the theory of signals and systems it hence can be interpreted as a linear time-invariant (LTI) system. The mechanical properties of the damped spring pendulum are analyzed by using the theory of LTI systems. The underlying mechanical setup is depicted in the following\n",
    "\n",
    "![Damped spring pendulum](damped_spring.png)\n",
    "\n",
    "A rigid body of mass $m$ is hanging on a spring with stiffness $k$ connected to a wall. A damper with viscous damping coefficient $c$ is mounted parallel to the spring to model the friction present in the system. It is assumed that the movement of the mass over time is restricted to the vertical axis, here denoted by $y$. It is assumed that the mass is in its idle position for $t<0$. The pretension of the spring by the mass can be neglected this way. It is furthermore assumed that the mass is not moving for $t<0$. Denoting the displacement of the mass over time with $y(t)$, these initial conditions are formulated as $y(t) = 0$ and $\\frac{d y(t)}{dt} = 0$ for $t<0$.\n",
    "\n",
    "The normalized values $m = 0.1$, $c = 0.1$, $k = 2.5$ are used for illustration in the following."
   ]
  },
  {
   "cell_type": "markdown",
   "metadata": {},
   "source": [
    "### Differential Equation\n",
    "\n",
    "The differential equation of the mechanical system is derived by considering the force equilibrium at the mass\n",
    "\n",
    "\\begin{equation}\n",
    "F_\\text{S}(t) + F_\\text{F}(t) + F_\\text{I}(t) = F_\\text{E}(t)\n",
    "\\end{equation}\n",
    "\n",
    "where $F_\\text{E}(t)$ denotes an external force acting onto the mass, the other forces are derived in the sequel. The force $F_\\text{S}(t)$ induced by the spring is given by [Hooke's law](https://en.wikipedia.org/wiki/Hooke%27s_law)\n",
    "\n",
    "\\begin{equation}\n",
    "F_\\text{S}(t) = k y(t)\n",
    "\\end{equation}\n",
    "\n",
    "Its common to model the frictional force $F_\\text{F}(t)$ as being proportional to the velocity of the mass\n",
    "\n",
    "\\begin{equation}\n",
    "F_\\text{F}(t) = c \\frac{d y(t)}{dt}\n",
    "\\end{equation}\n",
    "\n",
    "The inertial force $F_\\text{I}(t)$ due to the acceleration of the mass is given as\n",
    "\n",
    "\\begin{equation}\n",
    "F_\\text{I}(t) = m \\frac{d^2 y(t)}{dt^2}\n",
    "\\end{equation}\n",
    "\n",
    "Introducing the forces into the force equilibrium yields the differential equation describing the displacement of the damped spring pendulum\n",
    "\n",
    "\\begin{equation}\n",
    "m \\frac{d^2 y(t)}{dt^2} + c \\frac{d y(t)}{dt} + k y(t) = F_\\text{E}(t)\n",
    "\\end{equation}\n",
    "\n",
    "as a consequence of the external force.\n",
    "Above equation constitutes an ODE with constant coefficients. It can be interpreted as an LTI system with the external force as input signal $x(t) = F_\\text{E}(t)$ and the displacement of the mass as output signal $y(t)$."
   ]
  },
  {
   "cell_type": "markdown",
   "metadata": {},
   "source": [
    "### Comparison to Passive Electrical Networks\n",
    "\n",
    "Comparing the ODEs of the damped spring pendulum and the [second-order analog low-pass](http://localhost:8888/notebooks/systems_time_domain/network_analysis.ipynb#Differential-Equation) yields that both constitute second-order ODEs with constant coefficients. Dividing the ODE of the second-order analog low pass by $C$ results in\n",
    "\n",
    "\\begin{equation}\n",
    "L \\frac{d^2 u_\\text{o}(t)}{dt^2} + R \\frac{d u_\\text{o}(t)}{dt} + \\frac{1}{C} u_\\text{o}(t) = \\frac{1}{C} u_\\text{i}(t)\n",
    "\\end{equation}\n",
    "\n",
    "where $u_\\text{i}(t)$ and $u_\\text{o}(t)$ denote the in- and output voltage of the analog circuit.\n",
    "Comparison with above ODE of the spring pendulum yields the [equivalence of both systems](https://en.wikipedia.org/wiki/System_equivalence) for\n",
    "\n",
    "| | 2nd-order low-pass | spring pendulum |\n",
    "|:---|:---|:---|\n",
    "| input signal $x(t)$ | $u_\\text{i}(t) = F_\\text{E}(t) C$ | $F_\\text{E}(t) = \\frac{u_\\text{i}(t)}{C}$ |\n",
    "| output signal $y(t)$ | $u_\\text{o}(t)$ | $y(t)$ |\n",
    "| | $L = m$ | $m = L$ |\n",
    "| | $R = c$ | $c = R$ |\n",
    "| | $C = \\frac{1}{k} $ | $k = \\frac{1}{C}$ |\n",
    "\n",
    "Note, the equivalence between mechanical systems described by ODEs with constant coefficients and analog circuits was used to simulate such systems by [analog computers](https://en.wikipedia.org/wiki/Analog_computer)."
   ]
  },
  {
   "cell_type": "markdown",
   "metadata": {},
   "source": [
    "### Impulse Response\n",
    "\n",
    "The LTI system corresponding to the pendulum can be characterized by its [impulse response](impulse_response.ipynb) $h(t)$. It is defined as the output of the system for a Dirac impulse $x(t) = \\delta(t)$ at the input. Physically this can be approximated by hitting the mass. The impulse response characterizes then the movement after such an event.\n",
    "\n",
    "First the ODE of the spring pendulum is defined in `SymPy`"
   ]
  },
  {
   "cell_type": "code",
   "execution_count": 1,
   "metadata": {},
   "outputs": [
    {
     "data": {
      "image/png": "[encoded data removed]",
      "text/latex": [
       "$$c \\frac{d}{d t} y{\\left (t \\right )} + k y{\\left (t \\right )} + m \\frac{d^{2}}{d t^{2}}  y{\\left (t \\right )} = x{\\left (t \\right )}$$"
      ],
      "text/plain": [
       "                          2             \n",
       "  d                      d              \n",
       "c⋅──(y(t)) + k⋅y(t) + m⋅───(y(t)) = x(t)\n",
       "  dt                      2             \n",
       "                        dt              "
      ]
     },
     "execution_count": 1,
     "metadata": {},
     "output_type": "execute_result"
    }
   ],
   "source": [
    "%matplotlib inline\n",
    "import sympy as sym\n",
    "sym.init_printing()\n",
    "\n",
    "t, m, c, k = sym.symbols('t m c k', real=True)\n",
    "x = sym.Function('x')(t)\n",
    "y = sym.Function('y')(t)\n",
    "\n",
    "ode = sym.Eq(m*y.diff(t, 2) + c*y.diff(t) + k*y, x)\n",
    "ode"
   ]
  },
  {
   "cell_type": "markdown",
   "metadata": {},
   "source": [
    "The normalized values of the physical constants are stored in a dictionary for ease of later substitution"
   ]
  },
  {
   "cell_type": "code",
   "execution_count": 2,
   "metadata": {},
   "outputs": [
    {
     "data": {
      "image/png": "[encoded data removed]",
      "text/latex": [
       "$$\\left \\{ c : \\frac{1}{10}, \\quad k : \\frac{5}{2}, \\quad m : 0.1\\right \\}$$"
      ],
      "text/plain": [
       "{c: 1/10, k: 5/2, m: 0.1}"
      ]
     },
     "execution_count": 2,
     "metadata": {},
     "output_type": "execute_result"
    }
   ],
   "source": [
    "mck = {m: 0.1, c: sym.Rational('.1'), k: sym.Rational('2.5')}\n",
    "mck"
   ]
  },
  {
   "cell_type": "markdown",
   "metadata": {},
   "source": [
    "The impulse response is calculated by explicit solution of the ODE."
   ]
  },
  {
   "cell_type": "code",
   "execution_count": 3,
   "metadata": {},
   "outputs": [
    {
     "data": {
      "image/png": "[encoded data removed]",
      "text/latex": [
       "$$h{\\left (t \\right )} = C_{1} e^{\\frac{t}{2 m} \\left(- c - \\sqrt{c^{2} - 4 k m}\\right)} + C_{2} e^{\\frac{t}{2 m} \\left(- c + \\sqrt{c^{2} - 4 k m}\\right)} - \\frac{\\theta\\left(t\\right)}{\\sqrt{c^{2} - 4 k m}} e^{\\frac{t}{2 m} \\left(- c - \\sqrt{c^{2} - 4 k m}\\right)} + \\frac{\\theta\\left(t\\right)}{\\sqrt{c^{2} - 4 k m}} e^{\\frac{t}{2 m} \\left(- c + \\sqrt{c^{2} - 4 k m}\\right)}$$"
      ],
      "text/plain": [
       "                                                                        ⎛     \n",
       "             ⎛        ____________⎞         ⎛        ____________⎞      ⎜     \n",
       "             ⎜       ╱  2         ⎟         ⎜       ╱  2         ⎟    t⋅⎝-c - \n",
       "           t⋅⎝-c - ╲╱  c  - 4⋅k⋅m ⎠       t⋅⎝-c + ╲╱  c  - 4⋅k⋅m ⎠    ────────\n",
       "           ────────────────────────       ────────────────────────            \n",
       "                     2⋅m                            2⋅m              ℯ        \n",
       "h(t) = C₁⋅ℯ                         + C₂⋅ℯ                         - ─────────\n",
       "                                                                              \n",
       "                                                                              \n",
       "                                                                              \n",
       "\n",
       "   ____________⎞                   ⎛        ____________⎞             \n",
       "  ╱  2         ⎟                   ⎜       ╱  2         ⎟             \n",
       "╲╱  c  - 4⋅k⋅m ⎠                 t⋅⎝-c + ╲╱  c  - 4⋅k⋅m ⎠             \n",
       "────────────────                 ────────────────────────             \n",
       "  2⋅m                                      2⋅m                        \n",
       "                ⋅Heaviside(t)   ℯ                        ⋅Heaviside(t)\n",
       "───────────────────────────── + ──────────────────────────────────────\n",
       "     ____________                             ____________            \n",
       "    ╱  2                                     ╱  2                     \n",
       "  ╲╱  c  - 4⋅k⋅m                           ╲╱  c  - 4⋅k⋅m             "
      ]
     },
     "execution_count": 3,
     "metadata": {},
     "output_type": "execute_result"
    }
   ],
   "source": [
    "solution_h = sym.dsolve(ode.subs(x, sym.DiracDelta(t)).subs(y, sym.Function('h')(t)))\n",
    "solution_h"
   ]
  },
  {
   "cell_type": "markdown",
   "metadata": {},
   "source": [
    "The integration constants $C_1$ and $C_2$ have to be determined from the initial conditions $y(t) = 0$ and $\\frac{d y(t)}{dt} = 0$ for $t<0$. "
   ]
  },
  {
   "cell_type": "code",
   "execution_count": 4,
   "metadata": {},
   "outputs": [
    {
     "data": {
      "image/png": "[encoded data removed]",
      "text/latex": [
       "$$\\left \\{ C_{1} : 0, \\quad C_{2} : 0\\right \\}$$"
      ],
      "text/plain": [
       "{C₁: 0, C₂: 0}"
      ]
     },
     "execution_count": 4,
     "metadata": {},
     "output_type": "execute_result"
    }
   ],
   "source": [
    "integration_constants = sym.solve( (solution_h.rhs.limit(t, 0, '-'), solution_h.rhs.diff(t).limit(t, 0, '-')), ['C1', 'C2'] )\n",
    "integration_constants"
   ]
  },
  {
   "cell_type": "markdown",
   "metadata": {},
   "source": [
    "Substitution of the values for the integration constants $C_1$ and $C_2$ into the result from above yields the impulse response of the spring pendulum"
   ]
  },
  {
   "cell_type": "code",
   "execution_count": 5,
   "metadata": {},
   "outputs": [
    {
     "data": {
      "image/png": "[encoded data removed]",
      "text/latex": [
       "$$- \\frac{\\theta\\left(t\\right)}{\\sqrt{c^{2} - 4 k m}} e^{\\frac{t}{2 m} \\left(- c - \\sqrt{c^{2} - 4 k m}\\right)} + \\frac{\\theta\\left(t\\right)}{\\sqrt{c^{2} - 4 k m}} e^{\\frac{t}{2 m} \\left(- c + \\sqrt{c^{2} - 4 k m}\\right)}$$"
      ],
      "text/plain": [
       "     ⎛        ____________⎞                   ⎛        ____________⎞          \n",
       "     ⎜       ╱  2         ⎟                   ⎜       ╱  2         ⎟          \n",
       "   t⋅⎝-c - ╲╱  c  - 4⋅k⋅m ⎠                 t⋅⎝-c + ╲╱  c  - 4⋅k⋅m ⎠          \n",
       "   ────────────────────────                 ────────────────────────          \n",
       "             2⋅m                                      2⋅m                     \n",
       "  ℯ                        ⋅Heaviside(t)   ℯ                        ⋅Heaviside\n",
       "- ────────────────────────────────────── + ───────────────────────────────────\n",
       "                ____________                             ____________         \n",
       "               ╱  2                                     ╱  2                  \n",
       "             ╲╱  c  - 4⋅k⋅m                           ╲╱  c  - 4⋅k⋅m          \n",
       "\n",
       "   \n",
       "   \n",
       "   \n",
       "   \n",
       "   \n",
       "(t)\n",
       "───\n",
       "   \n",
       "   \n",
       "   "
      ]
     },
     "execution_count": 5,
     "metadata": {},
     "output_type": "execute_result"
    }
   ],
   "source": [
    "h = solution_h.subs(integration_constants).rhs\n",
    "h"
   ]
  },
  {
   "cell_type": "markdown",
   "metadata": {},
   "source": [
    "The impulse response is plotted for the specific values of $m$, $c$ and $k$ given above"
   ]
  },
  {
   "cell_type": "code",
   "execution_count": 6,
   "metadata": {},
   "outputs": [
    {
     "data": {
      "image/png": "[encoded data removed]",
      "text/plain": [
       "<matplotlib.figure.Figure at 0x1122fd550>"
      ]
     },
     "metadata": {},
     "output_type": "display_data"
    }
   ],
   "source": [
    "sym.plot(h.subs(mck), (t,0,12), ylabel=r'h(t)');"
   ]
  },
  {
   "cell_type": "markdown",
   "metadata": {},
   "source": [
    "### Transfer Function\n",
    "\n",
    "For an exponential input signal $x(t) = e^{s t}$, the [transfer function](eigenfunctions.ipynb#Transfer-Function) $H(s)$ represents the weight of the exponential output signal $y(t) = H(s) \\cdot e^{s t}$. The transfer function is derived by introducing $x(t)$ and $y(t)$ into the ODE and solving for $H(s)$"
   ]
  },
  {
   "cell_type": "code",
   "execution_count": 7,
   "metadata": {},
   "outputs": [
    {
     "data": {
      "image/png": "[encoded data removed]",
      "text/latex": [
       "$$\\frac{1}{c s + k + m s^{2}}$$"
      ],
      "text/plain": [
       "      1       \n",
       "──────────────\n",
       "             2\n",
       "c⋅s + k + m⋅s "
      ]
     },
     "execution_count": 7,
     "metadata": {},
     "output_type": "execute_result"
    }
   ],
   "source": [
    "s = sym.symbols('s')\n",
    "H = sym.Function('H')(s)\n",
    "\n",
    "H, = sym.solve(ode.subs(x, sym.exp(s*t)).subs(y, H*sym.exp(s*t)).doit(), H)\n",
    "H"
   ]
  },
  {
   "cell_type": "markdown",
   "metadata": {},
   "source": [
    "The transfer characteristics of an LTI system for harmonic exponential signals $e^{j \\omega} = \\cos(\\omega t) + j \\sin(\\omega t)$ are of special interest in the analysis of resonating systems. It can be derived from $H(s)$ by substituting the complex frequency $s$ with $s = j \\omega$. The resulting transfer function $H(j \\omega)$ provides the attenuation and phase the system adds to a harmonic input signal."
   ]
  },
  {
   "cell_type": "code",
   "execution_count": 8,
   "metadata": {},
   "outputs": [
    {
     "data": {
      "image/png": "[encoded data removed]",
      "text/latex": [
       "$$\\frac{1}{i c \\omega + k - m \\omega^{2}}$$"
      ],
      "text/plain": [
       "       1        \n",
       "────────────────\n",
       "               2\n",
       "ⅈ⋅c⋅ω + k - m⋅ω "
      ]
     },
     "execution_count": 8,
     "metadata": {},
     "output_type": "execute_result"
    }
   ],
   "source": [
    "w = sym.symbols('omega', real=True)\n",
    "\n",
    "Hjw = H.subs(s, sym.I * w)\n",
    "Hjw"
   ]
  },
  {
   "cell_type": "markdown",
   "metadata": {},
   "source": [
    "The magnitude of the transfer function $|H(j \\omega)|$ is plotted for the specific values of the elements given above"
   ]
  },
  {
   "cell_type": "code",
   "execution_count": 9,
   "metadata": {},
   "outputs": [
    {
     "data": {
      "image/png": "[encoded data removed]",
      "text/plain": [
       "<matplotlib.figure.Figure at 0x1124c54a8>"
      ]
     },
     "metadata": {},
     "output_type": "display_data"
    }
   ],
   "source": [
    "sym.plot(abs(Hjw.subs(mck)), (w, -15, 15), ylabel=r'$|H(j \\omega)|$', xlabel=r'$\\omega$');"
   ]
  },
  {
   "cell_type": "markdown",
   "metadata": {},
   "source": [
    "When inspecting the magnitude of the transfer function it becomes evident that the damped spring pendulum shows resonances (maxima) for two specific angular frequencies. These resonance frequencies $\\omega_0$ are calculated by inspecting the extreme values of $|H(j \\omega)|$. First the derivative of $|H(j \\omega)|$ with respect to $\\omega$ is computed and set to zero"
   ]
  },
  {
   "cell_type": "code",
   "execution_count": 10,
   "metadata": {},
   "outputs": [
    {
     "data": {
      "image/png": "[encoded data removed]",
      "text/latex": [
       "$$\\left [ 0, \\quad - \\frac{1}{m} \\sqrt{- \\frac{c^{2}}{2} + k m}, \\quad \\frac{1}{m} \\sqrt{- \\frac{c^{2}}{2} + k m}, \\quad - \\frac{1}{2 \\left|{m}\\right|} \\sqrt{\\tilde{\\infty} \\left|{m}\\right| - 2 c^{2} + 4 k m}, \\quad \\frac{1}{2 \\left|{m}\\right|} \\sqrt{2 \\tilde{\\infty} \\left|{m}\\right| - 2 c^{2} + 4 k m}\\right ]$$"
      ],
      "text/plain": [
       "⎡         ____________        ____________                                    \n",
       "⎢        ╱    2              ╱    2                                           \n",
       "⎢       ╱    c              ╱    c              ________________________      \n",
       "⎢   -  ╱   - ── + k⋅m      ╱   - ── + k⋅m      ╱              2              ╱\n",
       "⎢    ╲╱      2           ╲╱      2          -╲╱  zoo⋅│m│ - 2⋅c  + 4⋅k⋅m    ╲╱ \n",
       "⎢0, ───────────────────, ─────────────────, ─────────────────────────────, ───\n",
       "⎣            m                   m                      2⋅│m│                 \n",
       "\n",
       "                          ⎤\n",
       "                          ⎥\n",
       "__________________________⎥\n",
       "                2         ⎥\n",
       " 2⋅zoo⋅│m│ - 2⋅c  + 4⋅k⋅m ⎥\n",
       "──────────────────────────⎥\n",
       "         2⋅│m│            ⎦"
      ]
     },
     "execution_count": 10,
     "metadata": {},
     "output_type": "execute_result"
    }
   ],
   "source": [
    "extrema = sym.solve(sym.Eq(sym.diff(abs(Hjw), w),0),w)\n",
    "extrema"
   ]
  },
  {
   "cell_type": "markdown",
   "metadata": {},
   "source": [
    "For the maxima of the transfer function only the 2nd and 3rd extrema are of interest"
   ]
  },
  {
   "cell_type": "code",
   "execution_count": 11,
   "metadata": {},
   "outputs": [
    {
     "data": {
      "image/png": "[encoded data removed]",
      "text/latex": [
       "$$\\left [ - \\frac{1}{m} \\sqrt{- \\frac{c^{2}}{2} + k m}, \\quad \\frac{1}{m} \\sqrt{- \\frac{c^{2}}{2} + k m}\\right ]$$"
      ],
      "text/plain": [
       "⎡      ____________        ____________⎤\n",
       "⎢     ╱    2              ╱    2       ⎥\n",
       "⎢    ╱    c              ╱    c        ⎥\n",
       "⎢-  ╱   - ── + k⋅m      ╱   - ── + k⋅m ⎥\n",
       "⎢ ╲╱      2           ╲╱      2        ⎥\n",
       "⎢───────────────────, ─────────────────⎥\n",
       "⎣         m                   m        ⎦"
      ]
     },
     "execution_count": 11,
     "metadata": {},
     "output_type": "execute_result"
    }
   ],
   "source": [
    "w0 = extrema[1:3]\n",
    "w0"
   ]
  },
  {
   "cell_type": "markdown",
   "metadata": {},
   "source": [
    "The resonance frequencies are computed for the specific values of $m$, $c$ and $k$ given above"
   ]
  },
  {
   "cell_type": "code",
   "execution_count": 12,
   "metadata": {},
   "outputs": [
    {
     "data": {
      "image/png": "[encoded data removed]",
      "text/latex": [
       "$$\\left [ -4.94974746830583, \\quad 4.94974746830583\\right ]$$"
      ],
      "text/plain": [
       "[-4.94974746830583, 4.94974746830583]"
      ]
     },
     "execution_count": 12,
     "metadata": {},
     "output_type": "execute_result"
    }
   ],
   "source": [
    "[w00.subs(mck) for w00 in w0]"
   ]
  },
  {
   "cell_type": "markdown",
   "metadata": {},
   "source": [
    "The phase of the transfer function $\\varphi(j \\omega)$ is computed and plotted for the specific values of the elements given above"
   ]
  },
  {
   "cell_type": "code",
   "execution_count": 13,
   "metadata": {},
   "outputs": [
    {
     "data": {
      "image/png": "[encoded data removed]",
      "text/plain": [
       "<matplotlib.figure.Figure at 0x112562e48>"
      ]
     },
     "metadata": {},
     "output_type": "display_data"
    }
   ],
   "source": [
    "phi = sym.arg(Hjw)\n",
    "sym.plot(phi.subs(mck), (w, -15, 15), ylabel=r'$\\varphi(j \\omega)$', xlabel=r'$\\omega$');"
   ]
  },
  {
   "cell_type": "markdown",
   "metadata": {},
   "source": [
    "**Exercise**\n",
    "\n",
    "* Change the viscous damping coefficient $c$ of the spring pendulum and investigate how the magnitude and phase of the transfer function $H(j \\omega)$ changes.\n",
    "\n",
    "* How does the frequency of the damped harmonic oscillation in the impulse response relate to the resonance frequency?"
   ]
  },
  {
   "cell_type": "markdown",
   "metadata": {},
   "source": [
    "### Application: Vibration Isolation\n",
    "\n",
    "An application of above example is the design of [vibration isolation](https://en.wikipedia.org/wiki/Vibration_isolation) by a damped spring pendulum as used for vibrating machinery. Assume that the\n",
    "system can only move in the vertical direction. The vertical component of the centrifugal force of an imbalanced rotating system mounted onto the mass can be modeled as\n",
    "\n",
    "\\begin{equation}\n",
    "F_\\text{E}(t) = F_0 \\cos(\\omega t) = F_0 \\cdot \\Re \\{e^{j \\omega t} \\}\n",
    "\\end{equation}\n",
    "\n",
    "where $\\omega$ denotes the angular frequency of the rotating machinery and $F_0$ the amplitude of the force. Since $e^{j \\omega t}$ is an eigenfunction of the LTI system, the resulting displacement is then given as\n",
    "\n",
    "\\begin{equation}\n",
    "y(t) = F_0 \\cdot \\Re \\{e^{j \\omega t} H(j \\omega) \\}\n",
    "\\end{equation}\n",
    "\n",
    "The aim of vibration isolation is to keep the magnitude of the displacement as low as possible."
   ]
  },
  {
   "cell_type": "markdown",
   "metadata": {},
   "source": [
    "**Exercise**\n",
    "\n",
    "* For which angular frequencies $\\omega$ is the magnitude of the displacement largest? How is the phase relation between the external force $F_\\text{E}(t)$ and displacement $y(t)$ at these frequencies.\n",
    "\n",
    "* How should the resonance frequencies $\\omega_0$ of the spring pendulum be chosen in order to get a good vibration isolation for a machine rotating with angular frequency $\\omega$? How is the phase relation between the external force $F_\\text{E}(t)$ and displacement $y(t)$ at this frequency.\n"
   ]
  },
  {
   "cell_type": "markdown",
   "metadata": {
    "nbsphinx": "hidden"
   },
   "source": [
    "**Copyright**\n",
    "\n",
    "The notebooks are provided as [Open Educational Resource](https://de.wikipedia.org/wiki/Open_Educational_Resources). Feel free to use the notebooks for your own educational purposes. The text is licensed under [Creative Commons Attribution 4.0](https://creativecommons.org/licenses/by/4.0/), the code of the IPython examples under the [MIT license](https://opensource.org/licenses/MIT). Please attribute the work as follows: *Lecture Notes on Signals and Systems* by Sascha Spors."
   ]
  }
 ],
 "metadata": {
  "kernelspec": {
   "display_name": "Python 3",
   "language": "python",
   "name": "python3"
  },
  "language_info": {
   "codemirror_mode": {
    "name": "ipython",
    "version": 3
   },
   "file_extension": ".py",
   "mimetype": "text/x-python",
   "name": "python",
   "nbconvert_exporter": "python",
   "pygments_lexer": "ipython3",
   "version": "3.5.2"
  }
 },
 "nbformat": 4,
 "nbformat_minor": 1
}
