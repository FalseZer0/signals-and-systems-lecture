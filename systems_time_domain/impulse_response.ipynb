{
 "cells": [
  {
   "cell_type": "markdown",
   "metadata": {
    "nbsphinx": "hidden"
   },
   "source": [
    "# Characterization of Systems in the Time Domain\n",
    "\n",
    "*This Jupyter notebook is part of a [collection of notebooks](../index.ipynb) in the bachelors module Signals and Systems, Communications Engineering, Universität Rostock. Please direct questions and suggestions to [Sascha.Spors@uni-rostock.de](mailto:Sascha.Spors@uni-rostock.de).*"
   ]
  },
  {
   "cell_type": "markdown",
   "metadata": {},
   "source": [
    "## Impulse Response\n",
    "\n",
    "The response $y(t)$ of a linear time-invariant (LTI) system $\\mathcal{H}$ to an arbitrary input signal $x(t)$ is derived in the following. The input signal can be represented as an integral when applying the [sifting-property of the Dirac impulse](../continuous_signals/standard_signals.ipynb#Dirac-Impulse)\n",
    "\n",
    "\\begin{equation}\n",
    "x(t) = \\int_{-\\infty}^{\\infty} x(\\tau) \\cdot \\delta(t-\\tau) \\; d \\tau\n",
    "\\end{equation}\n",
    "\n",
    "Introducing above relation for the the input signal $x(t)$ into the output signal $y(t) = \\mathcal{H} \\{ x(t) \\}$ of the system yields\n",
    "\n",
    "\\begin{equation}\n",
    "y(t) = \\mathcal{H} \\left\\{ \\int_{-\\infty}^{\\infty} x(\\tau) \\cdot \\delta(t-\\tau) \\; d \\tau \\right\\}\n",
    "\\end{equation}\n",
    "\n",
    "where $\\mathcal{H} \\{ \\cdot \\}$ denotes the system response operator. The integration and system response operator can be exchanged under the assumption that the system is linear\n",
    "\n",
    "\\begin{equation}\n",
    "y(t) = \\int_{-\\infty}^{\\infty}  x(\\tau) \\cdot \\mathcal{H} \\left\\{ \\delta(t-\\tau) \\right\\} \\; d \\tau \n",
    "\\end{equation}\n",
    "\n",
    "where $\\mathcal{H} \\{\\cdot\\}$ was only applied to the Dirac impulse, since $x(\\tau)$ can be regarded as constant factor with respect to the time $t$. It becomes evident that the response of a system to a Dirac impulse plays an important role in the calculation of the output signal for arbitrary input signals. \n",
    "\n",
    "The response of a system to a Dirac impulse as input signal is denoted as [*impulse response*](https://en.wikipedia.org/wiki/Impulse_response). It is defined as\n",
    "\n",
    "\\begin{equation}\n",
    "h(t) = \\mathcal{H} \\left\\{ \\delta(t) \\right\\}\n",
    "\\end{equation}\n",
    "\n",
    "If the system is time-invariant, the response to a shifted Dirac impulse is $\\mathcal{H} \\left\\{ \\delta(t-\\tau) \\right\\} = h(t-\\tau)$. Hence, for an LTI system we finally get\n",
    "\n",
    "\\begin{equation}\n",
    "y(t) = \\int_{-\\infty}^{\\infty}  x(\\tau) \\cdot h(t-\\tau) \\; d \\tau \n",
    "\\end{equation}\n",
    "\n",
    "Due to its relevance in the theory of LTI systems, this operation is explicitly termed as [*convolution*](https://en.wikipedia.org/wiki/Convolution). It is commonly abbreviated by $*$, hence for above integral we get $y(t) = x(t) * h(t)$. In some books the mathematically more correct denotation $y(t) = (x*h)(t)$, since $*$ is the operator acting on two signals $x$ and $h$ with regard to time $t$.\n",
    "\n",
    "In can be concluded that the properties of an LTI system are entirely characterized by its impulse response. The response $y(t)$ of a system to an arbitrary input signal $x(t)$ is given by the convolution of the input signal $x(t)$ with its impulse response $h(t)$."
   ]
  },
  {
   "cell_type": "markdown",
   "metadata": {},
   "source": [
    "**Example**\n",
    "\n",
    "The following example considers an LTI system whose relation between input $x(t)$ and output $y(t)$ is given by an ordinary differential equation (ODE) with constant coefficients\n",
    "\n",
    "\\begin{equation}\n",
    "y(t) + \\frac{d}{dt} y(t) = x(t)\n",
    "\\end{equation}\n",
    "\n",
    "The system response is computed for the input signal $x(t) = e^{- 2 t} \\cdot \\epsilon(t)$ by \n",
    "\n",
    "1. explicitly solving the ODE and by \n",
    "2. computing the impulse response $h(t)$ and convolution with the input signal.\n",
    "\n",
    "The solution should fulfill the initial conditions $y(t)\\big\\vert_{t = 0-} = 0$ and $\\frac{d}{dt}y(t)\\big\\vert_{t = 0-} = 0$ due to causality.\n",
    "\n",
    "First the ODE is defined in `SymPy`"
   ]
  },
  {
   "cell_type": "code",
   "execution_count": 1,
   "metadata": {},
   "outputs": [
    {
     "data": {
      "image/png": "[encoded data removed]",
      "text/latex": [
       "$$y{\\left (t \\right )} + \\frac{d}{d t} y{\\left (t \\right )} = x{\\left (t \\right )}$$"
      ],
      "text/plain": [
       "       d              \n",
       "y(t) + ──(y(t)) = x(t)\n",
       "       dt             "
      ]
     },
     "execution_count": 1,
     "metadata": {},
     "output_type": "execute_result"
    }
   ],
   "source": [
    "%matplotlib inline\n",
    "import sympy as sym\n",
    "sym.init_printing()\n",
    "\n",
    "t = sym.symbols('t', real=True)\n",
    "x = sym.Function('x')(t)\n",
    "y = sym.Function('y')(t)\n",
    "\n",
    "ode = sym.Eq(y + y.diff(t) , x)\n",
    "ode"
   ]
  },
  {
   "cell_type": "markdown",
   "metadata": {},
   "source": [
    "The ODE is solved for the given input signal in order to calculate the output signal. The integration constant is calculated such that the solution fulfills the initial conditions"
   ]
  },
  {
   "cell_type": "code",
   "execution_count": 2,
   "metadata": {},
   "outputs": [
    {
     "data": {
      "image/png": "[encoded data removed]",
      "text/latex": [
       "$$y{\\left (t \\right )} = \\left(1 - e^{- t}\\right) e^{- t} \\theta\\left(t\\right)$$"
      ],
      "text/plain": [
       "       ⎛     -t⎞  -t             \n",
       "y(t) = ⎝1 - ℯ  ⎠⋅ℯ  ⋅Heaviside(t)"
      ]
     },
     "execution_count": 2,
     "metadata": {},
     "output_type": "execute_result"
    }
   ],
   "source": [
    "solution = sym.dsolve(ode.subs(x, sym.exp(-2*t)*sym.Heaviside(t)))\n",
    "integration_constants = sym.solve( (solution.rhs.limit(t, 0, '-'), solution.rhs.diff(t).limit(t, 0, '-')), 'C1' )\n",
    "y1 = solution.subs(integration_constants)\n",
    "y1"
   ]
  },
  {
   "cell_type": "markdown",
   "metadata": {},
   "source": [
    "Lets plot the output signal derived by explicit solution of the ODE"
   ]
  },
  {
   "cell_type": "code",
   "execution_count": 3,
   "metadata": {},
   "outputs": [
    {
     "data": {
      "image/png": "[encoded data removed]",
      "text/plain": [
       "<Figure size 432x288 with 1 Axes>"
      ]
     },
     "metadata": {},
     "output_type": "display_data"
    }
   ],
   "source": [
    "sym.plot(y1.rhs, (t,-1,10), ylabel=r'$y(t)$');"
   ]
  },
  {
   "cell_type": "markdown",
   "metadata": {},
   "source": [
    "The impulse response $h(t)$ is computed by solving the ODE for a Dirac impulse as input signal, $x(t) = \\delta(t)$"
   ]
  },
  {
   "cell_type": "code",
   "execution_count": 4,
   "metadata": {},
   "outputs": [
    {
     "data": {
      "image/png": "[encoded data removed]",
      "text/latex": [
       "$$h{\\left (t \\right )} = e^{- t} \\theta\\left(t\\right)$$"
      ],
      "text/plain": [
       "        -t             \n",
       "h(t) = ℯ  ⋅Heaviside(t)"
      ]
     },
     "execution_count": 4,
     "metadata": {},
     "output_type": "execute_result"
    }
   ],
   "source": [
    "h = sym.Function('h')(t)\n",
    "solution2 = sym.dsolve(ode.subs(x, sym.DiracDelta(t)).subs(y, h))\n",
    "integration_constants = sym.solve( (solution2.rhs.limit(t, 0, '-'), solution2.rhs.diff(t).limit(t, 0, '-')), 'C1' )\n",
    "h = solution2.subs(integration_constants)\n",
    "h"
   ]
  },
  {
   "cell_type": "markdown",
   "metadata": {},
   "source": [
    "Lets plot the impulse response $h(t)$ of the LTI system"
   ]
  },
  {
   "cell_type": "code",
   "execution_count": 5,
   "metadata": {},
   "outputs": [
    {
     "data": {
      "image/png": "[encoded data removed]",
      "text/plain": [
       "<Figure size 432x288 with 1 Axes>"
      ]
     },
     "metadata": {},
     "output_type": "display_data"
    }
   ],
   "source": [
    "sym.plot(h.rhs, (t,-1,10), ylabel=r'$h(t)$');"
   ]
  },
  {
   "cell_type": "markdown",
   "metadata": {},
   "source": [
    "As alternative to the explicit solution of the ODE, the system response is computed by evaluating the convolution $y(t) = x(t) * h(t)$. Since `SymPy` cannot handle the Heaviside function properly in integrands, the convolution integral is first simplified. Both the input signal $x(t)$ and the impulse response $h(t)$ are causal signals. Hence, the convolution integral degenerates to\n",
    "\n",
    "\\begin{equation}\n",
    "y(t) = \\int_{0}^{t} x(\\tau) \\cdot h(t - \\tau) \\; d\\tau\n",
    "\\end{equation}\n",
    "\n",
    "for $t \\geq 0$. Note that $y(t) = 0$ for $t<0$."
   ]
  },
  {
   "cell_type": "code",
   "execution_count": 6,
   "metadata": {},
   "outputs": [
    {
     "data": {
      "image/png": "[encoded data removed]",
      "text/latex": [
       "$$e^{- t} - e^{- 2 t}$$"
      ],
      "text/plain": [
       " -t    -2⋅t\n",
       "ℯ   - ℯ    "
      ]
     },
     "execution_count": 6,
     "metadata": {},
     "output_type": "execute_result"
    }
   ],
   "source": [
    "tau = sym.symbols('tau', real=True)\n",
    "\n",
    "y2 = sym.integrate(sym.exp(-2*tau) * h.rhs.subs(sym.Heaviside(t), 1).subs(t, t-tau), (tau, 0, t))\n",
    "y2"
   ]
  },
  {
   "cell_type": "markdown",
   "metadata": {},
   "source": [
    "Lets plot the output signal derived by evaluation of the convolution"
   ]
  },
  {
   "cell_type": "code",
   "execution_count": 7,
   "metadata": {},
   "outputs": [
    {
     "data": {
      "image/png": "[encoded data removed]",
      "text/plain": [
       "<Figure size 432x288 with 1 Axes>"
      ]
     },
     "metadata": {},
     "output_type": "display_data"
    }
   ],
   "source": [
    "sym.plot(y2, (t,0,10), ylabel=r'$y(t)$');"
   ]
  },
  {
   "cell_type": "markdown",
   "metadata": {},
   "source": [
    "**Exercise**\n",
    "\n",
    "* Compare the output signal derived by explicit solution of the ODE with the signal derived by convolution. Are both equal?\n",
    "* Check if the impulse response $h(t)$ is a solution of the ODE by manual calculation. Hint $\\frac{d}{dt} \\epsilon(t) = \\delta(t)$.\n",
    "* Check the solution of the convolution integral by manual calculation including the Heaviside functions."
   ]
  },
  {
   "cell_type": "markdown",
   "metadata": {
    "nbsphinx": "hidden"
   },
   "source": [
    "**Copyright**\n",
    "\n",
    "The notebooks are provided as [Open Educational Resource](https://de.wikipedia.org/wiki/Open_Educational_Resources). Feel free to use the notebooks for your own educational purposes. The text is licensed under [Creative Commons Attribution 4.0](https://creativecommons.org/licenses/by/4.0/), the code of the IPython examples under the [MIT license](https://opensource.org/licenses/MIT). Please attribute the work as follows: *Lecture Notes on Signals and Systems* by Sascha Spors."
   ]
  }
 ],
 "metadata": {
  "kernelspec": {
   "display_name": "Python 3",
   "language": "python",
   "name": "python3"
  },
  "language_info": {
   "codemirror_mode": {
    "name": "ipython",
    "version": 3
   },
   "file_extension": ".py",
   "mimetype": "text/x-python",
   "name": "python",
   "nbconvert_exporter": "python",
   "pygments_lexer": "ipython3",
   "version": "3.7.2"
  }
 },
 "nbformat": 4,
 "nbformat_minor": 1
}
