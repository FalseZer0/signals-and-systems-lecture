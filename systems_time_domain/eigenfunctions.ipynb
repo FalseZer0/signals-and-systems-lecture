{
 "cells": [
  {
   "cell_type": "markdown",
   "metadata": {
    "nbsphinx": "hidden"
   },
   "source": [
    "# Characterization of Systems in the Time Domain\n",
    "\n",
    "*This Jupyter notebook is part of a [collection of notebooks](../index.ipynb) in the bachelors module Signals and Systems, Communications Engineering, Universität Rostock. Please direct questions and suggestions to [Sascha.Spors@uni-rostock.de](mailto:Sascha.Spors@uni-rostock.de).*"
   ]
  },
  {
   "cell_type": "markdown",
   "metadata": {},
   "source": [
    "## Eigenfunctions\n",
    "\n",
    "An [eigenfunction](https://en.wikipedia.org/wiki/Eigenfunction) of a system is defined as the input signal $x(t)$ which produces the output signal $y(t) = \\mathcal{H}\\{ x(t) \\} = \\lambda \\cdot x(t)$ with $\\lambda \\in \\mathbb{C}$. The weight $\\lambda$ associated with $x(t)$ is known as scalar eigenvalue of the system. Hence besides a weighting factor, an eigenfunction is not modified by passing through the system.\n",
    "\n",
    "[Complex exponential signals](../continuous_signals/standard_signals.ipynb#Complex-Exponential-Signal) $e^{s t}$ with $s \\in \\mathbb{C}$ are eigenfunctions of linear time-invariant (LTI) systems. This can be proven by applying the properties of LTI systems. Lets assume a generic LTI system with input signal $x(t) = e^{s t}$ and output signal $y(t) = \\mathcal{H}\\{ x(t) \\}$. The response of the LTI system to the shifted input signal $x(t-\\tau) = e^{s (t-\\tau)}$ reads\n",
    "\n",
    "\\begin{equation}\n",
    "y(t - \\tau) = \\mathcal{H}\\{ x(t-\\tau) \\} = \\mathcal{H}\\{ e^{-s \\tau} \\cdot e^{s t}  \\}\n",
    "\\end{equation}\n",
    "\n",
    "due to the assumed linearity of the system this can be reformulated as\n",
    "\n",
    "\\begin{equation}\n",
    "y(t - \\tau) =  e^{-s \\tau} \\cdot \\mathcal{H}\\{ e^{s t}  \\} = e^{-s \\tau} \\cdot y(t)\n",
    "\\end{equation}\n",
    "\n",
    "It is straightforward to show that $y(t) = \\lambda e^{st}$ fulfills above difference equation\n",
    "\n",
    "\\begin{equation}\n",
    "\\lambda e^{s t} e^{-s \\tau} = e^{-s \\tau} \\lambda e^{st}\n",
    "\\end{equation}"
   ]
  },
  {
   "cell_type": "markdown",
   "metadata": {},
   "source": [
    "**Example**\n",
    "\n",
    "An LTI system whose input/output relation is given by the following inhomogeneous linear ordinary differential equation (ODE) with constant coefficients is considered\n",
    "\n",
    "\\begin{equation}\n",
    "a_0 y(t) + a_1 \\frac{d y(t)}{dt} + a_2 \\frac{d^2 y(t)}{dt^2} = x(t)\n",
    "\\end{equation}\n",
    "\n",
    "with $a_i \\in \\mathbb{R} \\quad \\forall i$. In the remainder, the output signal $y(t)$ of the system is computed by explicit solution of the ODE for $x(t) = e^{s t}$ as input signal. Integration constants are discarded for ease of illustration."
   ]
  },
  {
   "cell_type": "code",
   "execution_count": 1,
   "metadata": {},
   "outputs": [
    {
     "data": {
      "image/png": "[encoded data removed]",
      "text/latex": [
       "$$y{\\left (t \\right )} = \\frac{e^{s t}}{a_{0} + a_{1} s + a_{2} s^{2}}$$"
      ],
      "text/plain": [
       "               s⋅t      \n",
       "              ℯ         \n",
       "y(t) = ─────────────────\n",
       "                       2\n",
       "       a₀ + a₁⋅s + a₂⋅s "
      ]
     },
     "execution_count": 1,
     "metadata": {},
     "output_type": "execute_result"
    }
   ],
   "source": [
    "%matplotlib inline\n",
    "import sympy as sym\n",
    "sym.init_printing()\n",
    "\n",
    "t, s, a0, a1, a2 = sym.symbols('t s a:3')\n",
    "x = sym.exp(s * t)\n",
    "y = sym.Function('y')(t)\n",
    "\n",
    "ode = sym.Eq(a0*y + a1*y.diff(t) + a2*y.diff(t,2), x)\n",
    "solution = sym.dsolve(ode)\n",
    "solution.subs({'C1': 0, 'C2' : 0})"
   ]
  },
  {
   "cell_type": "markdown",
   "metadata": {},
   "source": [
    "**Exercises**\n",
    "\n",
    "* Is the complex exponential signal an eigenfunction of the system?\n",
    "* Introduce $x(t) = e^{s t}$ and $y(t) = \\lambda \\cdot e^{s t}$ into the ODE and solve manually for the eigenvalue $\\lambda$. How is the result related to above result derived by solving the ODE?\n",
    "* Can you generalize your findings to an ODE of arbitrary order?"
   ]
  },
  {
   "cell_type": "markdown",
   "metadata": {},
   "source": [
    "**Example**\n",
    "\n",
    "The following inhomogeneous linear ODE with time-dependent coefficient is considered as an example for a time-variant linear system\n",
    "\n",
    "\\begin{equation}\n",
    "t \\cdot \\frac{d y(t)}{dt} = x(t)\n",
    "\\end{equation}\n",
    "\n",
    "The output signal $y(t)$ of the system for a complex exponential signal at the input $x(t) = e^{st}$ is computed by explicit solution of the ODE. Again integration constants are discarded."
   ]
  },
  {
   "cell_type": "code",
   "execution_count": 2,
   "metadata": {},
   "outputs": [
    {
     "data": {
      "image/png": "[encoded data removed]",
      "text/latex": [
       "$$y{\\left (t \\right )} = \\operatorname{Ei}{\\left (s t \\right )}$$"
      ],
      "text/plain": [
       "y(t) = Ei(s⋅t)"
      ]
     },
     "execution_count": 2,
     "metadata": {},
     "output_type": "execute_result"
    }
   ],
   "source": [
    "ode = sym.Eq(t*y.diff(t), x)\n",
    "solution = sym.dsolve(ode)\n",
    "solution.subs('C1', 0)"
   ]
  },
  {
   "cell_type": "markdown",
   "metadata": {},
   "source": [
    "Note, $\\text{Ei}(\\cdot)$ denotes the [exponential integral](http://docs.sympy.org/latest/modules/functions/special.html#sympy.functions.special.error_functions.Ei). The response $y(t)$ of the time-variant system is not equal to a weighted complex exponential signal $\\lambda \\cdot e^{s t}$. It can be concluded that complex exponentials are no eigenfunctions of this particular time-variant system."
   ]
  },
  {
   "cell_type": "markdown",
   "metadata": {},
   "source": [
    "**Example**\n",
    "\n",
    "A final example considers the following non-linear inhomogeneous ODE with constant coefficients\n",
    "\n",
    "\\begin{equation}\n",
    "\\left( \\frac{d y(t)}{dt} \\right)^2 = x(t)\n",
    "\\end{equation}\n",
    "\n",
    "as example for a non-linear time-invariant system. Again, the output signal $y(t)$ of the system for a complex exponential signal at the input $x(t) = e^{st}$ is computed by explicit solution of the ODE. As before, integration constants are discarded."
   ]
  },
  {
   "cell_type": "code",
   "execution_count": 3,
   "metadata": {},
   "outputs": [
    {
     "data": {
      "image/png": "[encoded data removed]",
      "text/latex": [
       "$$y{\\left (t \\right )} = \\begin{cases} - t & \\text{for}\\: s = 0 \\\\- \\frac{2}{s} \\sqrt{e^{s t}} & \\text{otherwise} \\end{cases}$$"
      ],
      "text/plain": [
       "       ⎧     -t        for s = 0\n",
       "       ⎪                        \n",
       "       ⎪      ______            \n",
       "y(t) = ⎨     ╱  s⋅t             \n",
       "       ⎪-2⋅╲╱  ℯ                \n",
       "       ⎪─────────────  otherwise\n",
       "       ⎩      s                 "
      ]
     },
     "execution_count": 3,
     "metadata": {},
     "output_type": "execute_result"
    }
   ],
   "source": [
    "ode = sym.Eq(y.diff(t)**2, x)\n",
    "solution = sym.dsolve(ode)\n",
    "solution.subs('C1', 0)"
   ]
  },
  {
   "cell_type": "markdown",
   "metadata": {},
   "source": [
    "Obviously for this non-linear system complex exponential signals are no eigenfunctions."
   ]
  },
  {
   "cell_type": "markdown",
   "metadata": {},
   "source": [
    "## Transfer Function\n",
    "\n",
    "The complex eigenvalue $\\lambda$ characterizes the properties of the transfer of a complex exponential signal $e^{st}$ with complex frequency $s$ through an LTI system. It is commonly termed as [*transfer function*](https://en.wikipedia.org/wiki/Transfer_function) and denoted by $H(s)=\\lambda(s)$. Using this definition, the output signal $y(t)$ of an LTI system for a complex exponential signal at the input reads\n",
    "\n",
    "\\begin{equation}\n",
    "y(t) = \\mathcal{H} \\{ e^{st} \\} = H(s) \\cdot e^{st}\n",
    "\\end{equation}\n",
    "\n",
    "Note that the concept of the transfer function is directly linked to the linearity and time-invariance of a system. Only in this case, complex exponential signals are eigenfunctions of the system and $H(s)$ describes the properties of an LTI system with respect to these.\n",
    "\n",
    "Above equation can be rewritten in terms of the magnitude $| H(s) |$ and phase $\\varphi(s) = \\arg \\{ H(s) \\}$ of the complex transfer function $H(s)$\n",
    "\n",
    "\\begin{equation}\n",
    "y(t) = | H(s) | \\cdot e^{s t + j \\varphi(s)}\n",
    "\\end{equation}\n",
    "\n",
    "The magnitude $| H(s) |$ provides the frequency dependent attenuation of the eigenfunction $e^{st}$ by the system, while $\\varphi(s)$ provides the introduced phase-shift."
   ]
  },
  {
   "cell_type": "markdown",
   "metadata": {},
   "source": [
    "## Link between Transfer Function and Impulse Response\n",
    "\n",
    "In order to establish the link between the transfer function $H(s)$ and the impulse response $h(t)$ the output signal $y(t) = \\mathcal{H} \\{ x(t) \\}$ of an LTI system with input signal $x(t)$ is considered. It is given by convolving the input signal with the impulse response\n",
    "\n",
    "\\begin{equation}\n",
    "y(t) = x(t) * h(t) = \\int_{-\\infty}^{\\infty} x(t-\\tau) \\cdot h(\\tau) \\; d\\tau\n",
    "\\end{equation}\n",
    "\n",
    "For a complex exponential signal as input $x(t) = e^{st}$, the output of an LTI system is given as $y(t) = \\mathcal{H} \\{ e^{st} \\} = H(s) \\cdot e^{st}$. Introducing both signals into above convolution yields\n",
    "\n",
    "\\begin{equation}\n",
    "H(s) \\cdot e^{st} = \\int_{-\\infty}^{\\infty} e^{st} e^{-s \\tau} \\cdot h(\\tau) \\; d\\tau\n",
    "\\end{equation}\n",
    "\n",
    "which after rearranging terms results in\n",
    "\n",
    "\\begin{equation}\n",
    "H(s) = \\int_{-\\infty}^{\\infty} h(\\tau) \\cdot e^{-s \\tau}  \\; d\\tau\n",
    "\\end{equation}\n",
    "\n",
    "under the assumption that the integral converges.\n",
    "The transfer function $H(s)$ can be computed from the impulse response $h(t)$ by integrating over the impulse response multiplied with the complex exponential function $e^{- s t}$. This constitutes an integral transformation, which is later introduced in more detail as [Laplace transform](https://en.wikipedia.org/wiki/Laplace_transform)."
   ]
  },
  {
   "cell_type": "markdown",
   "metadata": {
    "nbsphinx": "hidden"
   },
   "source": [
    "**Copyright**\n",
    "\n",
    "The notebooks are provided as [Open Educational Resource](https://de.wikipedia.org/wiki/Open_Educational_Resources). Feel free to use the notebooks for your own educational purposes. The text is licensed under [Creative Commons Attribution 4.0](https://creativecommons.org/licenses/by/4.0/), the code of the IPython examples under the [MIT license](https://opensource.org/licenses/MIT). Please attribute the work as follows: *Lecture Notes on Signals and Systems* by Sascha Spors."
   ]
  }
 ],
 "metadata": {
  "kernelspec": {
   "display_name": "Python 3",
   "language": "python",
   "name": "python3"
  },
  "language_info": {
   "codemirror_mode": {
    "name": "ipython",
    "version": 3
   },
   "file_extension": ".py",
   "mimetype": "text/x-python",
   "name": "python",
   "nbconvert_exporter": "python",
   "pygments_lexer": "ipython3",
   "version": "3.6.4"
  }
 },
 "nbformat": 4,
 "nbformat_minor": 1
}
