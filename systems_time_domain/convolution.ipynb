{
 "cells": [
  {
   "cell_type": "markdown",
   "metadata": {
    "nbsphinx": "hidden"
   },
   "source": [
    "# Characterization of Systems in the Time Domain\n",
    "\n",
    "*This Jupyter notebook is part of a [collection of notebooks](../index.ipynb) in the bachelors module Signals and Systems, Communications Engineering, Universität Rostock. Please direct questions and suggestions to [Sascha.Spors@uni-rostock.de](mailto:Sascha.Spors@uni-rostock.de).*"
   ]
  },
  {
   "cell_type": "markdown",
   "metadata": {},
   "source": [
    "## Convolution\n",
    "\n",
    "The convolution is an important operation in the theory of signals and systems, as shown in the previous Section. It also shows up in a wide range of other physics and mathematical problems. The operation is therefore of general interest and well known in mathematics. The properties of the convolution are reviewed, followed by a widely used graphical interpretation of the operation.\n",
    "\n",
    "The convolution of two signals $s(t)$ and $g(t)$ is defined as\n",
    "\n",
    "\\begin{equation}\n",
    "s(t) * g(t) = \\int_{-\\infty}^{\\infty} s(\\tau) \\cdot g(t - \\tau) \\; d\\tau = \n",
    "\\int_{-\\infty}^{\\infty} s(t - \\tau) \\cdot g(\\tau) \\; d\\tau\n",
    "\\end{equation}\n",
    "\n",
    "where $*$ is a common short-hand notation of the convolution. "
   ]
  },
  {
   "cell_type": "markdown",
   "metadata": {},
   "source": [
    "### Properties\n",
    "\n",
    "For the signals $s(t)$, $g(t)$, $h(t) \\in \\mathbb{C}$ the convolution shows the following properties \n",
    "\n",
    "1. The Dirac impulse is the [identity element](https://en.wikipedia.org/wiki/Identity_element) of the convolution\n",
    "    \\begin{equation}\n",
    "    s(t) * \\delta(t) = s(t)\n",
    "    \\end{equation}\n",
    "\n",
    "2. The convolution is [commutative](https://en.wikipedia.org/wiki/Commutative_property)\n",
    "    \\begin{equation}\n",
    "    s(t) * g(t) = g(t) * s(t)\n",
    "    \\end{equation}\n",
    "\n",
    "3. The convolution is [associative](https://en.wikipedia.org/wiki/Associative_property)\n",
    "    \\begin{equation}\n",
    "    \\left[ s(t) * g(t) \\right] * h(t) = s(t) * \\left[ g(t) * h(t) \\right] \n",
    "    \\end{equation}\n",
    "\n",
    "5. The convolution is [distributive](https://en.wikipedia.org/wiki/Distributive_property)\n",
    "    \\begin{equation}\n",
    "    s(t) * \\left[ g(t) + h(t) \\right] = s(t) * g(t) + s(t) * h(t)\n",
    "    \\end{equation}\n",
    "\n",
    "5. Multiplication with a scalar $a \\in \\mathbb{C}$\n",
    "    \\begin{equation}\n",
    "    a \\cdot \\left[ s(t) * g(t) \\right] = \\left[ a \\cdot s(t) \\right] * g(t) = s(t) * \\left[ a \\cdot g(t) \\right]\n",
    "    \\end{equation}\n",
    "\n",
    "6. Derivative of the convolution\n",
    "    \\begin{equation}\n",
    "    \\frac{d}{dt} \\left[ s(t) * g(t) \\right] =  \\frac{d s(t)}{dt} * g(t) = s(t) * \\frac{d g(t)}{dt}\n",
    "    \\end{equation}\n",
    "\n",
    "The first property is a consequence of the sifting property of the Dirac pulse, the second to fifth property can be proven by considering the definition of the convolution integral and the sixth property follows from the properties of the derivative of the Dirac delta function."
   ]
  },
  {
   "cell_type": "markdown",
   "metadata": {},
   "source": [
    "### Graphical Interpretation\n",
    "\n",
    "The convolution is commonly [interpreted in a graphical manner](https://en.wikipedia.org/wiki/Convolution#Visual_explanation). This interpretation provides valuable insights into its calculation and allows to derive a first estimate of the result. The calculation of the convolution integral\n",
    "\n",
    "\\begin{equation}\n",
    "y(t) = \\int_{-\\infty}^{\\infty} x(\\tau) \\cdot h(t-\\tau) \\; d\\tau\n",
    "\\end{equation}\n",
    "\n",
    "\n",
    "can be decomposed into four subsequent operations:\n",
    "\n",
    "1. substitute $t$ by $\\tau$ in both $x(t)$ and $h(t)$,\n",
    "\n",
    "2. time-reverse $h(\\tau)$ (reflection at vertical axis),\n",
    "\n",
    "3. shift $h(-\\tau)$ by $t$ to the right to yield $h(t - \\tau)$,\n",
    "\n",
    "4. shift $h(t - \\tau)$ for $t = -\\infty \\dots \\infty$, check if it overlaps with $x(\\tau)$ and calculate the convolution integral for the overlapping sections.\n",
    "\n",
    "The graphical interpretation of these operations is illustrated in the remainder by an example. "
   ]
  },
  {
   "cell_type": "markdown",
   "metadata": {},
   "source": [
    "**Example**\n",
    "\n",
    "The convolution $y(t) = x(t) * h(t)$ is illustrated using the particular signals\n",
    "\n",
    "\\begin{align}\n",
    "h(t) &= e^{-t} \\\\\n",
    "x(t) &= \\text{rect} \\left(t - \\frac{1}{2}\\right)\n",
    "\\end{align}\n",
    "\n",
    "Before proceeding, helper functions for the rectangular signal and plotting of the signals are defined"
   ]
  },
  {
   "cell_type": "code",
   "execution_count": 1,
   "metadata": {},
   "outputs": [],
   "source": [
    "%matplotlib inline\n",
    "import sympy as sym\n",
    "sym.init_printing()\n",
    "\n",
    "t, tau = sym.symbols('t tau', real=True)"
   ]
  },
  {
   "cell_type": "code",
   "execution_count": 2,
   "metadata": {},
   "outputs": [],
   "source": [
    "class rect(sym.Function):\n",
    "\n",
    "    @classmethod\n",
    "    def eval(cls, arg):\n",
    "        return sym.Heaviside(arg + sym.S.Half) - sym.Heaviside(arg - sym.S.Half)"
   ]
  },
  {
   "cell_type": "code",
   "execution_count": 3,
   "metadata": {},
   "outputs": [],
   "source": [
    "def plot_signals(x_axis, x, h, ylabel, xlabel):\n",
    "    p1 = sym.plot(x, (x_axis, -5, 5), show=False, line_color='b', ylabel=ylabel, xlabel=xlabel)\n",
    "    p2 = sym.plot(h, (x_axis, -5, 5), show=False, line_color='r')\n",
    "    p1.extend(p2)\n",
    "    p1.show()"
   ]
  },
  {
   "cell_type": "markdown",
   "metadata": {},
   "source": [
    "Now lets define and plot the signals. In the following, the impulse response $h(t)$ is illustrated by the red graph and the input signal $x(t)$ by the blue graph."
   ]
  },
  {
   "cell_type": "code",
   "execution_count": 4,
   "metadata": {},
   "outputs": [
    {
     "data": {
      "image/png": "[encoded data removed]",
      "text/plain": [
       "<Figure size 432x288 with 1 Axes>"
      ]
     },
     "metadata": {},
     "output_type": "display_data"
    }
   ],
   "source": [
    "h = sym.exp(-t) * sym.Heaviside(t)\n",
    "x = rect(t - 1/2)\n",
    "\n",
    "plot_signals(t, x, h, r'$h(t)$, $x(t)$', r'$t$')"
   ]
  },
  {
   "cell_type": "markdown",
   "metadata": {},
   "source": [
    "The **first step** is to substitute $t$ by $\\tau$ to yield $h(\\tau)$ and $x(\\tau)$. Note, the horizontal axis of the plot represents now $\\tau$"
   ]
  },
  {
   "cell_type": "code",
   "execution_count": 5,
   "metadata": {},
   "outputs": [
    {
     "data": {
      "image/png": "[encoded data removed]",
      "text/plain": [
       "<Figure size 432x288 with 1 Axes>"
      ]
     },
     "metadata": {},
     "output_type": "display_data"
    }
   ],
   "source": [
    "h1 = h.subs(t, tau)\n",
    "x1 = x.subs(t, tau)\n",
    "\n",
    "plot_signals(tau, x1, h1, r'$h(\\tau)$, $x(\\tau)$', r'$\\tau$')"
   ]
  },
  {
   "cell_type": "markdown",
   "metadata": {},
   "source": [
    "The **second step** is to time-reverse $h(\\tau)$ to yield $h(-\\tau)$"
   ]
  },
  {
   "cell_type": "code",
   "execution_count": 6,
   "metadata": {},
   "outputs": [
    {
     "data": {
      "image/png": "[encoded data removed]",
      "text/plain": [
       "<Figure size 432x288 with 1 Axes>"
      ]
     },
     "metadata": {},
     "output_type": "display_data"
    }
   ],
   "source": [
    "h2 = h1.subs(tau, -tau)\n",
    "\n",
    "plot_signals(tau, x1, h2, r'$h(-\\tau)$, $x(\\tau)$', r'$\\tau$')"
   ]
  },
  {
   "cell_type": "markdown",
   "metadata": {},
   "source": [
    "The impulse response $h(-\\tau)$ is shifted by $t$ to the right in the **third step** to yield $h(t - \\tau)$. This is illustrated for $t = -2$"
   ]
  },
  {
   "cell_type": "code",
   "execution_count": 7,
   "metadata": {},
   "outputs": [
    {
     "data": {
      "image/png": "[encoded data removed]",
      "text/plain": [
       "<Figure size 432x288 with 1 Axes>"
      ]
     },
     "metadata": {},
     "output_type": "display_data"
    }
   ],
   "source": [
    "h3 = h2.subs(tau, tau-t)\n",
    "\n",
    "plot_signals(tau, x1, h3.subs(t, -2), r'$h(t-\\tau)$, $x(\\tau)$', r'$\\tau$')"
   ]
  },
  {
   "cell_type": "markdown",
   "metadata": {},
   "source": [
    "It now becomes obvious that we have to consider three cases with respect to the overlap of $h(t-\\tau)$ and $x(\\tau)$\n",
    "\n",
    "1. $t<0$: no overlap\n",
    "2. $0 \\leq t < 1$: partial overlap\n",
    "3. $t > 0$: full overlap\n",
    "\n",
    "The **fourth step**, the evaluation of the convolution integrals for the three cases is left open as an exercise. Note, since in the first case no overlap occurs $y(t) = 0$ for $t<0$."
   ]
  },
  {
   "cell_type": "markdown",
   "metadata": {
    "nbsphinx": "hidden"
   },
   "source": [
    "**Copyright**\n",
    "\n",
    "The notebooks are provided as [Open Educational Resource](https://de.wikipedia.org/wiki/Open_Educational_Resources). Feel free to use the notebooks for your own educational purposes. The text is licensed under [Creative Commons Attribution 4.0](https://creativecommons.org/licenses/by/4.0/), the code of the IPython examples under the [MIT license](https://opensource.org/licenses/MIT). Please attribute the work as follows: *Lecture Notes on Signals and Systems* by Sascha Spors."
   ]
  }
 ],
 "metadata": {
  "kernelspec": {
   "display_name": "Python 3",
   "language": "python",
   "name": "python3"
  },
  "language_info": {
   "codemirror_mode": {
    "name": "ipython",
    "version": 3
   },
   "file_extension": ".py",
   "mimetype": "text/x-python",
   "name": "python",
   "nbconvert_exporter": "python",
   "pygments_lexer": "ipython3",
   "version": "3.6.4"
  }
 },
 "nbformat": 4,
 "nbformat_minor": 1
}
