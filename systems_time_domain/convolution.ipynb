{
 "cells": [
  {
   "cell_type": "markdown",
   "metadata": {
    "nbsphinx": "hidden"
   },
   "source": [
    "# Characterization of Systems in the Time Domain\n",
    "\n",
    "*This Jupyter notebook is part of a [collection of notebooks](../index.ipynb) in the bachelors module Signals and Systems, Comunications Engineering, Universität Rostock. Please direct questions and suggestions to <mailto:Sascha.Spors@uni-rostock.de>.*"
   ]
  },
  {
   "cell_type": "markdown",
   "metadata": {},
   "source": [
    "## Convolution\n",
    "\n",
    "The convolution of two signals $s(t)$ and $g(t)$ is defined as\n",
    "\n",
    "\\begin{equation}\n",
    "\\int_{-\\infty}^{\\infty} s(\\tau) \\cdot g(t - \\tau) \\; d\\tau = s(t) * g(t)\n",
    "\\end{equation}\n",
    "\n",
    "where $*$ is a common short-hand notation of the convolution integral. As shown in the previous Section, the convolution is an important operation in the theory of signals and systems. Its properties are therefore of general interest."
   ]
  },
  {
   "cell_type": "markdown",
   "metadata": {},
   "source": [
    "### Properties\n",
    "\n",
    "For the signals $s(t)$, $g(t)$, $h(t) \\in \\mathbb{C}$ the convolution shows the following properties \n",
    "\n",
    "1. The Dirac impulse is the [identity element](https://en.wikipedia.org/wiki/Identity_element) of the convolution\n",
    "    \\begin{equation}\n",
    "    s(t) * \\delta(t) = s(t)\n",
    "    \\end{equation}\n",
    "    \n",
    "2. The convolution is [commutative](https://en.wikipedia.org/wiki/Commutative_property)\n",
    "    \\begin{equation}\n",
    "    s(t) * g(t) = g(t) * s(t)\n",
    "    \\end{equation}\n",
    "    \n",
    "3. The convolution is [associative](https://en.wikipedia.org/wiki/Associative_property)\n",
    "    \\begin{equation}\n",
    "    \\left[ s(t) * g(t) \\right] * h(t) = s(t) * \\left[ g(t) * h(t) \\right] \n",
    "    \\end{equation}\n",
    "\n",
    "5. The convolution is [distributive](https://en.wikipedia.org/wiki/Distributive_property)\n",
    "    \\begin{equation}\n",
    "    s(t) * \\left[ g(t) + h(t) \\right] = s(t) * g(t) + s(t) * h(t)\n",
    "    \\end{equation}\n",
    "\n",
    "5. Multiplication with a scalar $a \\in \\mathbb{C}$\n",
    "    \\begin{equation}\n",
    "    a \\cdot \\left[ s(t) * g(t) \\right] = \\left[ a \\cdot s(t) \\right] * g(t) = s(t) * \\left[ a \\cdot g(t) \\right]\n",
    "    \\end{equation}\n",
    "\n",
    "6. Derivative of the convolution\n",
    "    \\begin{equation}\n",
    "    \\frac{d}{dt} \\left[ s(t) * g(t) \\right] =  \\frac{d s(t)}{dt} * g(t) = s(t) * \\frac{d g(t)}{dt}\n",
    "    \\end{equation}\n",
    "\n",
    "The first property is a consequence of the sifting property of the Dirac pulse, the second to fifth property can be proven by considering the definition of the convolution integral and the sixth property follows from the properties of the derivative of the Dirac delta function."
   ]
  },
  {
   "cell_type": "markdown",
   "metadata": {},
   "source": [
    "### Geometrical Interpretation\n",
    "\n",
    "The convolution can be [interpreted in a graphical manner](https://en.wikipedia.org/wiki/Convolution#Visual_explanation). This provides valuable insights into its calculation and allows to estimate its result. The calculation of the convolution integral \n",
    "\n",
    "\\begin{equation}\n",
    "y(t) = \\int_{-\\infty}^{\\infty} x(\\tau) \\cdot h(t-\\tau) \\; d\\tau\n",
    "\\end{equation}\n",
    "\n",
    "\n",
    "can be decomposed into four steps:\n",
    "\n",
    "1. substitute $t$ by $\\tau$ in both $x(t)$ and $h(t)$,\n",
    "\n",
    "2. time-reverse $h(\\tau)$ (reflection at vertical axis),\n",
    "\n",
    "3. shift $h(-\\tau)$ by $t$ to the right to yield $h(t - \\tau)$,\n",
    "\n",
    "4. shift $h(t - \\tau)$ from $t = -\\infty$ to $t = \\infty$, check if it overlaps with $x(\\tau)$ and calculate the convolution integral for the overlapping sections."
   ]
  },
  {
   "cell_type": "markdown",
   "metadata": {},
   "source": [
    "**Example**\n",
    "\n",
    "Above procedure is illustrated in the following example with\n",
    "\n",
    "\\begin{align}\n",
    "h(t) &= e^{-t} \\\\\n",
    "x(t) &= \\text{rect} \\left(t - \\frac{1}{2}\\right)\n",
    "\\end{align}\n",
    "\n",
    "Before proceeding, helper functions for the rectangular signal and plotting of the signals are defined"
   ]
  },
  {
   "cell_type": "code",
   "execution_count": 1,
   "metadata": {
    "collapsed": true
   },
   "outputs": [],
   "source": [
    "%matplotlib inline\n",
    "import sympy as sym\n",
    "sym.init_printing()\n",
    "\n",
    "t, tau = sym.symbols('t tau')"
   ]
  },
  {
   "cell_type": "code",
   "execution_count": 2,
   "metadata": {
    "collapsed": true
   },
   "outputs": [],
   "source": [
    "class rect(sym.Function):\n",
    "\n",
    "    @classmethod\n",
    "    def eval(cls, arg):\n",
    "        return sym.Heaviside(arg + sym.S.Half) - sym.Heaviside(arg - sym.S.Half)"
   ]
  },
  {
   "cell_type": "code",
   "execution_count": 3,
   "metadata": {
    "collapsed": false
   },
   "outputs": [],
   "source": [
    "def plot_signals(x_axis, x, h, ylabel, xlabel):\n",
    "    p1 = sym.plot(x, (x_axis, -5, 5), show=False, line_color='b', ylabel=ylabel, xlabel=xlabel)\n",
    "    p2 = sym.plot(h, (x_axis, -5, 5), show=False, line_color='r')\n",
    "    p1.extend(p2)\n",
    "    p1.show()"
   ]
  },
  {
   "cell_type": "markdown",
   "metadata": {},
   "source": [
    "Now lets define and plot the signals. In the following, the impulse response $h(t)$ is illustrated by the red graph and the input signal $x(t)$ by the blue graph."
   ]
  },
  {
   "cell_type": "code",
   "execution_count": 4,
   "metadata": {
    "collapsed": false
   },
   "outputs": [
    {
     "data": {
      "image/png": "[encoded data removed]",
      "text/plain": [
       "<matplotlib.figure.Figure at 0x10a129f60>"
      ]
     },
     "metadata": {},
     "output_type": "display_data"
    }
   ],
   "source": [
    "h = sym.exp(-t) * sym.Heaviside(t)\n",
    "x = rect(t - 1/2)\n",
    "\n",
    "plot_signals(t, x, h, r'$h(t)$, $x(t)$', r'$t$')"
   ]
  },
  {
   "cell_type": "markdown",
   "metadata": {},
   "source": [
    "The **first step** is to substitute $t$ by $\\tau$. The horizontal axis of the plot represents $\\tau$"
   ]
  },
  {
   "cell_type": "code",
   "execution_count": 5,
   "metadata": {
    "collapsed": false
   },
   "outputs": [
    {
     "data": {
      "image/png": "[encoded data removed]",
      "text/plain": [
       "<matplotlib.figure.Figure at 0x10ccd11d0>"
      ]
     },
     "metadata": {},
     "output_type": "display_data"
    }
   ],
   "source": [
    "h1 = h.subs(t, tau)\n",
    "x1 = x.subs(t, tau)\n",
    "\n",
    "plot_signals(tau, x1, h1, r'$h(\\tau)$, $x(\\tau)$', r'$\\tau$')"
   ]
  },
  {
   "cell_type": "markdown",
   "metadata": {},
   "source": [
    "The **second step** is to time-reverse $h(\\tau)$"
   ]
  },
  {
   "cell_type": "code",
   "execution_count": 6,
   "metadata": {
    "collapsed": false
   },
   "outputs": [
    {
     "data": {
      "image/png": "[encoded data removed]",
      "text/plain": [
       "<matplotlib.figure.Figure at 0x10cde6780>"
      ]
     },
     "metadata": {},
     "output_type": "display_data"
    }
   ],
   "source": [
    "h2 = h1.subs(tau, -tau)\n",
    "\n",
    "plot_signals(tau, x1, h2, r'$h(-\\tau)$, $x(\\tau)$', r'$\\tau$')"
   ]
  },
  {
   "cell_type": "markdown",
   "metadata": {},
   "source": [
    "The impulse response $h(-\\tau)$ is shifted by $t$ to the right in the **third step** to yield $h(t - \\tau)$ in the third step. This is illustrated for $t = -2$"
   ]
  },
  {
   "cell_type": "code",
   "execution_count": 7,
   "metadata": {
    "collapsed": false
   },
   "outputs": [
    {
     "data": {
      "image/png": "[encoded data removed]",
      "text/plain": [
       "<matplotlib.figure.Figure at 0x10cf1cc88>"
      ]
     },
     "metadata": {},
     "output_type": "display_data"
    }
   ],
   "source": [
    "h3 = h2.subs(tau, tau-t)\n",
    "\n",
    "plot_signals(tau, x1, h3.subs(t, -2), r'$h(t-\\tau)$, $x(\\tau)$', r'$\\tau$')"
   ]
  },
  {
   "cell_type": "markdown",
   "metadata": {},
   "source": [
    "It now becomes obvious that we have to consider three cases with respect to the overlap of $h(t-\\tau)$ and $x(\\tau)$\n",
    "\n",
    "1. $t<0$: no overlap\n",
    "2. $0 \\leq t < 1$: partial overlap\n",
    "3. $t > 0$: full overlap\n",
    "\n",
    "The **fourth step**, the evaluation of the convolution integral for the three cases is left open as an exercise."
   ]
  },
  {
   "cell_type": "markdown",
   "metadata": {
    "nbsphinx": "hidden"
   },
   "source": [
    "**Copyright**\n",
    "\n",
    "The notebooks are provided as [Open Educational Resource](https://de.wikipedia.org/wiki/Open_Educational_Resources). Feel free to use the notebooks for your own educational purposes. The text is licensed under [Creative Commons Attribution 4.0](https://creativecommons.org/licenses/by/4.0/), the code of the IPython examples under the [MIT license](https://opensource.org/licenses/MIT). Please attribute the work as follows: *Lecture Notes on Signals and Systems* by Sascha Spors."
   ]
  }
 ],
 "metadata": {
  "kernelspec": {
   "display_name": "Python 3",
   "language": "python",
   "name": "python3"
  },
  "language_info": {
   "codemirror_mode": {
    "name": "ipython",
    "version": 3
   },
   "file_extension": ".py",
   "mimetype": "text/x-python",
   "name": "python",
   "nbconvert_exporter": "python",
   "pygments_lexer": "ipython3",
   "version": "3.5.1"
  }
 },
 "nbformat": 4,
 "nbformat_minor": 0
}
