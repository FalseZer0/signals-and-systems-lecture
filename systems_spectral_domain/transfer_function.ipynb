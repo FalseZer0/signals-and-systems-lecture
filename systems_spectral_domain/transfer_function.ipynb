{
 "cells": [
  {
   "cell_type": "markdown",
   "metadata": {
    "nbsphinx": "hidden"
   },
   "source": [
    "# Characterization of Systems in the Spectral Domain\n",
    "\n",
    "*This Jupyter notebook is part of a [collection of notebooks](../index.ipynb) in the bachelors module Signals and Systems, Communications Engineering, Universität Rostock. Please direct questions and suggestions to [Sascha.Spors@uni-rostock.de](mailto:Sascha.Spors@uni-rostock.de).*"
   ]
  },
  {
   "cell_type": "markdown",
   "metadata": {},
   "source": [
    "## The Transfer Function\n",
    "\n",
    "Different time-domain representations can be used to characterize linear time-invariant (LTI) systems. For instance, the constant coefficients of ordinary partial differential equations (ODEs), the [impulse response](../systems_time_domain/impulse_response.ipynb) and the [step response](../systems_time_domain/step_response.ipynb). The [transfer function](../systems_time_domain/eigenfunctions.ipynb#Transfer-Function) denotes the complex factor $H(s)$ an eigenfunction $e^{s t}$ at the input of an LTI system is weighted with when passing through the system. Since the Laplace transform decomposes signals with respect to these eigenfunctions, the transfer function constitutes a representation in the spectral (Fourier or Laplace) domain. The links between the transfer function and the time-domain characterizations of LTI systems are discussed in this section."
   ]
  },
  {
   "cell_type": "markdown",
   "metadata": {},
   "source": [
    "### Relation to Impulse Response and In-/Output Signal\n",
    "\n",
    "It was already outlined in the context of the [convolution theorem of the Fourier](../fourier_transform/theorems.ipynb#Convolution-Theorem) and [Laplace transform](../laplace_transform/theorems.ipynb#Convolution-Theorem), that an LTI system can be represented equivalently in the temporal and spectral domain. In the temporal domain the output of an LTI system is given by convolving the input signal $x(t)$ with the [impulse response](../systems_time_domain/impulse_response.ipynb) $h(t)$ of the system\n",
    "\n",
    "\\begin{equation}\n",
    "y(t) = x(t) * h(t)\n",
    "\\end{equation}\n",
    "\n",
    "Using the convolution theorem of the Laplace transform yields\n",
    "\n",
    "\\begin{equation}\n",
    "Y(s) = X(s) \\cdot H(s)\n",
    "\\end{equation}\n",
    "\n",
    "where $X(s) = \\mathcal{L} \\{ x(t) \\}$ and $Y(s) = \\mathcal{L} \\{ y(t) \\}$ are the Laplace transforms of the input and output signal, respectively. The transfer function $H(s)$ is given as the Laplace transform of the impulse response $h(t)$\n",
    "\n",
    "\\begin{equation}\n",
    "H(s) = \\mathcal{L} \\{ h(t) \\}\n",
    "\\end{equation}\n",
    "\n",
    "This may also be concluded from the [previously derived link between the impulse response and the transfer function](../systems_time_domain/eigenfunctions.ipynb#Link-between-Transfer-Function-and-Impulse-Response). The derived results show that an LTI system can be fully characterized either in the temporal or spectral domain by its impulse response $h(t)$ or transfer function $H(s)$ or $H(j \\omega)$, respectively.\n",
    "\n",
    "![LTI system in the temporal and spectral domain](LTI_system_time_spectral_domain.png)\n",
    "\n",
    "It can furthermore be concluded that the transfer function is given as the quotient between output $Y(s)$ and input signal $X(s)$ in the Laplace domain\n",
    "\n",
    "\\begin{equation}\n",
    "H(s) = \\frac{Y(s)}{X(s)}\n",
    "\\end{equation}\n",
    "\n",
    "for $X(s) \\neq 0$. The same relations hold in the Fourier domain if the region of convergence (ROC) of the impulse response includes the imaginary axis $\\Re \\{ s \\} = 0$. In general, the transfer function can be derived by divison of the spectra of the output and input signal. This can be used to measure the transfer function of a system by specific input signals that fulfill $X(s) \\neq 0$ with $X(s) \\approx$ constant."
   ]
  },
  {
   "cell_type": "markdown",
   "metadata": {},
   "source": [
    "**Example**\n",
    "\n",
    "The [transfer function $H(s)$ of the 2nd order low-pass filter](../systems_time_domain/network_analysis.ipynb#Transfer-Function) was derived as\n",
    "\n",
    "\\begin{equation}\n",
    "H(s) = \\frac{1}{C L s^2 + C R s + 1}\n",
    "\\end{equation}\n",
    "\n",
    "According to above findings, the impulse response $h(t)$ of the low-pass is given by inverse Laplace transform of the transfer function $H(s)$. First the transfer function is defined in `SymPy`"
   ]
  },
  {
   "cell_type": "code",
   "execution_count": 1,
   "metadata": {},
   "outputs": [
    {
     "data": {
      "image/png": "[encoded data removed]",
      "text/latex": [
       "$$\\frac{1}{C L s^{2} + C R s + 1}$$"
      ],
      "text/plain": [
       "        1         \n",
       "──────────────────\n",
       "     2            \n",
       "C⋅L⋅s  + C⋅R⋅s + 1"
      ]
     },
     "execution_count": 1,
     "metadata": {},
     "output_type": "execute_result"
    }
   ],
   "source": [
    "%matplotlib inline\n",
    "import sympy as sym\n",
    "sym.init_printing()\n",
    "\n",
    "R, L, C = sym.symbols('R L C', positive=True)\n",
    "s = sym.symbols('s', complex=True)\n",
    "\n",
    "H = 1/(C*L*s**2 + C*R*s + 1)\n",
    "H"
   ]
  },
  {
   "cell_type": "markdown",
   "metadata": {},
   "source": [
    "Then the inverse Laplace transform is computed for the specific normalized values $L = .5$, $R = 1$, $C = .4$ of the network elements"
   ]
  },
  {
   "cell_type": "code",
   "execution_count": 2,
   "metadata": {},
   "outputs": [
    {
     "data": {
      "image/png": "[encoded data removed]",
      "text/latex": [
       "$$\\frac{5 \\theta\\left(t\\right)}{2} e^{- t} \\sin{\\left (2 t \\right )}$$"
      ],
      "text/plain": [
       "   -t                      \n",
       "5⋅ℯ  ⋅sin(2⋅t)⋅Heaviside(t)\n",
       "───────────────────────────\n",
       "             2             "
      ]
     },
     "execution_count": 2,
     "metadata": {},
     "output_type": "execute_result"
    }
   ],
   "source": [
    "t = sym.symbols('t', real=True)\n",
    "RLC = {R: 1, L: sym.Rational('.5'), C: sym.Rational('.4')}\n",
    "\n",
    "h = sym.inverse_laplace_transform(H.subs(RLC), s, t)\n",
    "h"
   ]
  },
  {
   "cell_type": "markdown",
   "metadata": {},
   "source": [
    "This result is plotted for illustration"
   ]
  },
  {
   "cell_type": "code",
   "execution_count": 3,
   "metadata": {},
   "outputs": [
    {
     "data": {
      "image/png": "[encoded data removed]",
      "text/plain": [
       "<matplotlib.figure.Figure at 0x11103a400>"
      ]
     },
     "metadata": {},
     "output_type": "display_data"
    }
   ],
   "source": [
    "sym.plot(h, (t,0,10), xlabel='$t$', ylabel='h(t)');"
   ]
  },
  {
   "cell_type": "markdown",
   "metadata": {},
   "source": [
    "Note, the result is equal to the [impulse response derived by explicit solution of the underlying ODE](../systems_time_domain/network_analysis.ipynb#Impulse-Response)."
   ]
  },
  {
   "cell_type": "markdown",
   "metadata": {},
   "source": [
    "### Relation to Differential Equations\n",
    "\n",
    "Linear ODEs with constant coefficients describing the relation between input $x(t)$ and output $y(t)$ represent an LTI system. Such a system is characterized by the constants $\\alpha_n$ and $\\beta_m$ of the ODE\n",
    "\n",
    "\\begin{equation}\n",
    "\\sum_{n=0}^{N} \\alpha_n \\frac{d^n}{d t^n} y(t) = \\sum_{m=0}^{M} \\beta_m \\frac{d^m}{d t^m} x(t)\n",
    "\\end{equation}\n",
    "\n",
    "where $\\alpha_N \\neq 0$ with $N$ denoting the degree of the ODE. Initial values are discarded in the following. Applying a two-sided Laplace transform to the left- and right-hand-side and using the [differentiation theorem](../laplace_transform/theorems.ipynb#Differentiation-Theorem) yields\n",
    "\n",
    "\\begin{equation}\n",
    "Y(s) \\sum_{n=0}^{N} \\alpha_n s^n = X(s) \\sum_{m=0}^{M} \\beta_m s^m\n",
    "\\end{equation}\n",
    "\n",
    "Rearranging this result derives the transfer function $H(s)$ of the system as\n",
    "\n",
    "\\begin{equation}\n",
    "H(s) = \\frac{Y(s)}{X(s)} = \\frac{\\sum_{m=0}^{M} \\beta_m s^m}{\\sum_{n=0}^{N} \\alpha_n s^n}\n",
    "\\end{equation}\n",
    "\n",
    "The transfer function of an LTI system whose in- and output relation can be characterized by an ODE is given as rational function in $s$. The coefficients of its numerator and denominator polynomial are given by the coefficients $\\beta_m$ and $\\alpha_n$ of the ODE. The conversion between both representations of an LTI system is hence straightforward."
   ]
  },
  {
   "cell_type": "markdown",
   "metadata": {},
   "source": [
    "**Example**\n",
    "\n",
    "The coefficients for the 2nd order low-pass filter can be determined [from its ODE](../systems_time_domain/network_analysis.ipynb#Differential-Equation) or from above transfer function as\n",
    "\n",
    "\\begin{align}\n",
    "\\beta_0 &= 1 & \\alpha_0 &= 1 \\\\\n",
    "& & \\alpha_1 &= C R \\\\\n",
    "& & \\alpha_2 &= C L\n",
    "\\end{align}\n",
    "\n",
    "From theses coefficients the transfer function $H(s)$ is constructed in `SymPy`"
   ]
  },
  {
   "cell_type": "code",
   "execution_count": 4,
   "metadata": {},
   "outputs": [
    {
     "data": {
      "image/png": "[encoded data removed]",
      "text/latex": [
       "$$\\frac{1}{C L s^{2} + C R s + 1}$$"
      ],
      "text/plain": [
       "        1         \n",
       "──────────────────\n",
       "     2            \n",
       "C⋅L⋅s  + C⋅R⋅s + 1"
      ]
     },
     "execution_count": 4,
     "metadata": {},
     "output_type": "execute_result"
    }
   ],
   "source": [
    "R, L, C = sym.symbols('R L C', positive=True)\n",
    "beta = 1\n",
    "alpha = L*C, R*C, 1\n",
    "\n",
    "H = sym.Poly(beta, s) / sym.Poly(alpha, s)\n",
    "H"
   ]
  },
  {
   "cell_type": "markdown",
   "metadata": {},
   "source": [
    "Many software packages for signal processing feature functionality for the computation of the transfer function from the coefficients $\\beta_m$ and $\\alpha_n$ of a system. The Python Signal Processing Toolbox [`scipy.signal`](http://docs.scipy.org/doc/scipy/reference/signal.html) for instance provides a function to numerically evaluate the transfer function $H(j \\omega)$ for a given set of coefficients. This is illustrated in the following for the normalized values $R$, $L$ and $C$ used above."
   ]
  },
  {
   "cell_type": "code",
   "execution_count": 5,
   "metadata": {
    "collapsed": true
   },
   "outputs": [],
   "source": [
    "from scipy import signal\n",
    "\n",
    "R = 1\n",
    "L = 0.5\n",
    "C = 0.4\n",
    "beta = 1\n",
    "alpha = L*C, R*C, 1\n",
    "\n",
    "w, H = signal.freqresp((beta, alpha))"
   ]
  },
  {
   "cell_type": "markdown",
   "metadata": {},
   "source": [
    "This results in the vector `w` of angular frequencies $\\omega$ and the vector `H` with the values of $H(j \\omega)$ at these frequencies. The latter is plotted with the Python plotting library [`matplotlib`](http://matplotlib.org/)."
   ]
  },
  {
   "cell_type": "code",
   "execution_count": 6,
   "metadata": {},
   "outputs": [
    {
     "data": {
      "image/png": "[encoded data removed]",
      "text/plain": [
       "<matplotlib.figure.Figure at 0x11103a2e8>"
      ]
     },
     "metadata": {},
     "output_type": "display_data"
    }
   ],
   "source": [
    "import matplotlib.pyplot as plt\n",
    "\n",
    "plt.plot(w, abs(H))\n",
    "plt.xlabel('$\\omega$ in $s^{-1}$')\n",
    "plt.ylabel('$|H(j \\omega)|$')\n",
    "plt.grid();"
   ]
  },
  {
   "cell_type": "markdown",
   "metadata": {},
   "source": [
    "### Determination from Internal Structure\n",
    "\n",
    "The transfer function $H(s)$ can be determined from the internal structure of an LTI system, if known. Either by derivation of the ODE characterizing the system, as shown above, or by direct analysis of the system in the Laplace/Fourier domain. For passive electrical networks this can be conducted by representing the signals and elements of the network by their complex impedances $Z(s)$ and applying Kirchhoff's circuit laws. This was illustrated for instance by the previous [Laplace domain analysis of a 2nd order low-pass filter](../laplace_transform/network_analysis.ipynb#Example:-Second-Order-Low-Pass-Filter). Similar procedures can be applied to other types of LTI systems, e.g. mechanical systems.\n",
    "\n",
    "The transfer function is then given as the quotient between the output signal $Y(s)$ and the input signal $X(s)$ in the Laplace/Fourier domain."
   ]
  },
  {
   "cell_type": "markdown",
   "metadata": {
    "nbsphinx": "hidden"
   },
   "source": [
    "**Copyright**\n",
    "\n",
    "The notebooks are provided as [Open Educational Resource](https://de.wikipedia.org/wiki/Open_Educational_Resources). Feel free to use the notebooks for your own educational purposes. The text is licensed under [Creative Commons Attribution 4.0](https://creativecommons.org/licenses/by/4.0/), the code of the IPython examples under the [MIT license](https://opensource.org/licenses/MIT). Please attribute the work as follows: *Lecture Notes on Signals and Systems* by Sascha Spors."
   ]
  }
 ],
 "metadata": {
  "kernelspec": {
   "display_name": "Python 3",
   "language": "python",
   "name": "python3"
  },
  "language_info": {
   "codemirror_mode": {
    "name": "ipython",
    "version": 3
   },
   "file_extension": ".py",
   "mimetype": "text/x-python",
   "name": "python",
   "nbconvert_exporter": "python",
   "pygments_lexer": "ipython3",
   "version": "3.6.4"
  }
 },
 "nbformat": 4,
 "nbformat_minor": 1
}
