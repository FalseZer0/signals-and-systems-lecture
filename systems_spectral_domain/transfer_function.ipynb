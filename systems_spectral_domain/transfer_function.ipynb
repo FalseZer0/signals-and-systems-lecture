{
 "cells": [
  {
   "cell_type": "markdown",
   "metadata": {
    "nbsphinx": "hidden"
   },
   "source": [
    "# Characterization of Systems in the Spectral Domain\n",
    "\n",
    "*This Jupyter notebook is part of a [collection of notebooks](../index.ipynb) in the bachelors module Signals and Systems, Comunications Engineering, Universität Rostock. Please direct questions and suggestions to <mailto:Sascha.Spors@uni-rostock.de>.*"
   ]
  },
  {
   "cell_type": "markdown",
   "metadata": {},
   "source": [
    "## The Transfer Function\n",
    "\n",
    "Different time-domain measures can be used to characterize linear time-invariant (LTI) systems. For instance, the constant coefficients of ordinary partial differential equations (ODEs), the [impulse response](../systems_time_domain/impulse_response.ipynb) and the [step response](../systems_time_domain/step_response.ipynb). The [transfer function](../systems_time_domain/eigenfunctions.ipynb#Transfer-Function) denotes the complex factor $H(s)$ an eigenfunction $e^{s t}$ at the input of an LTI system is weighted with when passing through the system. Since the Laplace transform decomposes signals with respect to these eigenfunctions, the transfer function constitutes a measure in the spectral (Fourier or Laplace) domain. The links between the transfer function and the time-domain characterizations of LTI systems are discussed in this section."
   ]
  },
  {
   "cell_type": "markdown",
   "metadata": {},
   "source": [
    "### Relation to Impulse Response and In-/Output Signal\n",
    "\n",
    "It was already outlined in the context of the [convolution theorem of the Fourier](../fourier_transform/theorems.ipynb#Convolution-Theorem) and [Laplace transform](../laplace_transform/theorems.ipynb#Convolution-Theorem), that an LTI system can be represented equivalently in the temporal and spectral domain\n",
    "\n",
    "![LTI system in the temporal and spectral domain](LTI_system_time_spectral_domain.png)\n",
    "\n",
    "In the temporal domain the output of an LTI system is given by the convolution of the input signal $x(t)$ with the [impulse response](../systems_time_domain/impulse_response.ipynb) $h(t)$\n",
    "\n",
    "\\begin{equation}\n",
    "y(t) = x(t) * h(t)\n",
    "\\end{equation}\n",
    "\n",
    "Using the convolution theorem of the Laplace transform yields\n",
    "\n",
    "\\begin{equation}\n",
    "Y(s) = X(s) \\cdot H(s)\n",
    "\\end{equation}\n",
    "\n",
    "where $X(s) = \\mathcal{L} \\{ x(t) \\}$ and $Y(s) = \\mathcal{L} \\{ y(t) \\}$ are the Laplace transforms of the input and output signal, respectively. The transfer function $H(s)$ is given as the Laplace transform of the impulse response $h(t)$\n",
    "\n",
    "\\begin{equation}\n",
    "H(s) = \\mathcal{L} \\{ h(t) \\}\n",
    "\\end{equation}\n",
    "\n",
    "This can be concluded from the [previously derived link between the impulse response and the transfer function](../systems_time_domain/eigenfunctions.ipynb#Link-between-Transfer-Function-and-Impulse-Response). It can furthermore be concluded that the transfer function is given as the quotient between output $Y(s)$ and input signal $X(s)$ in the Laplace domain\n",
    "\n",
    "\\begin{equation}\n",
    "H(s) = \\frac{Y(s)}{X(s)}\n",
    "\\end{equation}\n",
    "\n",
    "for $X(s) \\neq 0$. The same relations hold in the Fourier domain if the region of convergence (ROC) of the impulse response includes the imaginary axis $\\Re \\{ s \\} = 0$. \n",
    "\n",
    "The derived results show that an LTI system can be fully characterized either in the temporal or spectral domain by its impulse response $h(t)$ or transfer function $H(s)$ or $H(j \\omega)$, respectively. The transfer function can be derived by divison of the spectra of the output and input signal. This can be used to measure the transfer function of a system by specific input signals that fulfill $X(s) \\neq 0$ with $X(s) \\approx$ constant."
   ]
  },
  {
   "cell_type": "markdown",
   "metadata": {},
   "source": [
    "**Example**\n",
    "\n",
    "The [transfer function $H(s)$ of the 2nd order low-pass filter](../systems_time_domain/network_analysis.ipynb#Transfer-Function) was derived as\n",
    "\n",
    "\\begin{equation}\n",
    "H(s) = \\frac{1}{C L s^2 + C R s + 1}\n",
    "\\end{equation}\n",
    "\n",
    "According to above findings, the impulse response $h(t)$ of the low-pass is given by inverse Laplace transform of the transfer function $H(s)$. First the transfer function is defined in `SymPy`"
   ]
  },
  {
   "cell_type": "code",
   "execution_count": 1,
   "metadata": {
    "collapsed": false
   },
   "outputs": [
    {
     "data": {
      "image/png": "[encoded data removed]",
      "text/latex": [
       "$$\\frac{1}{C L s^{2} + C R s + 1}$$"
      ],
      "text/plain": [
       "        1         \n",
       "──────────────────\n",
       "     2            \n",
       "C⋅L⋅s  + C⋅R⋅s + 1"
      ]
     },
     "execution_count": 1,
     "metadata": {},
     "output_type": "execute_result"
    }
   ],
   "source": [
    "%matplotlib inline\n",
    "import sympy as sym\n",
    "sym.init_printing()\n",
    "\n",
    "R, L, C = sym.symbols('R L C', positive=True)\n",
    "s = sym.symbols('s', complex=True)\n",
    "\n",
    "H = 1/(C*L*s**2 + C*R*s + 1)\n",
    "H"
   ]
  },
  {
   "cell_type": "markdown",
   "metadata": {},
   "source": [
    "Then the inverse Laplace transform is computed for the specific normalized values $L = .5$, $R = 1$, $C = .4$ of the network elements"
   ]
  },
  {
   "cell_type": "code",
   "execution_count": 2,
   "metadata": {
    "collapsed": false
   },
   "outputs": [
    {
     "data": {
      "image/png": "[encoded data removed]",
      "text/latex": [
       "$$\\frac{5 \\theta\\left(t\\right)}{2} e^{- t} \\sin{\\left (2 t \\right )}$$"
      ],
      "text/plain": [
       "   -t                      \n",
       "5⋅ℯ  ⋅sin(2⋅t)⋅Heaviside(t)\n",
       "───────────────────────────\n",
       "             2             "
      ]
     },
     "execution_count": 2,
     "metadata": {},
     "output_type": "execute_result"
    }
   ],
   "source": [
    "t = sym.symbols('t', real=True)\n",
    "RLC = {R: 1, L: sym.Rational('.5'), C: sym.Rational('.4')}\n",
    "\n",
    "h = sym.inverse_laplace_transform(H.subs(RLC), s, t)\n",
    "h"
   ]
  },
  {
   "cell_type": "markdown",
   "metadata": {},
   "source": [
    "This result is plotted for illustration"
   ]
  },
  {
   "cell_type": "code",
   "execution_count": 3,
   "metadata": {
    "collapsed": false
   },
   "outputs": [
    {
     "data": {
      "image/png": "[encoded data removed]",
      "text/plain": [
       "<matplotlib.figure.Figure at 0x102d4b208>"
      ]
     },
     "metadata": {},
     "output_type": "display_data"
    }
   ],
   "source": [
    "sym.plot(h, (t,0,10), xlabel='$t$', ylabel='h(t)');"
   ]
  },
  {
   "cell_type": "markdown",
   "metadata": {},
   "source": [
    "The result is equal to the [impulse response derived by explicit solution of the underlying ODE](../systems_time_domain/network_analysis.ipynb#Impulse-Response)."
   ]
  },
  {
   "cell_type": "markdown",
   "metadata": {},
   "source": [
    "### Relation to Differential Equations\n",
    "\n",
    "Linear ODEs with constant coefficients describing the relation between input $x(t)$ and output $y(t)$ represent an LTI system. Such a system is characterized by the constants $\\alpha_n$ and $\\beta_m$ of the ODE\n",
    "\n",
    "\\begin{equation}\n",
    "\\sum_{n=0}^{N} \\alpha_n \\frac{d^n}{d t^n} y(t) = \\sum_{m=0}^{M} \\beta_m \\frac{d^m}{d t^m} x(t)\n",
    "\\end{equation}\n",
    "\n",
    "where $\\alpha_N \\neq 0$ with $N$ denoting the degree of the ODE. Initial values are discarded in the following. Applying a two-sided Laplace transform to the left- and right-hand-side and using the [differentiation theorem](../laplace_transform/theorems.ipynb#Differentiation-Theorem) yields\n",
    "\n",
    "\\begin{equation}\n",
    "Y(s) \\sum_{n=0}^{N} \\alpha_n s^n = X(s) \\sum_{m=0}^{M} \\beta_m s^m\n",
    "\\end{equation}\n",
    "\n",
    "Rearranging this result derives the transfer function $H(s)$ of the system as\n",
    "\n",
    "\\begin{equation}\n",
    "H(s) = \\frac{Y(s)}{X(s)} = \\frac{\\sum_{m=0}^{M} \\beta_m s^m}{\\sum_{n=0}^{N} \\alpha_n s^n}\n",
    "\\end{equation}\n",
    "\n",
    "The transfer function of an LTI system whose in- and output relation can be characterized by an ODE is given as rational function in $s$. The coefficients of its numerator and denominator polynomial are given by the coefficients $\\beta_m$ and $\\alpha_n$ of the ODE. The conversion between both representations of an LTI system is hence straightforward."
   ]
  },
  {
   "cell_type": "markdown",
   "metadata": {},
   "source": [
    "**Example**\n",
    "\n",
    "The coefficients for the 2nd order low-pass filter can be determined [from its ODE](../systems_time_domain/network_analysis.ipynb#Differential-Equation) or from above transfer function as\n",
    "\n",
    "\\begin{align}\n",
    "\\beta_0 &= 1 & \\alpha_0 &= 1 \\\\\n",
    "& & \\alpha_1 &= C R \\\\\n",
    "& & \\alpha_2 &= C L\n",
    "\\end{align}\n",
    "\n",
    "From theses coefficients the transfer function $H(s)$ is constructed in `SymPy`"
   ]
  },
  {
   "cell_type": "code",
   "execution_count": 4,
   "metadata": {
    "collapsed": false
   },
   "outputs": [
    {
     "data": {
      "image/png": "[encoded data removed]",
      "text/latex": [
       "$$\\frac{1}{C L s^{2} + C R s + 1}$$"
      ],
      "text/plain": [
       "        1         \n",
       "──────────────────\n",
       "     2            \n",
       "C⋅L⋅s  + C⋅R⋅s + 1"
      ]
     },
     "execution_count": 4,
     "metadata": {},
     "output_type": "execute_result"
    }
   ],
   "source": [
    "R, L, C = sym.symbols('R L C', positive=True)\n",
    "beta = 1\n",
    "alpha = L*C, R*C, 1\n",
    "\n",
    "H = sym.Poly(beta, s) / sym.Poly(alpha, s)\n",
    "H"
   ]
  },
  {
   "cell_type": "markdown",
   "metadata": {},
   "source": [
    "Many software packages for signal processing feature functionality for the computation of the transfer function from the coefficients $\\beta_m$ and $\\alpha_n$ of the system. The Python Signal Processing Toolbox [`scipy.signal`](http://docs.scipy.org/doc/scipy/reference/signal.html) provides a function to numerically evaluate the transfer function $H(j \\omega)$ for a given set of coefficients. This is illustrated in the following for the normalized values $R$, $L$ and $C$ given above."
   ]
  },
  {
   "cell_type": "code",
   "execution_count": 5,
   "metadata": {
    "collapsed": true
   },
   "outputs": [],
   "source": [
    "from scipy import signal\n",
    "\n",
    "R = 1\n",
    "L = 0.5\n",
    "C = 0.4\n",
    "beta = 1\n",
    "alpha = L*C, R*C, 1\n",
    "\n",
    "w, H = signal.freqresp((beta, alpha))"
   ]
  },
  {
   "cell_type": "markdown",
   "metadata": {},
   "source": [
    "This results in the vector `w` of angular frequencies $\\omega$ and the vector `H` with the values of $H(j \\omega)$ at these frequencies. The latter is plotted with the Python plotting library [`matplotlib`](http://matplotlib.org/)."
   ]
  },
  {
   "cell_type": "code",
   "execution_count": 6,
   "metadata": {
    "collapsed": false
   },
   "outputs": [
    {
     "data": {
      "image/png": "[encoded data removed]",
      "text/plain": [
       "<matplotlib.figure.Figure at 0x10597def0>"
      ]
     },
     "metadata": {},
     "output_type": "display_data"
    }
   ],
   "source": [
    "import matplotlib.pyplot as plt\n",
    "\n",
    "plt.plot(w, abs(H))\n",
    "plt.title('Magnitude of the transfer function $H(j \\omega)$')\n",
    "plt.xlabel('$\\omega$ in $s^{-1}$')\n",
    "plt.ylabel('$|H(j \\omega)|$')\n",
    "plt.grid();"
   ]
  },
  {
   "cell_type": "markdown",
   "metadata": {},
   "source": [
    "### Determination from Internal Structure\n",
    "\n",
    "The transfer function $H(s)$ can be determined from the internal structure of an LTI system, if known. Either by derivation of the ODE characterizing the system, as shown above, or by direct anlysis of the system in the Laplace/Fourier domain. For passive electrical networks this can be conducted by representing the signals and elements of the network by their complex impedances $Z(s)$ and applying Kirchhoff's circuit laws. This was illustrated for instance by the previous [Laplace domain analysis of a 2nd order low-pass filter](../laplace_transform/network_analysis.ipynb#Example:-Second-Order-Low-Pass-Filter). Similar procedures can be applied to other types of LTI systems, e.g. mechanical systems.\n",
    "\n",
    "The transfer function is then given as the quotient bewtween the output signal $Y(s)$ and the input signal $X(s)$ in the transformed domain."
   ]
  },
  {
   "cell_type": "markdown",
   "metadata": {},
   "source": [
    "### Bode Plots\n",
    "\n",
    "The Fourier domain transfer function $H(j \\omega)$ characterizes the transmission properties of an LTI system with respect to the [harmonic exponential signal](../continuous_signals/standard_signals.ipynb#Complex-Exponential-Signal) $e^{j \\omega}$ for the angular frequency $\\omega = 2 \\pi f$. In order to illustrate the characteristics of an LTI system, often the magnitude $| H(j \\omega) |$ and phase $\\varphi_H(j \\omega)$ of the transfer function is regarded separately. Decomposing the output signal $Y(j \\omega) = X(j \\omega) \\cdot H(j \\omega)$ into its magnitude $| Y(j \\omega) |$ and phase $\\varphi_Y(j \\omega)$ yields\n",
    "\n",
    "\\begin{align}\n",
    "| Y(j \\omega) | &= | X(j \\omega) | \\cdot | H(j \\omega) | \\\\\n",
    "\\varphi_Y(j \\omega) &= \\varphi_X(j \\omega) + \\varphi_H(j \\omega)\n",
    "\\end{align}\n",
    "\n",
    "where $X(j \\omega)$ denotes the input signal, and $| X(j \\omega) |$ and $\\varphi_X(j \\omega)$ its magnitude and phase, respectively. It can be concluded from above equations, that the magnitude $| H(j \\omega) |$ provides the frequency-dependent attenuation of the magnitude $| X(j \\omega) |$ of the input signal by the system, while $\\varphi_H(j \\omega)$ provides the introduced phase-shift. \n",
    "\n",
    "A common graphical illustration of the sytem properties in terms of the magnitude and phase of the transfer function are [*bode plots*](https://en.wikipedia.org/wiki/Bode_plot). Here the logarithmic magnitude of the transfer function $20 \\log_{10} | H(j \\omega) |$ in [decibels](https://en.wikipedia.org/wiki/Decibel) is plotted against the logarithm of the frequency $\\omega$ or $f$. The phase $\\varphi_H(j \\omega)$ is plotted linearly against the logarithm of the frequency. A transfer function $H(s)$ which is a rational function in $s$ can be represented [in terms of its poles and zeros](../laplace_transform/definition.ipynb#Representation). Applying this representation to the transfer function $H(j \\omega)$ in the Fourier domain yields\n",
    "\n",
    "\\begin{equation}\n",
    "H(j \\omega) = K \\cdot \\frac{\\prod_{\\mu=0}^{Q} (j \\omega - s_{0 \\mu})}{\\prod_{\\nu=0}^{P} (j \\omega - s_{\\infty \\nu})}\n",
    "\\end{equation}\n",
    "\n",
    "where $s_{0 \\mu}$ and $s_{\\infty \\nu}$ denote the $\\mu$-th zero and $\\nu$-th pole of $H(s)$, and $Q$ and $P$ the total number of zeros and poles, respectively. The logarithm of the magnitude and the phase can then be expressed as\n",
    "\n",
    "\\begin{align}\n",
    "\\log_{10} | H(j \\omega) | &= \\sum_{\\mu=0}^{Q} \\log_{10} |j \\omega - s_{0 \\mu}| - \\sum_{\\nu=0}^{P} \\log_{10} |j \\omega - s_{\\infty \\nu}| + \\log_{10} |K|   \\\\\n",
    "\\varphi_H(j \\omega) &= \\sum_{\\mu=0}^{Q} \\arg (j \\omega - s_{0 \\mu}) - \\sum_{\\nu=0}^{P} \\arg (j \\omega - s_{\\infty \\nu})\n",
    "\\end{align}\n",
    "\n",
    "where $\\arg(\\cdot)$ denotes the [argument](https://en.wikipedia.org/wiki/Argument_%28complex_analysis%29) (phase) of a complex function. It can be concluded from above result, that the individual contributions of the poles and zeros to the bode plot can be superimposed. This fact can be exploited to manually draw approximated bode plots illustrating the properties of an LTI system for a given set of poles and zeros. Rules for the asymptotic behavior of the magnitude and phase for single poles and zeros are available in the [literature](https://en.wikipedia.org/wiki/Bode_plot#Rules_for_handmade_Bode_plot). For instance it is stated that a single pole/zero results in a magnitude response in the bode plot that decreases/increases with a slope of 20 dB per decade. These rules provide insights into the influence of the location and order of poles and zeros on the properties of systems. They are of benefit when designing systems with given magnitude and phase properties."
   ]
  },
  {
   "cell_type": "markdown",
   "metadata": {},
   "source": [
    "**Example**\n",
    "\n",
    "The bode plot of the 2nd order lowpass filter is plotted. The transfer function $H(j \\omega)$ of the low-pass filter can be derived from its Laplace domain counterpart $H(s)$ by\n",
    "\n",
    "\\begin{equation}\n",
    "H(j \\omega) = \\frac{1}{C L s^2 + C R s + 1} \\bigg\\rvert_{s = j \\omega}\n",
    "\\end{equation}"
   ]
  },
  {
   "cell_type": "code",
   "execution_count": 7,
   "metadata": {
    "collapsed": false
   },
   "outputs": [
    {
     "data": {
      "image/png": "[encoded data removed]",
      "text/latex": [
       "$$\\frac{1}{- C L \\omega^{2} + i C R \\omega + 1}$$"
      ],
      "text/plain": [
       "          1           \n",
       "──────────────────────\n",
       "       2              \n",
       "- C⋅L⋅ω  + ⅈ⋅C⋅R⋅ω + 1"
      ]
     },
     "execution_count": 7,
     "metadata": {},
     "output_type": "execute_result"
    }
   ],
   "source": [
    "w = sym.symbols('omega', real=True)\n",
    "R, L, C = sym.symbols('R L C', positive=True)\n",
    "s = sym.I * w\n",
    "\n",
    "H = 1/(C*L*s**2 + C*R*s + 1)\n",
    "H"
   ]
  },
  {
   "cell_type": "markdown",
   "metadata": {},
   "source": [
    "The bode plot is generated for the normalized values for $R$, $L$ and $C$ given above"
   ]
  },
  {
   "cell_type": "code",
   "execution_count": 8,
   "metadata": {
    "collapsed": false
   },
   "outputs": [
    {
     "data": {
      "image/png": "[encoded data removed]",
      "text/plain": [
       "<matplotlib.figure.Figure at 0x1074daa58>"
      ]
     },
     "metadata": {},
     "output_type": "display_data"
    },
    {
     "data": {
      "image/png": "[encoded data removed]",
      "text/plain": [
       "<matplotlib.figure.Figure at 0x107771518>"
      ]
     },
     "metadata": {},
     "output_type": "display_data"
    }
   ],
   "source": [
    "RLC = {R: 1, L: sym.Rational('.5'), C: sym.Rational('.4')}\n",
    "\n",
    "sym.plot(20*sym.log(sym.Abs(H.subs(RLC)), 10), (w, 0.1, 10), xscale='log', xlabel='$\\omega$', ylabel='$20 \\log_{10} | H(j \\omega) |$');\n",
    "sym.plot(sym.arg(H.subs(RLC)), (w, 0.1, 10), xscale='log', xlabel='$\\omega$', ylabel=r'$\\varphi(j \\omega)$');"
   ]
  },
  {
   "cell_type": "markdown",
   "metadata": {},
   "source": [
    "**Example**\n",
    "\n",
    "The bode plot of a second-order LTI system with the following transfer function\n",
    "\n",
    "\\begin{equation}\n",
    "H(s) = \\frac{(s - s_0)(s - s_0^*)}{(s - s_\\infty)(s - s_\\infty^*)}\n",
    "\\end{equation}\n",
    "\n",
    "with \n",
    "\n",
    "\\begin{align}\n",
    "s_0 &= \\sigma_0 + j \\omega_0  &\\text{with } \\quad &\\sigma_0 = 2000, \\omega_0 = 2 \\pi \\cdot 100 \\\\\n",
    "s_\\infty  &= \\sigma_\\infty + j \\omega_\\infty & &\\sigma_\\infty = 20000, \\omega_\\infty = 2 \\pi \\cdot 4000\n",
    "\\end{align}\n",
    "\n",
    "is constructed in this example. First the contribution of the zero $s_0$ to the magnitude of the transfer function $H(j \\omega)$ is computed and plotted over the frequency $f$ using $\\omega = 2 \\pi f$."
   ]
  },
  {
   "cell_type": "code",
   "execution_count": 9,
   "metadata": {
    "collapsed": true
   },
   "outputs": [],
   "source": [
    "def db(x):\n",
    "    return 20 * sym.log(sym.Abs(x), 10)"
   ]
  },
  {
   "cell_type": "code",
   "execution_count": 10,
   "metadata": {
    "collapsed": false
   },
   "outputs": [
    {
     "data": {
      "image/png": "[encoded data removed]",
      "text/plain": [
       "<matplotlib.figure.Figure at 0x105941668>"
      ]
     },
     "metadata": {},
     "output_type": "display_data"
    }
   ],
   "source": [
    "f = sym.symbols('f', real=True)\n",
    "s = sym.I * 2*sym.pi*f\n",
    "s_0 = 2000 + sym.I * 2*sym.pi*100\n",
    "\n",
    "H1 = (s - s_0)*(s - sym.conjugate(s_0))\n",
    "Hlog1 = db(H1)\n",
    "\n",
    "sym.plot(Hlog1, (f, 10, 10000), xscale='log', xlabel='$f$', ylabel='$20 \\log_{10} |H_0(j \\omega)|$ in dB');"
   ]
  },
  {
   "cell_type": "markdown",
   "metadata": {},
   "source": [
    "Now the contribution of the pole $s_\\infty$ is computed and plotted"
   ]
  },
  {
   "cell_type": "code",
   "execution_count": 11,
   "metadata": {
    "collapsed": false
   },
   "outputs": [
    {
     "data": {
      "image/png": "[encoded data removed]",
      "text/plain": [
       "<matplotlib.figure.Figure at 0x1078e4be0>"
      ]
     },
     "metadata": {},
     "output_type": "display_data"
    }
   ],
   "source": [
    "s_inf = 20000 + sym.I * 2*sym.pi*4000\n",
    "\n",
    "H2 = 1/((s - s_inf)*(s - sym.conjugate(s_inf)))\n",
    "Hlog2 = db(H2)\n",
    "sym.plot(Hlog2, (f, 10, 20000), xscale='log', xlabel='$f$', ylabel='$20 \\log_{10} |H_\\infty(j \\omega)|$ in dB');"
   ]
  },
  {
   "cell_type": "markdown",
   "metadata": {},
   "source": [
    "The (logarithmic) magnitude frequency response of the system is given by superposition of the individual contributions from the zero and the pole"
   ]
  },
  {
   "cell_type": "code",
   "execution_count": 12,
   "metadata": {
    "collapsed": false
   },
   "outputs": [
    {
     "data": {
      "image/png": "[encoded data removed]",
      "text/plain": [
       "<matplotlib.figure.Figure at 0x1075f5e10>"
      ]
     },
     "metadata": {},
     "output_type": "display_data"
    }
   ],
   "source": [
    "Hlog = Hlog1 + Hlog2\n",
    "sym.plot(Hlog, (f, 10, 50000), xscale='log', xlabel='$f$', ylabel='$20 \\log_{10} |H(j \\omega)|$ in dB');"
   ]
  },
  {
   "cell_type": "markdown",
   "metadata": {},
   "source": [
    "**Exercise**\n",
    "\n",
    "* Examine the bode plots for the contributions of the zero and the pole:\n",
    "    * What regions show approximately linear behavior over the frequency $f$? \n",
    "    * What is the slope of these regions per octave/decade? \n",
    "    * At which frequency is the transition between the regions of linear behavior? How is the frequency related to the imaginary part of the zero/pole?\n",
    "\n",
    "* Examine the bode plot of the system. How is it related to the bode plots for its zero/pole?\n",
    "\n",
    "* Move the pole and/or zero closer to the imaginary axis by changing the values $\\sigma_\\infty$ and/or $\\sigma_0$. What changes?"
   ]
  },
  {
   "cell_type": "markdown",
   "metadata": {
    "nbsphinx": "hidden"
   },
   "source": [
    "**Copyright**\n",
    "\n",
    "The notebooks are provided as [Open Educational Resource](https://de.wikipedia.org/wiki/Open_Educational_Resources). Feel free to use the notebooks for your own educational purposes. The text is licensed under [Creative Commons Attribution 4.0](https://creativecommons.org/licenses/by/4.0/), the code of the IPython examples under the [MIT license](https://opensource.org/licenses/MIT). Please attribute the work as follows: *Lecture Notes on Signals and Systems* by Sascha Spors."
   ]
  }
 ],
 "metadata": {
  "kernelspec": {
   "display_name": "Python 3",
   "language": "python",
   "name": "python3"
  },
  "language_info": {
   "codemirror_mode": {
    "name": "ipython",
    "version": 3
   },
   "file_extension": ".py",
   "mimetype": "text/x-python",
   "name": "python",
   "nbconvert_exporter": "python",
   "pygments_lexer": "ipython3",
   "version": "3.5.1"
  }
 },
 "nbformat": 4,
 "nbformat_minor": 0
}
