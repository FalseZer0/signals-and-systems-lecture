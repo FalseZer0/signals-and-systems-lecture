{
 "cells": [
  {
   "cell_type": "markdown",
   "metadata": {
    "nbsphinx": "hidden"
   },
   "source": [
    "# Characterization of Systems in the Spectral Domain\n",
    "\n",
    "*This Jupyter notebook is part of a [collection of notebooks](../index.ipynb) in the bachelors module Signals and Systems, Comunications Engineering, Universität Rostock. Please direct questions and suggestions to [Sascha.Spors@uni-rostock.de](mailto:Sascha.Spors@uni-rostock.de).*"
   ]
  },
  {
   "cell_type": "markdown",
   "metadata": {},
   "source": [
    "## Phase and Group Delay\n",
    "\n",
    "The [phase and group delay](https://en.wikipedia.org/wiki/Group_delay_and_phase_delay) characterize the phase and delay properties of an LTI system. Both quantify the frequency dependent delay that is imprinted on a signal when passing through a system. In many applications the delay introduced by a system should be as small as possible or within reasonable limits."
   ]
  },
  {
   "cell_type": "markdown",
   "metadata": {},
   "source": [
    "### Phase Delay\n",
    "\n",
    "For an LTI system with transfer function $H(j \\omega)$ the phase delay is defined as follows\n",
    "\n",
    "\\begin{equation}\n",
    "t_p(\\omega) = - \\frac{\\varphi(j \\omega)}{\\omega}\n",
    "\\end{equation}\n",
    "\n",
    "where $\\varphi(j \\omega) = \\arg \\{ H(j \\omega) \\}$ denotes the phase of the transfer function. The phase delay quantifies the delay of a single harmonic exponential signal $e^{j \\omega} $ with frequency $\\omega$ when passing through the system. The negative sign in the definition of the phase delay results in a positive phase delay $t_p(\\omega) > 0$ when a signal is delayed by a system. Note that the phase delay may not be defined for $\\omega = 0$."
   ]
  },
  {
   "cell_type": "markdown",
   "metadata": {},
   "source": [
    "**Example**\n",
    "\n",
    "As example, the phase delay $t_p(\\omega)$ is computed for the [2nd order low-pass filter introduced before](../laplace_transform/network_analysis.ipynb#Example:-Second-Order-Low-Pass-Filter). First the transfer function $H(j \\omega)$ is defined in `SymPy`"
   ]
  },
  {
   "cell_type": "code",
   "execution_count": 1,
   "metadata": {},
   "outputs": [
    {
     "data": {
      "image/png": "[encoded data removed]",
      "text/latex": [
       "$$\\frac{1}{- C L \\omega^{2} + i C R \\omega + 1}$$"
      ],
      "text/plain": [
       "          1           \n",
       "──────────────────────\n",
       "       2              \n",
       "- C⋅L⋅ω  + ⅈ⋅C⋅R⋅ω + 1"
      ]
     },
     "execution_count": 1,
     "metadata": {},
     "output_type": "execute_result"
    }
   ],
   "source": [
    "%matplotlib inline\n",
    "import sympy as sym\n",
    "sym.init_printing()\n",
    "\n",
    "L, R, C = sym.symbols('L R C', positive=True)\n",
    "w = sym.symbols('omega', real=True)\n",
    "s = sym.I * w\n",
    "\n",
    "H = 1 / (C*L*s**2 + C*R*s + 1)\n",
    "H"
   ]
  },
  {
   "cell_type": "markdown",
   "metadata": {},
   "source": [
    "Now the phase delay $t_p(\\omega)$ is computed"
   ]
  },
  {
   "cell_type": "code",
   "execution_count": 2,
   "metadata": {},
   "outputs": [
    {
     "data": {
      "image/png": "[encoded data removed]",
      "text/latex": [
       "$$- \\frac{1}{\\omega} \\arg{\\left (\\frac{1}{- C L \\omega^{2} + i C R \\omega + 1} \\right )}$$"
      ],
      "text/plain": [
       "    ⎛          1           ⎞ \n",
       "-arg⎜──────────────────────⎟ \n",
       "    ⎜       2              ⎟ \n",
       "    ⎝- C⋅L⋅ω  + ⅈ⋅C⋅R⋅ω + 1⎠ \n",
       "─────────────────────────────\n",
       "              ω              "
      ]
     },
     "execution_count": 2,
     "metadata": {},
     "output_type": "execute_result"
    }
   ],
   "source": [
    "phi = sym.arg(H)\n",
    "tp = - phi/w\n",
    "tp"
   ]
  },
  {
   "cell_type": "markdown",
   "metadata": {},
   "source": [
    "and the result is visualized using the normalized values $R=1$, $L=0.5$ and $C=0.4$ for the elements of the low-pass filter"
   ]
  },
  {
   "cell_type": "code",
   "execution_count": 3,
   "metadata": {},
   "outputs": [
    {
     "data": {
      "image/png": "[encoded data removed]",
      "text/plain": [
       "<matplotlib.figure.Figure at 0x10e2d54e0>"
      ]
     },
     "metadata": {},
     "output_type": "display_data"
    }
   ],
   "source": [
    "RLC = {R: 1, L: sym.Rational('.5'), C: sym.Rational('.4')}\n",
    "sym.plot(tp.subs(RLC), (w, -10, 10), xlabel='$\\omega$', ylabel='$t_p(j \\omega)$');"
   ]
  },
  {
   "cell_type": "markdown",
   "metadata": {},
   "source": [
    "### Group Delay\n",
    "\n",
    "The group delay is defined as the derivative of the phase with respect to the frequency\n",
    "\n",
    "\\begin{equation}\n",
    "t_g(\\omega) = - \\frac{d \\varphi(j \\omega)}{d \\omega}\n",
    "\\end{equation}\n",
    "\n",
    "The group delay quantifies the delay the amplitude envelope of a group of exponential signals observes when passing through a system. The negative sign in above definition results in a positive group delay for a system imposing a delay onto the input signal. Note that the [phase](https://en.wikipedia.org/wiki/Instantaneous_phase) $\\varphi(j \\omega)$ is in general only unique for $- \\pi < \\varphi(j \\omega) \\leq \\pi$. If the phase exceeds this range it is wrapped back. For meaningful results it is required to unwrap the phase before computing the group delay."
   ]
  },
  {
   "cell_type": "markdown",
   "metadata": {},
   "source": [
    "**Example**\n",
    "\n",
    "The group delay $t_g(\\omega)$ of above 2nd order low-pass filter is computed and plotted for the normalized values"
   ]
  },
  {
   "cell_type": "code",
   "execution_count": 4,
   "metadata": {},
   "outputs": [
    {
     "data": {
      "image/png": "[encoded data removed]",
      "text/plain": [
       "<matplotlib.figure.Figure at 0x110d44128>"
      ]
     },
     "metadata": {},
     "output_type": "display_data"
    }
   ],
   "source": [
    "tg = - sym.diff(phi, w)\n",
    "sym.plot(tg.subs(RLC), (w, -10, 10), xlabel='$\\omega$', ylabel='$t_g(j \\omega)$');"
   ]
  },
  {
   "cell_type": "markdown",
   "metadata": {
    "nbsphinx": "hidden"
   },
   "source": [
    "**Copyright**\n",
    "\n",
    "The notebooks are provided as [Open Educational Resource](https://de.wikipedia.org/wiki/Open_Educational_Resources). Feel free to use the notebooks for your own educational purposes. The text is licensed under [Creative Commons Attribution 4.0](https://creativecommons.org/licenses/by/4.0/), the code of the IPython examples under the [MIT license](https://opensource.org/licenses/MIT). Please attribute the work as follows: *Lecture Notes on Signals and Systems* by Sascha Spors."
   ]
  }
 ],
 "metadata": {
  "kernelspec": {
   "display_name": "Python 3",
   "language": "python",
   "name": "python3"
  },
  "language_info": {
   "codemirror_mode": {
    "name": "ipython",
    "version": 3
   },
   "file_extension": ".py",
   "mimetype": "text/x-python",
   "name": "python",
   "nbconvert_exporter": "python",
   "pygments_lexer": "ipython3",
   "version": "3.5.2"
  }
 },
 "nbformat": 4,
 "nbformat_minor": 1
}
