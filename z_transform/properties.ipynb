{
 "cells": [
  {
   "cell_type": "markdown",
   "metadata": {
    "nbsphinx": "hidden"
   },
   "source": [
    "# The $z$-Transform\n",
    "\n",
    "*This Jupyter notebook is part of a [collection of notebooks](../index.ipynb) in the bachelors module Signals and Systems, Comunications Engineering, Universität Rostock. Please direct questions and suggestions to [Sascha.Spors@uni-rostock.de](mailto:Sascha.Spors@uni-rostock.de).*"
   ]
  },
  {
   "cell_type": "markdown",
   "metadata": {},
   "source": [
    "## Properties\n",
    "\n",
    "The $z$-transform has a number of specific properties which can be concluded directly from its definition. The most important ones in the context of signals and systems are reviewed in the following."
   ]
  },
  {
   "cell_type": "markdown",
   "metadata": {},
   "source": [
    "### Linearity\n",
    "\n",
    "As can be concluded from its definition, the $z$-transform is a linear operation. For two signals $x_1[k]$ and $x_2[k]$ with $z$-transforms $X_1(z) = \\mathcal{Z} \\{ x_1[k] \\}$ and $X_2(z) = \\mathcal{Z} \\{ x_2[k] \\}$ the following holds\n",
    "\n",
    "\\begin{equation}\n",
    "\\mathcal{Z} \\{ A \\cdot x_1[k] + B \\cdot x_2[k] \\} = A \\cdot X_1(z) + B \\cdot X_2(z)\n",
    "\\end{equation}\n",
    "\n",
    "with $A, B \\in \\mathbb{C}$. The region of convergence (ROC) of the superposition $A x_1[k] + B x_2[k]$ is as least as large as the intersection of the ROCs of $x_1[k]$ and $x_2[k]$\n",
    "\n",
    "\\begin{equation}\n",
    "\\text{ROC} \\{ A \\cdot x_1[k] + B \\cdot x_2[k] \\} \\supseteq \\text{ROC} \\{ x_1[k] \\} \\cap \\text{ROC} \\{ x_2[k] \\}\n",
    "\\end{equation}\n",
    "\n",
    "The $z$-transform of a weighted superposition of signals is equal to the weighted superposition of the individual $z$-transforms. This property is useful to derive the transform of signals that can be expressed as superposition of other signals for which the $z$-transform is known or can be calculated easier."
   ]
  },
  {
   "cell_type": "markdown",
   "metadata": {},
   "source": [
    "#### Transformation of the cosine and sine signal\n",
    "\n",
    "The Laplace transform of the causal cosine $\\epsilon[k] \\cdot \\cos(\\Omega_0 k)$ and sine $\\epsilon[k] \\cdot \\sin(\\Omega_0 k)$ signal with $\\Omega_0 \\in \\mathbb{R}$ is derived by expressing the cosine/sine as a superposition of harmonic exponential signals using [Euler's formula](https://en.wikipedia.org/wiki/Euler's_formula)\n",
    "\n",
    "\\begin{align}\n",
    "\\cos(\\Omega_0 k) &= \\frac{1}{2} \\left( e^{j \\Omega_0 k} + e^{-j \\Omega_0 k} \\right) \\\\\n",
    "\\sin(\\Omega_0 k) &= \\frac{1}{2j} \\left( e^{j \\Omega_0 k} - e^{-j \\Omega_0 k} \\right)\n",
    "\\end{align}\n",
    "\n",
    "The $z$-transform of the harmonic exponential signal can be derived from the spectrum of the [causal complex exponential signal](definition.ipynb#Transformation-of-the-Causal-Complex-Exponential-Signal) as\n",
    "\n",
    "\\begin{equation}\n",
    "\\mathcal{Z} \\{ \\epsilon[k] \\cdot e^{j \\Omega_0 k} \\} = \\frac{z}{z - e^{j \\Omega_0}} \\qquad \\text{for } |z| > 1\n",
    "\\end{equation}\n",
    "\n",
    "Exploiting the linearity of the $z$-transform yields\n",
    "\n",
    "\\begin{equation}\n",
    "\\mathcal{Z} \\{ \\epsilon[k] \\cdot \\cos(\\Omega_0 k) \\} = \n",
    "\\frac{1}{2} \\left( \\frac{z}{z - e^{j \\Omega_0}} + \\frac{z}{z - e^{-j \\Omega_0}} \\right) =\n",
    "\\frac{z ( z - \\cos(\\Omega_0))}{z^2 - 2 z \\cos(\\Omega_0) + 1}\n",
    "\\qquad \\text{for } |z| > 1\n",
    "\\end{equation}\n",
    "\n",
    "and\n",
    "\n",
    "\\begin{equation}\n",
    "\\mathcal{Z} \\{ \\epsilon[k] \\cdot \\sin(\\Omega_0 k) \\} = \n",
    "\\frac{1}{2j} \\left( \\frac{z}{z - e^{j \\Omega_0}} - \\frac{z}{z - e^{-j \\Omega_0}} \\right) =\n",
    "\\frac{z \\sin(\\Omega_0)}{z^2 - 2 z \\cos(\\Omega_0) + 1}\n",
    "\\qquad \\text{for } |z| > 1\n",
    "\\end{equation}"
   ]
  },
  {
   "cell_type": "markdown",
   "metadata": {},
   "source": [
    "**Exercise**\n",
    "\n",
    "* Determine the zeros and poles of above $z$-transforms. What specific symmetries do the zeros and poles show in the $z$-plane?"
   ]
  },
  {
   "cell_type": "markdown",
   "metadata": {},
   "source": [
    "### Symmetry for Real-Valued Signals\n",
    "\n",
    "The $z$-transform of a conjugated signal $x^*[k]$ is given as\n",
    "\n",
    "\\begin{equation}\n",
    "\\mathcal{Z} \\{ x^*[k] \\} = \\sum_{k = -\\infty}^{\\infty} x^*[k] \\, z^{-k} \n",
    "= \\left( \\sum_{k = -\\infty}^{\\infty} x[k] \\, (z^*)^{-k} \\right)^* \n",
    "= X^*(z^*)\n",
    "\\end{equation}\n",
    "\n",
    "where $X(z) = \\mathcal{Z} \\{ x[k] \\}$. The ROC of $x^*[k]$ is equal to the ROC of $x[k]$. Above result is used to derive the $z$-transform of the real part of the signal $x[k]$\n",
    "\n",
    "\\begin{equation}\n",
    "\\mathcal{Z} \\left\\{ \\Re \\{ x[k] \\} \\right\\} = \\mathcal{Z} \\left\\{ \\frac{1}{2} ( x[k] + x^*[k] ) \\right\\} = \\frac{1}{2} \\left[ X(z) + X^*(z^*) \\right]\n",
    "\\end{equation}\n",
    "\n",
    "and imaginary part\n",
    "\n",
    "\\begin{equation}\n",
    "\\mathcal{Z} \\left\\{ \\Im \\{ x[k] \\} \\right\\} = \\mathcal{Z} \\left\\{ \\frac{1}{2j} ( x[k] - x^*[k] ) \\right\\} = \\frac{1}{2j} \\left[ X(z) - X^*(z^*) \\right]\n",
    "\\end{equation}\n",
    "\n",
    "For a real-valued signal $x[k] \\in \\mathbb{R}$ with $\\Im \\{ x[k] \\} = 0$ it follows that\n",
    "\n",
    "\\begin{equation}\n",
    "X(z) = X^*(z^*)\n",
    "\\end{equation}\n",
    "\n",
    "It can be concluded, that the $z$-transform of a real valued signal shows complex conjugate symmetry. \n",
    "\n",
    "The poles and zeros of a [$z$-transform which can be expressed as a rational function](definition.ipynb#Representation) in $z$ \n",
    "\n",
    "\\begin{equation}\n",
    "X(s) = \\frac{\\sum_{m=0}^{M} \\beta_m z^{-m}}{\\sum_{n=0}^{N} \\alpha_n z^{-n}} = K \\cdot \\frac{\\prod_{\\mu=0}^{Q} (z - z_{0 \\mu})}{\\prod_{\\nu=0}^{P} (z - z_{\\infty \\nu})}\n",
    "\\end{equation}\n",
    "\n",
    "with $Q=M-1$ and $P=N-1$ show also specific symmetries. From above condition for the $z$-transform of a real-valued signal $x[k] \\in \\mathbb{R}$, it can be concluded that the coefficients $\\alpha_n, \\beta_m$ of the numerator and denominator are real-valued. The [complex conjugate root theorem](https://en.wikipedia.org/wiki/Complex_conjugate_root_theorem) states that the roots of a polynomial with real valued coefficients are either real-valued or complex conjugate pairs. Hence, the zeros and poles of the $z$-transform $X(z)$ of a real-valued signal $x[k]$ are either real-valued or complex conjugate pairs."
   ]
  },
  {
   "cell_type": "markdown",
   "metadata": {},
   "source": [
    "**Example**\n",
    "\n",
    "As example for a real-valued signal, the poles and zeros of the $z$-transform $X(z) = \\mathcal{Z} \\{ \\epsilon[k] \\cos(\\Omega_0 k) \\}$ are investigated. First the transform, as derived above, is defined in `SymPy`"
   ]
  },
  {
   "cell_type": "code",
   "execution_count": 1,
   "metadata": {
    "collapsed": false
   },
   "outputs": [
    {
     "data": {
      "image/png": "[encoded data removed]",
      "text/latex": [
       "$$\\frac{z \\left(z - \\cos{\\left (\\Omega_{0} \\right )}\\right)}{z^{2} - 2 z \\cos{\\left (\\Omega_{0} \\right )} + 1}$$"
      ],
      "text/plain": [
       "  z⋅(z - cos(Ω₀))   \n",
       "────────────────────\n",
       " 2                  \n",
       "z  - 2⋅z⋅cos(Ω₀) + 1"
      ]
     },
     "execution_count": 1,
     "metadata": {},
     "output_type": "execute_result"
    }
   ],
   "source": [
    "%matplotlib inline\n",
    "import sympy as sym\n",
    "sym.init_printing()\n",
    "\n",
    "z = sym.symbols('z', complex=True)\n",
    "W0 = sym.symbols('Omega0', real=True)\n",
    "\n",
    "X = z * (z - sym.cos(W0)) / (z**2 - 2*z*sym.cos(W0) + 1)\n",
    "X"
   ]
  },
  {
   "cell_type": "markdown",
   "metadata": {},
   "source": [
    "The roots of $X(z)$ are computed"
   ]
  },
  {
   "cell_type": "code",
   "execution_count": 2,
   "metadata": {
    "collapsed": false
   },
   "outputs": [
    {
     "data": {
      "image/png": "[encoded data removed]",
      "text/latex": [
       "$$\\left \\{ - \\sqrt{\\left(\\cos{\\left (\\Omega_{0} \\right )} - 1\\right) \\left(\\cos{\\left (\\Omega_{0} \\right )} + 1\\right)} + \\cos{\\left (\\Omega_{0} \\right )} : 1, \\quad \\sqrt{\\left(\\cos{\\left (\\Omega_{0} \\right )} - 1\\right) \\left(\\cos{\\left (\\Omega_{0} \\right )} + 1\\right)} + \\cos{\\left (\\Omega_{0} \\right )} : 1\\right \\}$$"
      ],
      "text/plain": [
       "⎧    _____________________________                 ___________________________\n",
       "⎨- ╲╱ (cos(Ω₀) - 1)⋅(cos(Ω₀) + 1)  + cos(Ω₀): 1, ╲╱ (cos(Ω₀) - 1)⋅(cos(Ω₀) + 1\n",
       "⎩                                                                             \n",
       "\n",
       "__             ⎫\n",
       ")  + cos(Ω₀): 1⎬\n",
       "               ⎭"
      ]
     },
     "execution_count": 2,
     "metadata": {},
     "output_type": "execute_result"
    }
   ],
   "source": [
    "poles = sym.roots(sym.denom(X), z)\n",
    "poles"
   ]
  },
  {
   "cell_type": "markdown",
   "metadata": {},
   "source": [
    "as well as its zeros"
   ]
  },
  {
   "cell_type": "code",
   "execution_count": 3,
   "metadata": {
    "collapsed": false
   },
   "outputs": [
    {
     "data": {
      "image/png": "[encoded data removed]",
      "text/latex": [
       "$$\\left \\{ 0 : 1, \\quad \\cos{\\left (\\Omega_{0} \\right )} : 1\\right \\}$$"
      ],
      "text/plain": [
       "{0: 1, cos(Ω₀): 1}"
      ]
     },
     "execution_count": 3,
     "metadata": {},
     "output_type": "execute_result"
    }
   ],
   "source": [
    "zeros = sym.roots(sym.numer(X), z)\n",
    "zeros"
   ]
  },
  {
   "cell_type": "markdown",
   "metadata": {},
   "source": [
    "Finally the pole-zero plot is plotted for $\\Omega = \\frac{\\pi}{4}$"
   ]
  },
  {
   "cell_type": "code",
   "execution_count": 4,
   "metadata": {
    "collapsed": false
   },
   "outputs": [
    {
     "data": {
      "image/png": "[encoded data removed]",
      "text/plain": [
       "<matplotlib.figure.Figure at 0x114d95860>"
      ]
     },
     "metadata": {},
     "output_type": "display_data"
    }
   ],
   "source": [
    "from pole_zero_plot import pole_zero_plot\n",
    "\n",
    "X2 = X.subs(W0, sym.pi/4)\n",
    "pole_zero_plot(sym.roots(sym.denom(X2), z), sym.roots(sym.numer(X2), z))"
   ]
  },
  {
   "cell_type": "markdown",
   "metadata": {
    "nbsphinx": "hidden"
   },
   "source": [
    "**Copyright**\n",
    "\n",
    "The notebooks are provided as [Open Educational Resource](https://de.wikipedia.org/wiki/Open_Educational_Resources). Feel free to use the notebooks for your own educational purposes. The text is licensed under [Creative Commons Attribution 4.0](https://creativecommons.org/licenses/by/4.0/), the code of the IPython examples under the [MIT license](https://opensource.org/licenses/MIT). Please attribute the work as follows: *Lecture Notes on Signals and Systems* by Sascha Spors."
   ]
  }
 ],
 "metadata": {
  "kernelspec": {
   "display_name": "Python 3",
   "language": "python",
   "name": "python3"
  },
  "language_info": {
   "codemirror_mode": {
    "name": "ipython",
    "version": 3
   },
   "file_extension": ".py",
   "mimetype": "text/x-python",
   "name": "python",
   "nbconvert_exporter": "python",
   "pygments_lexer": "ipython3",
   "version": "3.5.1"
  }
 },
 "nbformat": 4,
 "nbformat_minor": 0
}
