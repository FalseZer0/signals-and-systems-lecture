{
 "cells": [
  {
   "cell_type": "markdown",
   "metadata": {
    "nbsphinx": "hidden"
   },
   "source": [
    "# Periodic Signals\n",
    "\n",
    "*This Jupyter notebook is part of a [collection of notebooks](../index.ipynb) in the bachelors module Signals and Systems, Comunications Engineering, Universität Rostock. Please direct questions and suggestions to <mailto:Sascha.Spors@uni-rostock.de>.*"
   ]
  },
  {
   "cell_type": "markdown",
   "metadata": {},
   "source": [
    "## Spectrum\n",
    "\n",
    "Periodic signals are an import class of signals. Many practical signals can be approximated reasonably well as periodic functions. The latter holds often when considering only a limited time-interval. Examples for periodic signals are a superposition of harmonic signals, signals captured from vibrating structures or rotating machinery, as well as speech signals or signals from musical instruments. The spectrum of a periodic signal exhibits specific properties which are derived in the following."
   ]
  },
  {
   "cell_type": "markdown",
   "metadata": {},
   "source": [
    "### Representation\n",
    "\n",
    "A [periodic signal](https://en.wikipedia.org/wiki/Periodic_function) $x(t)$ is a signal that repeats its values in regular periods. It has to fulfill\n",
    "\n",
    "\\begin{equation}\n",
    "x(t) = x(t + n \\cdot T_\\text{p})\n",
    "\\end{equation}\n",
    "\n",
    "for $n \\in \\mathbb{Z}$ where its period is denoted by $T_\\text{p} > 0$. A signal is termed *aperiodic* if is not periodic. One period $x_0(t)$ of a periodic signal is given as \n",
    "\n",
    "\\begin{equation}\n",
    "x_0(t) = \\begin{cases}\n",
    "x(t) & \\text{for } 0 \\leq t < T_\\text{p} \\\\\n",
    "0 & \\text{otherwise}\n",
    "\\end{cases}\n",
    "\\end{equation}\n",
    "\n",
    "A periodic signal can be represented by [periodic summation](https://en.wikipedia.org/wiki/Periodic_summation) of one period $x_0(t)$\n",
    "\n",
    "\\begin{equation}\n",
    "x(t) = \\sum_{\\mu = - \\infty}^{\\infty} x_0(t - \\mu T_\\text{p})\n",
    "\\end{equation}\n",
    "\n",
    "which can be rewritten as convolution\n",
    "\n",
    "\\begin{equation}\n",
    "x(t) = \\sum_{\\mu = - \\infty}^{\\infty} x_0(t) * \\delta(t - \\mu T_\\text{p}) = x_0(t) * \\sum_{\\mu = - \\infty}^{\\infty} \\delta(t - \\mu T_\\text{p})\n",
    "\\end{equation}\n",
    "\n",
    "using the sifting property of the Dirac impulse. It can be concluded that a periodic signal can be represented by one period $x_0(t)$ of the signal convolved with a series of Dirac impulses."
   ]
  },
  {
   "cell_type": "markdown",
   "metadata": {},
   "source": [
    "**Example**\n",
    "\n",
    "The cosine signal $x(t) = \\cos (\\omega_0 t)$ has a periodicity of $T_\\text{p} = \\frac{2 \\pi}{\\omega_0}$. One period is given as\n",
    "\n",
    "\\begin{equation}\n",
    "x_0(t) = \\cos (\\omega_0 t) \\cdot \\text{rect} \\left( \\frac{t}{T_\\text{p}} - \\frac{T_\\text{p}}{2} \\right)\n",
    "\\end{equation}\n",
    "\n",
    "Introduced into above representation of a periodic signal yields\n",
    "\n",
    "\\begin{align}\n",
    "x(t) &= \\cos (\\omega_0 t) \\cdot \\text{rect} \\left( \\frac{t}{T_\\text{p}} - \\frac{T_\\text{p}}{2} \\right) * \\sum_{\\mu = - \\infty}^{\\infty} \\delta(t - \\mu T_\\text{p}) \\\\\n",
    "&= \\cos (\\omega_0 t) \\sum_{\\mu = - \\infty}^{\\infty} \\text{rect} \\left( \\frac{t}{T_\\text{p}} - \\frac{T_\\text{p}}{2} - \\mu T_\\text{p} \\right) \\\\\n",
    "&= \\cos (\\omega_0 t)\n",
    "\\end{align}\n",
    "\n",
    "since the sum over the shifted rectangular signals is equal to one."
   ]
  },
  {
   "cell_type": "markdown",
   "metadata": {},
   "source": [
    "### The Dirac Comb\n",
    "\n",
    "The sum of shifted Dirac impulses, as used above to represent a periodic signal, is known as [*Dirac comb*](https://en.wikipedia.org/wiki/Dirac_comb). The Dirac comb is defined as\n",
    "\n",
    "\\begin{equation}\n",
    "{\\bot \\!\\! \\bot \\!\\! \\bot}(t) = \\sum_{\\mu = - \\infty}^{\\infty} \\delta(t - \\mu)\n",
    "\\end{equation}\n",
    "\n",
    "It is used for the representation of periodic signals and for the modeling of ideal sampling. In order to compute the spectrum of a periodic signal, the Fourier transform of the Dirac comb $\\mathcal{F} \\{ {\\bot \\!\\! \\bot \\!\\! \\bot}(t) \\}$ is derived in the following.\n",
    "\n",
    "Fourier transformation of the left- and right-hand side of above definition yields\n",
    "\n",
    "\\begin{equation}\n",
    "\\mathcal{F} \\{ {\\bot \\!\\! \\bot \\!\\! \\bot}(t) \\} = \\sum_{\\mu = - \\infty}^{\\infty} e^{-j \\mu \\omega}\n",
    "\\end{equation}\n",
    "\n",
    "The exponential function $e^{-j \\mu \\omega}$ for $\\mu \\in \\mathbb{Z}$ is periodic with a period of $2 \\pi$. Hence, the Fourier transform of the Dirac comb is also periodic with a period of $2 \\pi$. \n",
    "\n",
    "Convolving a [rectangular signal](../notebooks/continuous_signals/standard_signals.ipynb#Rectangular-Signal) with the Dirac comb results in\n",
    "\n",
    "\\begin{equation}\n",
    "{\\bot \\!\\! \\bot \\!\\! \\bot}(t) * \\text{rect}(t) = 1\n",
    "\\end{equation}\n",
    "\n",
    "Fourier transform of the left- and right-hand side yields\n",
    "\n",
    "\\begin{equation}\n",
    "\\mathcal{F} \\{ {\\bot \\!\\! \\bot \\!\\! \\bot}(t) \\} \\cdot \\text{sinc}\\left(\\frac{\\omega}{2}\\right) = 2 \\pi \\delta(\\omega)\n",
    "\\end{equation}\n",
    "\n",
    "For $\\text{sinc}( \\frac{\\omega}{2} ) \\neq 0$, which is equal to $\\omega \\neq 2 n \\cdot \\pi$ with $n \\in \\mathbb{Z} \\setminus \\{0\\}$, this can be rearranged as\n",
    "\n",
    "\\begin{equation}\n",
    "\\mathcal{F} \\{ {\\bot \\!\\! \\bot \\!\\! \\bot}(t) \\} = 2 \\pi \\, \\delta(\\omega) \\cdot \\frac{1}{\\text{sinc}\\left(\\frac{\\omega}{2}\\right)} = 2 \\pi \\, \\delta(\\omega)\n",
    "\\end{equation}\n",
    "\n",
    "Note that the [multiplication property](../continuous_signals/standard_signals.ipynb#Dirac-Impulse) of the Dirac impulse and $\\text{sinc}(0) = 1$ has been used to derive the last equality. The Fourier transform is now known for the interval $-2 \\pi < \\omega < 2 \\pi$. It has already been concluded that the Fourier transform is periodic with a period of $2 \\pi$. Hence, the Fourier transformation of the Dirac comb can be derived by periodic continuation as\n",
    "\n",
    "\\begin{equation}\n",
    "\\mathcal{F} \\{ {\\bot \\!\\! \\bot \\!\\! \\bot}(t) \\} = \\sum_{\\mu = - \\infty}^{\\infty} 2 \\pi \\, \\delta(\\omega - 2 \\pi \\mu) = \\sum_{\\mu = - \\infty}^{\\infty} 2 \\pi \\, \\left( \\frac{\\omega}{2 \\pi} - \\mu \\right)\n",
    "\\end{equation}\n",
    "\n",
    "The last equality follows from the scaling property of the Dirac impulse. The Fourier transform can now be rewritten in terms of the Dirac comb\n",
    "\n",
    "\\begin{equation}\n",
    "\\mathcal{F} \\{ {\\bot \\!\\! \\bot \\!\\! \\bot}(t) \\} = {\\bot \\!\\! \\bot \\!\\! \\bot} \\left( \\frac{\\omega}{2 \\pi} \\right)\n",
    "\\end{equation}\n",
    "\n",
    "The Fourier transform of a Dirac comb with unit distance between the Dirac impulses is a Dirac comb with a distance of $2 \\pi$ between the Dirac impulses which are weighted by $2 \\pi$."
   ]
  },
  {
   "cell_type": "markdown",
   "metadata": {},
   "source": [
    "**Example**\n",
    "\n",
    "The following example computes the truncated series\n",
    "\n",
    "\\begin{equation}\n",
    "X(j \\omega) = \\sum_{\\mu = -M}^{M} e^{-j \\mu \\omega}\n",
    "\\end{equation}\n",
    "\n",
    "as approximation of the Fourier transform $\\mathcal{F} \\{ {\\bot \\!\\! \\bot \\!\\! \\bot}(t) \\}$ of the Dirac comb. For this purpose the sum is defined and plotted in `SymPy`."
   ]
  },
  {
   "cell_type": "code",
   "execution_count": 1,
   "metadata": {
    "collapsed": false
   },
   "outputs": [
    {
     "data": {
      "image/png": "[encoded data removed]",
      "text/plain": [
       "<matplotlib.figure.Figure at 0x106eecfd0>"
      ]
     },
     "metadata": {},
     "output_type": "display_data"
    }
   ],
   "source": [
    "%matplotlib inline\n",
    "import sympy as sym\n",
    "sym.init_printing()\n",
    "\n",
    "mu = sym.symbols('mu', integer=True)\n",
    "w = sym.symbols('omega', real=True)\n",
    "M = 20\n",
    "\n",
    "X = sym.Sum(sym.exp(-sym.I*mu*w), (mu, -M, M)).doit()\n",
    "sym.plot(X, xlabel='$\\omega$', ylabel='$X(j \\omega)$', adaptive=False, nb_of_points=1000);"
   ]
  },
  {
   "cell_type": "markdown",
   "metadata": {},
   "source": [
    "**Exercise**\n",
    "\n",
    "* Change the summation limit $M$. How does the approximation change? Note: Increasing $M$ above a certain threshold may lead to numerical instabilities."
   ]
  },
  {
   "cell_type": "markdown",
   "metadata": {},
   "source": [
    "### Fourier-Transform\n",
    "\n",
    "In order to derive the Fourier transform $X(j \\omega) = \\mathcal{F} \\{ x(t) \\}$ of a periodic signal $x(t)$ with period $T_\\text{p}$, the signal is represented by one period $x_0(t)$ and the Dirac comb. Rewriting above representation of a periodic signal in terms of a sum of Dirac impulses by noting that $\\delta(t - \\mu T_\\text{p}) = \\frac{1}{T_\\text{p}} \\delta(\\frac{t}{T_\\text{p}} - \\mu)$ yields\n",
    "\n",
    "\\begin{equation}\n",
    "x(t) = x_0(t) * \\frac{1}{T_\\text{p}} {\\bot \\!\\! \\bot \\!\\! \\bot} \\left( \\frac{t}{T_\\text{p}} \\right)\n",
    "\\end{equation}\n",
    "\n",
    "The Fourier transform is derived by application of the [convolution theorem](../fourier_transform/theorems.ipynb#Convolution-Theorem)\n",
    "\n",
    "\\begin{align}\n",
    "X(j \\omega) &= X_0(j \\omega) \\cdot {\\bot \\!\\! \\bot \\!\\! \\bot} \\left( \\frac{\\omega T_\\text{p}}{2 \\pi} \\right) \\\\\n",
    "&= \\frac{2 \\pi}{T_\\text{p}} \\sum_{\\mu = - \\infty}^{\\infty} X_0 \\left( j \\, \\mu \\frac{2 \\pi}{T_\\text{p}} \\right) \\cdot\n",
    "\\delta \\left( \\omega - \\mu \\frac{2 \\pi}{T_\\text{p}} \\right)\n",
    "\\end{align}\n",
    "\n",
    "where $X_0(j \\omega) = \\mathcal{F} \\{ x_0(t) \\}$ denotes the Fourier transform of one period of the periodic signal. From the last equality it can be concluded that the Fourier transform of a periodic signal consists of a series of weighted Dirac impulses. These Dirac impulse are equally distributed on the frequency axis $\\omega$ at an interval of $\\frac{2 \\pi}{T_\\text{p}}$. The weights of the Dirac impulse are given by the values of the spectrum $X_0(j \\omega)$ of one period at the locations $\\omega = \\mu \\frac{2 \\pi}{T_\\text{p}}$. Such a spectrum is termed *line spectrum*."
   ]
  },
  {
   "cell_type": "markdown",
   "metadata": {},
   "source": [
    "### Parseval's Theorem\n",
    "\n",
    "[Parseval's theorem](../fourier_transform/theorems.ipynb#Parseval%27s-Theorem) relates the energy of a signal in the time domain to its spectrum. The energy of a periodic signal is in general not defined. This is due to the fact that its energy is unlimited, if the energy of one period is non-zero. As alternative, the average power of a periodic signal $x(t)$ is used. It is defined as\n",
    "\n",
    "\\begin{equation}\n",
    "P = \\frac{1}{T_\\text{p}} \\int_{0}^{T_\\text{p}} |x(t)|^2 \\; dt\n",
    "\\end{equation}\n",
    "\n",
    "Introducing the Fourier transform of a periodic signal into [Parseval's theorem](../fourier_transform/theorems.ipynb#Parseval%27s-Theorem) yields\n",
    "\n",
    "\\begin{equation}\n",
    "\\frac{1}{T_\\text{p}} \\int_{0}^{T_\\text{p}} |x(t)|^2 \\; dt = \\frac{1}{T_\\text{p}} \\sum_{\\mu = - \\infty}^{\\infty} \\left| X_0 \\left( j \\, \\mu \\frac{2 \\pi}{T_\\text{p}} \\right) \\right|^2\n",
    "\\end{equation}\n",
    "\n",
    "The average power of a periodic signal can be calculated in the time-domain by integrating over the squared magnitude of one period or in the frequency domain by summing up the squared magnitude weights of the coefficients of the Dirac impulses of its Fourier transform."
   ]
  },
  {
   "cell_type": "markdown",
   "metadata": {},
   "source": [
    "### Fourier Transform of the Pulse Train\n",
    "\n",
    "The [pulse train](https://en.wikipedia.org/wiki/Pulse_wave) is commonly used for power control using [pulse-width modulation (PWM)](https://en.wikipedia.org/wiki/Pulse-width_modulation). It is constructed from a periodic summation of a rectangular signal $x_0(t) = \\text{rect} (\\frac{t}{T} - \\frac{T}{2})$\n",
    "\n",
    "\\begin{equation}\n",
    "x(t) = \\text{rect} \\left( \\frac{t}{T} - \\frac{T}{2} \\right) * \\frac{1}{T_\\text{p}} {\\bot \\!\\! \\bot \\!\\! \\bot} \\left( \\frac{t}{T_\\text{p}} \\right)\n",
    "\\end{equation}\n",
    "\n",
    "where $0 < T < T_\\text{p}$ denotes the width of the pulse and $T_\\text{p}$ its periodicity. Its usage for power control becomes evident when calculating the average power of the pulse train\n",
    "\n",
    "\\begin{equation}\n",
    "P = \\frac{1}{T_\\text{p}} \\int_{0}^{T_\\text{p}} | x(t) |^2 dt = \\frac{T}{T_\\text{p}}\n",
    "\\end{equation}\n",
    "\n",
    "The Fourier transform of one period $X_0(j \\omega) = \\mathcal{F} \\{ x_0(t) \\}$ is derived by applying the scaling and shift theorem of the Fourier transform to the [Fourier transform of the retangular signal](../fourier_transform/definition.ipynb#Transformation-of-the-Rectangular-Signal)\n",
    "\n",
    "\\begin{equation}\n",
    "X_0(j \\omega) = e^{-j \\omega \\frac{T}{2}} \\cdot T \\, \\text{sinc} \\left( \\frac{\\omega T}{2} \\right)\n",
    "\\end{equation}\n",
    "\n",
    "from which the spectrum of the pulse train follows by application of above formula for the Fourier transform of a periodic signal\n",
    "\n",
    "\\begin{equation}\n",
    "X(j \\omega) = 2 \\pi \\frac{1}{T_\\text{p}} \\sum_{\\mu = - \\infty}^{\\infty} e^{-j \\mu \\pi \\frac{T}{T_\\text{p}}} \\cdot T \\, \\text{sinc} \\left( \\mu \\pi \\frac{T}{T_\\text{p}} \\right) \\cdot \\delta \\left( \\omega - \\mu \\frac{2 \\pi}{T_\\text{p}} \\right)\n",
    "\\end{equation}\n",
    "\n",
    "The weights of the Dirac impulses are defined in `SymPy` for fixed values $T$ and $T_\\text{p}$"
   ]
  },
  {
   "cell_type": "code",
   "execution_count": 2,
   "metadata": {
    "collapsed": false
   },
   "outputs": [
    {
     "data": {
      "image/png": "[encoded data removed]",
      "text/latex": [
       "$$2 e^{- \\frac{2 \\pi}{5} i \\mu} \\operatorname{sinc}{\\left (\\frac{2 \\pi}{5} \\mu \\right )}$$"
      ],
      "text/plain": [
       "   -2⋅ⅈ⋅π⋅μ             \n",
       "   ─────────            \n",
       "       5         ⎛2⋅π⋅μ⎞\n",
       "2⋅ℯ         ⋅sinc⎜─────⎟\n",
       "                 ⎝  5  ⎠"
      ]
     },
     "execution_count": 2,
     "metadata": {},
     "output_type": "execute_result"
    }
   ],
   "source": [
    "mu = sym.symbols('mu', integer=True)\n",
    "T = 2\n",
    "Tp = 5\n",
    "\n",
    "X_mu = sym.exp(-sym.I * mu * sym.pi * T/Tp) * T * sym.sinc(mu * sym.pi * T/Tp)\n",
    "X_mu"
   ]
  },
  {
   "cell_type": "markdown",
   "metadata": {},
   "source": [
    "The weights of the Dirac impulses are plotted with [`matplotlib`](http://matplotlib.org/index.html), a Python plotting library. The library expects the values of the function to be plotted at a series of sampling points. In order to create these, the function [`sympy.lambdify`](http://docs.sympy.org/latest/modules/utilities/lambdify.html?highlight=lambdify#sympy.utilities.lambdify) is used which numerically evaluates a symbolic function at given sampling points. The resulting plot illustrates the positions and weights of the Dirac impulses."
   ]
  },
  {
   "cell_type": "code",
   "execution_count": 3,
   "metadata": {
    "collapsed": false
   },
   "outputs": [
    {
     "data": {
      "image/png": "[encoded data removed]",
      "text/plain": [
       "<matplotlib.figure.Figure at 0x106ae1cc0>"
      ]
     },
     "metadata": {},
     "output_type": "display_data"
    }
   ],
   "source": [
    "import numpy as np\n",
    "import matplotlib.pyplot as plt\n",
    "\n",
    "Xn = sym.lambdify(mu, sym.Abs(X_mu), 'numpy')\n",
    "\n",
    "n = np.arange(-15, 15)\n",
    "plt.stem(n*2*np.pi/Tp, Xn(n))\n",
    "plt.xlabel('$\\omega$')\n",
    "plt.ylabel('$|X(j \\omega)|$');"
   ]
  },
  {
   "cell_type": "markdown",
   "metadata": {},
   "source": [
    "**Exercise**\n",
    "\n",
    "* Change the ratio $\\frac{T}{T_\\text{p}}$. How does the spectrum of the pulse train change?\n",
    "* Can you derive the periodicity $T_\\text{p}$ of the signal from its spectrum?\n",
    "* Calculate the average power of the pulse train in the frequency domain by applying Parseval's theorem."
   ]
  },
  {
   "cell_type": "markdown",
   "metadata": {
    "nbsphinx": "hidden"
   },
   "source": [
    "**Copyright**\n",
    "\n",
    "The notebooks are provided as [Open Educational Resource](https://de.wikipedia.org/wiki/Open_Educational_Resources). Feel free to use the notebooks for your own educational purposes. The text is licensed under [Creative Commons Attribution 4.0](https://creativecommons.org/licenses/by/4.0/), the code of the IPython examples under the [MIT license](https://opensource.org/licenses/MIT). Please attribute the work as follows: *Lecture Notes on Signals and Systems* by Sascha Spors."
   ]
  }
 ],
 "metadata": {
  "kernelspec": {
   "display_name": "Python 3",
   "language": "python",
   "name": "python3"
  },
  "language_info": {
   "codemirror_mode": {
    "name": "ipython",
    "version": 3
   },
   "file_extension": ".py",
   "mimetype": "text/x-python",
   "name": "python",
   "nbconvert_exporter": "python",
   "pygments_lexer": "ipython3",
   "version": "3.5.1"
  }
 },
 "nbformat": 4,
 "nbformat_minor": 0
}
