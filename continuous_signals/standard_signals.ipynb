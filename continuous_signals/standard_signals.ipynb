{
 "cells": [
  {
   "cell_type": "markdown",
   "metadata": {},
   "source": [
    "# Continuous Signals\n",
    "\n",
    "*This Jupyter notebook is part of a [collection of notebooks](../index.ipynb) in the bachelors module Signals and Systems, Comunications Engineering, Universität Rostock. Please direct questions and suggestions to <mailto:Sascha.Spors@uni-rostock.de>.*"
   ]
  },
  {
   "cell_type": "markdown",
   "metadata": {},
   "source": [
    "## Standard Signals\n",
    "\n",
    "Certain [signals](https://en.wikipedia.org/wiki/Signal_%28electrical_engineering%29) play an important role in the theory and practical application of [signal processing](https://en.wikipedia.org/wiki/Signal_processing). They emerge from the theory of signals and systems, are used to characterize the properties of linear time-invariant (LTI) systems or frequently occur in practical applications. These standard signals are introduced and illustrated in the following. The treatise is limited to one-dimensional deterministic time- and amplitude-continuous signals."
   ]
  },
  {
   "cell_type": "markdown",
   "metadata": {},
   "source": [
    "### Complex Exponential Signal\n",
    "\n",
    "The complex exponential signal is defined by the [complex exponential function](https://en.wikipedia.org/wiki/Exponential_function#Complex_plane)\n",
    "\n",
    "\\begin{equation}\n",
    "x(t) = e^{s t} \n",
    "\\end{equation}\n",
    "\n",
    "where $s = \\sigma + j \\omega$ denotes the complex frequency with $\\sigma, \\omega \\in \\mathbb{R}$. It is used as a generalized representation of harmonic signals. Using [Euler's formula](https://en.wikipedia.org/wiki/Euler's_formula) the definition can be reformulated as\n",
    "\n",
    "\\begin{equation}\n",
    "x(t) = e^{(\\sigma + j \\omega) t} = e^{\\sigma t} \\cos(\\omega t) + j e^{\\sigma t} \\sin(\\omega t)\n",
    "\\end{equation}\n",
    "\n",
    "The real/imaginary part of the exponential signal is given by a weighted cosine/sine with angular frequency $\\omega = 2 \\pi f$. The time-dependent weight $e^{\\sigma t}$ is\n",
    "\n",
    "* exponentially decaying over time for $\\sigma < 0$\n",
    "* constantly one for $\\sigma = 0$\n",
    "* exponentially growing over time for $\\sigma > 0$.\n",
    "\n",
    "The complex exponential function is used to model harmonic signals with exponentially decreasing/increasing amplitude."
   ]
  },
  {
   "cell_type": "markdown",
   "metadata": {},
   "source": [
    "**Example**\n",
    "\n",
    "The following example illustrates the complex exponential signal and its parameters. The Python module [SymPy](http://docs.sympy.org/latest/index.html) is used for this purpose. It provides functionality for symbolic functions and mathematics. The required symbolic variables need to be defined explicitly before usage. In the example $t$, $\\omega$ and $\\sigma$ are defined as symbolic variables, followed by the definition of the exponential signal."
   ]
  },
  {
   "cell_type": "code",
   "execution_count": 1,
   "metadata": {
    "collapsed": false
   },
   "outputs": [
    {
     "data": {
      "image/png": "[encoded data removed]",
      "text/latex": [
       "$$e^{t \\left(1.0 i \\omega + \\sigma\\right)}$$"
      ],
      "text/plain": [
       " t⋅(1.0⋅ⅈ⋅ω + σ)\n",
       "ℯ               "
      ]
     },
     "execution_count": 1,
     "metadata": {},
     "output_type": "execute_result"
    }
   ],
   "source": [
    "%matplotlib inline\n",
    "import sympy as sym\n",
    "sym.init_printing()\n",
    "\n",
    "t, sigma, omega = sym.symbols('t sigma omega', real=True)\n",
    "s = sigma + 1j*omega\n",
    "x = sym.exp(s*t)\n",
    "x"
   ]
  },
  {
   "cell_type": "markdown",
   "metadata": {},
   "source": [
    "Now specific values for the complex frequency $s = \\sigma + j \\omega$ are considered for illustration. A new signal is defined by substituting both $\\sigma$ and $\\omega$ with specific values."
   ]
  },
  {
   "cell_type": "code",
   "execution_count": 2,
   "metadata": {
    "collapsed": false
   },
   "outputs": [
    {
     "data": {
      "image/png": "[encoded data removed]",
      "text/plain": [
       "<matplotlib.figure.Figure at 0x113ccc978>"
      ]
     },
     "metadata": {},
     "output_type": "display_data"
    },
    {
     "data": {
      "image/png": "[encoded data removed]",
      "text/plain": [
       "<matplotlib.figure.Figure at 0x113f2d7f0>"
      ]
     },
     "metadata": {},
     "output_type": "display_data"
    }
   ],
   "source": [
    "y = x.subs(omega, 5).subs(sigma, .5)\n",
    "\n",
    "sym.plot(sym.re(y), (t, 0, 2*sym.pi), ylabel=r'Re{$e^{st}$}')\n",
    "sym.plot(sym.im(y), (t, 0, 2*sym.pi), ylabel=r'Im{$e^{st}$}');"
   ]
  },
  {
   "cell_type": "markdown",
   "metadata": {},
   "source": [
    "**Exercise**\n",
    "\n",
    "* Try out other values for `omega` and `sigma` and create signals with increasing/constant/decreasing amplitude and different frequencies."
   ]
  },
  {
   "cell_type": "markdown",
   "metadata": {},
   "source": [
    "### Dirac Impulse\n",
    "\n",
    "The Dirac impulse is one of the most important signals in the theory of signals and systems. It is used for the characterization of LTI systems and the modeling of impulse-like signals. The Dirac impulse is defined by way of the [Dirac delta function](https://en.wikipedia.org/wiki/Dirac_delta_function) which is not a function in the conventional sense but a generalized function or *distribution*. The Dirac impulse is denoted as\n",
    "\n",
    "\\begin{equation}\n",
    "x(t) = \\delta(t)\n",
    "\\end{equation}\n",
    "\n",
    "The Dirac delta function can be defined as the limiting case of other functions or by its effect on other functions. Please refer to the literature for a detailed discussion of the mathematical foundations of the Dirac delta distribution. For its application in signal processing it is suitable to consider only certain properties. The most relevant properties of the Dirac impulse in the context of signals and systems are\n",
    "\n",
    "1. **Sifting property**\n",
    "    \\begin{equation}\n",
    "    \\int_{-\\infty}^{\\infty} \\delta(t) \\cdot s(t) = s(0)\n",
    "    \\end{equation}\n",
    "    where $s(t)$ needs to be differentiable at $t=0$. The sifting property implies $\\int_{-\\infty}^{\\infty} \\delta(t) = 1$.\n",
    "    \n",
    "2. **Multiplication**\n",
    "    \\begin{equation}\n",
    "    s(t) \\cdot \\delta(t) = s(0) \\cdot \\delta(t)\n",
    "    \\end{equation}\n",
    "    where $s(t)$ needs to be differentiable at $t=0$.\n",
    "    \n",
    "3. **Linearity**\n",
    "    \\begin{equation}\n",
    "    a \\cdot \\delta(t) + b \\cdot \\delta(t) = (a+b) \\cdot \\delta(t)\n",
    "    \\end{equation}\n",
    "    \n",
    "4. **Scaling**\n",
    "    \\begin{equation}\n",
    "    \\delta(a t) = \\frac{1}{|a|} \\delta(t)\n",
    "    \\end{equation}\n",
    "    where $a \\in \\mathbb{R} \\setminus 0$. This implies that the Dirac impulse is a function with even symmetry.\n",
    "    \n",
    "5. **Derivation**\n",
    "    \\begin{equation}\n",
    "    \\int_{-\\infty}^{\\infty} \\dot{\\delta}(t) \\cdot s(t) = -\\dot{s}(0)\n",
    "    \\end{equation}\n",
    "\n",
    "It is important to note that the product $\\delta(t) \\cdot \\delta(t)$ of two Dirac impulses is not defined."
   ]
  },
  {
   "cell_type": "markdown",
   "metadata": {},
   "source": [
    "**Example**\n",
    "\n",
    "This example illustrates some of the properties of the Delta impulse. Let's first define a Delta impulse by the Dirac delta function"
   ]
  },
  {
   "cell_type": "code",
   "execution_count": 3,
   "metadata": {
    "collapsed": false
   },
   "outputs": [
    {
     "data": {
      "image/png": "[encoded data removed]",
      "text/latex": [
       "$$\\delta\\left(t\\right)$$"
      ],
      "text/plain": [
       "DiracDelta(t)"
      ]
     },
     "execution_count": 3,
     "metadata": {},
     "output_type": "execute_result"
    }
   ],
   "source": [
    "x = sym.DiracDelta(t)\n",
    "x"
   ]
  },
  {
   "cell_type": "markdown",
   "metadata": {},
   "source": [
    "Now let's check the sifting property by defining a arbitrary signal (function) $s(t)$ and integrating over its product with the Delta impulse"
   ]
  },
  {
   "cell_type": "code",
   "execution_count": 4,
   "metadata": {
    "collapsed": false
   },
   "outputs": [
    {
     "data": {
      "image/png": "[encoded data removed]",
      "text/latex": [
       "$$s{\\left (0 \\right )}$$"
      ],
      "text/plain": [
       "s(0)"
      ]
     },
     "execution_count": 4,
     "metadata": {},
     "output_type": "execute_result"
    }
   ],
   "source": [
    "s = sym.Function('s')\n",
    "sym.integrate(x*s(t), (t, -sym.oo, sym.oo))"
   ]
  },
  {
   "cell_type": "markdown",
   "metadata": {},
   "source": [
    "**Exercise**\n",
    "\n",
    "* Derive the sifting property for a shifted dirac impulse $\\delta(t-\\tau)$ and check your results by modifing above example."
   ]
  },
  {
   "cell_type": "markdown",
   "metadata": {},
   "source": [
    "### Heaviside Signal\n",
    "\n",
    "The Heaviside signal is defined by the [Heaviside step function](https://en.wikipedia.org/wiki/Heaviside_step_function)\n",
    "\n",
    "\\begin{equation}\n",
    "\\epsilon(t) = \\begin{cases} 0 & t<0 \\\\  1 & t \\geq 0 \\end{cases}\n",
    "\\end{equation}\n",
    "\n",
    "Note that different definitions are used which differ with respect to the value of $\\epsilon(t)$ at $t=0$. The Heaviside signal is used to represent a signal that switches on at a specified time and stays switched on indefinitely. The Heaviside signal can be related to the Dirac impulse by\n",
    "\n",
    "\\begin{equation}\n",
    "\\int_{-\\infty}^{t} \\delta(\\tau) d\\tau = \\epsilon(t)\n",
    "\\end{equation}"
   ]
  },
  {
   "cell_type": "markdown",
   "metadata": {},
   "source": [
    "**Example**\n",
    "\n",
    "In the following an Heaviside signal $x(t) = \\epsilon(t)$ is defined and plotted. Note that `Sympy` denotes the Heaviside function by $\\theta(t)$."
   ]
  },
  {
   "cell_type": "code",
   "execution_count": 5,
   "metadata": {
    "collapsed": false
   },
   "outputs": [
    {
     "data": {
      "image/png": "[encoded data removed]",
      "text/latex": [
       "$$\\theta\\left(t\\right)$$"
      ],
      "text/plain": [
       "Heaviside(t)"
      ]
     },
     "execution_count": 5,
     "metadata": {},
     "output_type": "execute_result"
    }
   ],
   "source": [
    "x = sym.Heaviside(t)\n",
    "x"
   ]
  },
  {
   "cell_type": "code",
   "execution_count": 6,
   "metadata": {
    "collapsed": false
   },
   "outputs": [
    {
     "data": {
      "image/png": "[encoded data removed]",
      "text/plain": [
       "<matplotlib.figure.Figure at 0x1146e1a58>"
      ]
     },
     "metadata": {},
     "output_type": "display_data"
    }
   ],
   "source": [
    "sym.plot(x, (t, -2, 2), ylim=[-0.2, 1.2], ylabel=r'$\\epsilon(t)$');"
   ]
  },
  {
   "cell_type": "markdown",
   "metadata": {},
   "source": [
    "Let's construct a harmonic signal $\\cos(\\omega t)$ with $\\omega=2$ which is switched on at $t=0$. Considering the definition of the Heaviside function, the desired signal is given as \n",
    "\n",
    "\\begin{equation}\n",
    "s(t) = \\cos(\\omega t) \\cdot \\epsilon(t)\n",
    "\\end{equation}"
   ]
  },
  {
   "cell_type": "code",
   "execution_count": 7,
   "metadata": {
    "collapsed": false
   },
   "outputs": [
    {
     "data": {
      "image/png": "[encoded data removed]",
      "text/plain": [
       "<matplotlib.figure.Figure at 0x114820908>"
      ]
     },
     "metadata": {},
     "output_type": "display_data"
    }
   ],
   "source": [
    "s = sym.cos(omega*t) * sym.Heaviside(t)\n",
    "sym.plot(s.subs(omega,2), (t, -2, 10), ylim=[-1.2, 1.2], ylabel=r'$s(t)$');"
   ]
  },
  {
   "cell_type": "markdown",
   "metadata": {},
   "source": [
    "### Rectangular Signal\n",
    "\n",
    "The rectangular signal is defined by the [rectangular function](https://en.wikipedia.org/wiki/Rectangular_function)\n",
    "\n",
    "\\begin{equation}\n",
    "\\text{rect}(t) = \\begin{cases} 1 & \\text{for } |t| < \\frac{1}{2} \\\\ 0 & \\text{otherwise}  \\end{cases}\n",
    "\\end{equation}\n",
    "\n",
    "Note that different definitions are used which differ with respect to the value of $\\text{rect}(t)$ at $t \\pm \\frac{1}{2}$. The rectangular signal is used to represent a signal which is switched on for a limited period of time or has finite duration. The rectangular signal can be related to the Heaviside signal\n",
    "\n",
    "\\begin{equation}\n",
    "\\text{rect}(t) = \\epsilon \\left(t + \\frac{1}{2} \\right) - \\epsilon \\left(t - \\frac{1}{2} \\right)\n",
    "\\end{equation}"
   ]
  },
  {
   "cell_type": "markdown",
   "metadata": {},
   "source": [
    "**Example**\n",
    "\n",
    "The Heaviside function is used to construct the rectangular signal in `Sympy`"
   ]
  },
  {
   "cell_type": "code",
   "execution_count": 8,
   "metadata": {
    "collapsed": false
   },
   "outputs": [
    {
     "data": {
      "image/png": "[encoded data removed]",
      "text/plain": [
       "<matplotlib.figure.Figure at 0x114820d30>"
      ]
     },
     "metadata": {},
     "output_type": "display_data"
    }
   ],
   "source": [
    "x = sym.Heaviside(t).subs(t, t+1/2) - sym.Heaviside(t).subs(t, t-1/2)\n",
    "sym.plot(x, (t, -1, 1), ylim=[-0.2, 1.2], ylabel=r'rect$(t)$');"
   ]
  },
  {
   "cell_type": "markdown",
   "metadata": {},
   "source": [
    "**Exercise**\n",
    "\n",
    "* Use $\\text{rect}(t)$ to construct a harmonic signal $\\cos(\\omega t)$ with $\\omega=2$ which is switched on at $t=-\\frac{1}{2}$ and switched off at $t=+\\frac{1}{2}$."
   ]
  },
  {
   "cell_type": "markdown",
   "metadata": {},
   "source": [
    "### Sign Signal\n",
    "\n",
    "The sign signal is defined by the [sign/signum function](https://en.wikipedia.org/wiki/Sign_function) which evaluates the sign of its argument\n",
    "\n",
    "\\begin{equation}\n",
    "\\text{sgn}(t) = \\begin{cases} 1 & t>0 \\\\ 0 & t=0 \\\\ -1 & t < 0  \\end{cases}\n",
    "\\end{equation}\n",
    "\n",
    "The sign signal is useful to represent the absolute value of a signal $s(t)$ by a multiplication\n",
    "\n",
    "\\begin{equation}\n",
    "|s(t)| = s(t) \\cdot \\text{sgn}(s(t))\n",
    "\\end{equation}\n",
    "\n",
    "It is related to the Heaviside function as follows\n",
    "\n",
    "\\begin{equation}\n",
    "\\text{sgn}(t) = 2 \\cdot \\epsilon(t) - 1\n",
    "\\end{equation}"
   ]
  },
  {
   "cell_type": "markdown",
   "metadata": {},
   "source": [
    "**Example**\n",
    "\n",
    "The following example illustrates the sign signal $x(t) = \\text{sgn}(t)$. Note that the sign function is represented as $\\text{sign}(t)$ in `Sympy`."
   ]
  },
  {
   "cell_type": "code",
   "execution_count": 9,
   "metadata": {
    "collapsed": false
   },
   "outputs": [
    {
     "data": {
      "image/png": "[encoded data removed]",
      "text/latex": [
       "$$\\operatorname{sign}{\\left (t \\right )}$$"
      ],
      "text/plain": [
       "sign(t)"
      ]
     },
     "execution_count": 9,
     "metadata": {},
     "output_type": "execute_result"
    }
   ],
   "source": [
    "x = sym.sign(t)\n",
    "x"
   ]
  },
  {
   "cell_type": "code",
   "execution_count": 10,
   "metadata": {
    "collapsed": false
   },
   "outputs": [
    {
     "data": {
      "image/png": "[encoded data removed]",
      "text/plain": [
       "<matplotlib.figure.Figure at 0x1147aebe0>"
      ]
     },
     "metadata": {},
     "output_type": "display_data"
    }
   ],
   "source": [
    "sym.plot(x, (t, -2, 2), ylim=[-1.2, 1.2], ylabel=r'sgn$(t)$');"
   ]
  },
  {
   "cell_type": "markdown",
   "metadata": {},
   "source": [
    "**Copyright**\n",
    "\n",
    "The notebooks are provided as [Open Educational Resource](https://de.wikipedia.org/wiki/Open_Educational_Resources). Feel free to use the notebooks for your own educational purposes. The text is licensed under [Creative Commons Attribution 4.0](https://creativecommons.org/licenses/by/4.0/), the code of the IPython examples under the [MIT license](https://opensource.org/licenses/MIT). Please attribute the work as follows: *Lecture Notes on Signals and Systems* by Sascha Spors."
   ]
  }
 ],
 "metadata": {
  "kernelspec": {
   "display_name": "Python 3",
   "language": "python",
   "name": "python3"
  },
  "language_info": {
   "codemirror_mode": {
    "name": "ipython",
    "version": 3
   },
   "file_extension": ".py",
   "mimetype": "text/x-python",
   "name": "python",
   "nbconvert_exporter": "python",
   "pygments_lexer": "ipython3",
   "version": "3.5.1"
  }
 },
 "nbformat": 4,
 "nbformat_minor": 0
}
