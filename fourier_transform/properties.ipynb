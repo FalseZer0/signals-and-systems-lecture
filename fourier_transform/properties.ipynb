{
 "cells": [
  {
   "cell_type": "markdown",
   "metadata": {
    "nbsphinx": "hidden"
   },
   "source": [
    "# The Fourier Transform\n",
    "\n",
    "*This Jupyter notebook is part of a [collection of notebooks](../index.ipynb) in the bachelors module Signals and Systems, Comunications Engineering, Universität Rostock. Please direct questions and suggestions to <mailto:Sascha.Spors@uni-rostock.de>.*"
   ]
  },
  {
   "cell_type": "markdown",
   "metadata": {},
   "source": [
    "## Properties\n",
    "\n",
    "The Fourier transform has a number of specific properties. They can be concluded from its definition. The most important ones in the context of signals and systems are reviewed in the following."
   ]
  },
  {
   "cell_type": "markdown",
   "metadata": {},
   "source": [
    "### Invertibility\n",
    "\n",
    "According to the [Fourier inversion theorem](https://en.wikipedia.org/wiki/Fourier_inversion_theorem), for many types of signals it is possible to recover the signal $x(t)$ from its Fourier transformation $X(j \\omega) = \\mathcal{F} \\{ x(t) \\}$\n",
    "\n",
    "\\begin{equation}\n",
    "x(t) = \\mathcal{F}^{-1} \\left\\{ \\mathcal{F} \\{ x(t) \\} \\right\\}\n",
    "\\end{equation}\n",
    "\n",
    "A sufficient condition for the theorem to hold is that both the signal $x(t)$ and its Fourier transformation are absolutely integrable and $x(t)$ is continuous at the considered time $t$. For this type of signals, above relation can be proven by applying the definition of the Fourier transform and its inverse and rearranging terms. However, the invertibility of the Fourier transformation holds also for more general signals $x(t)$, composed for instance from Dirac delta functions."
   ]
  },
  {
   "cell_type": "markdown",
   "metadata": {},
   "source": [
    "**Example**\n",
    "\n",
    "The invertibility of the Fourier transform is illustrated at the example of the [rectangular signal](../continuous_signals/standard_signals.ipynb#Rectangular-Signal) $x(t) = \\text{rect}(t)$. The inverse of [its Fourier transform](definition.ipynb#Transformation-of-the-Rectangular-Signal) $X(j \\omega) = \\text{sinc} \\left( \\frac{\\omega}{2} \\right)$ is computed to show that the rectangular signal, although it has discontinuities, can be recovered by inverse Fourier transformation."
   ]
  },
  {
   "cell_type": "code",
   "execution_count": 1,
   "metadata": {
    "collapsed": true
   },
   "outputs": [],
   "source": [
    "%matplotlib inline\n",
    "import sympy as sym\n",
    "sym.init_printing()\n",
    "\n",
    "def fourier_transform(x):\n",
    "    return sym.transforms._fourier_transform(x, t, w, 1, -1, 'Fourier')\n",
    "\n",
    "def inverse_fourier_transform(X):\n",
    "    return sym.transforms._fourier_transform(X, w, t, 1/(2*sym.pi), 1, 'Inverse Fourier')"
   ]
  },
  {
   "cell_type": "code",
   "execution_count": 2,
   "metadata": {
    "collapsed": false
   },
   "outputs": [
    {
     "data": {
      "image/png": "[encoded data removed]",
      "text/latex": [
       "$$\\begin{cases} 1 & \\text{for}\\: \\frac{\\left|{\\frac{1}{t^{2}}}\\right|}{4} > 1 \\\\0 & \\text{otherwise} \\end{cases}$$"
      ],
      "text/plain": [
       "⎧       │1 │    \n",
       "⎪       │──│    \n",
       "⎪       │ 2│    \n",
       "⎪       │t │    \n",
       "⎨1  for ──── > 1\n",
       "⎪        4      \n",
       "⎪               \n",
       "⎪0   otherwise  \n",
       "⎩               "
      ]
     },
     "execution_count": 2,
     "metadata": {},
     "output_type": "execute_result"
    }
   ],
   "source": [
    "t, w = sym.symbols('t omega')\n",
    "\n",
    "X = sym.sinc(w/2)\n",
    "x = inverse_fourier_transform(X)\n",
    "x"
   ]
  },
  {
   "cell_type": "code",
   "execution_count": 3,
   "metadata": {
    "collapsed": false
   },
   "outputs": [
    {
     "data": {
      "image/png": "[encoded data removed]",
      "text/plain": [
       "<matplotlib.figure.Figure at 0x1056dd080>"
      ]
     },
     "metadata": {},
     "output_type": "display_data"
    }
   ],
   "source": [
    "sym.plot(x, (t,-1,1), ylabel=r'$x(t)$');"
   ]
  },
  {
   "cell_type": "markdown",
   "metadata": {},
   "source": [
    "### Duality\n",
    "\n",
    "Comparing the [definition of the Fourier transform](definition.ipynb) with its inverse\n",
    "\n",
    "\\begin{align}\n",
    "X(j \\omega) &= \\int_{-\\infty}^{\\infty} x(t) \\, e^{-j \\omega t} \\; dt \\\\\n",
    "x(t) &= \\frac{1}{2 \\pi} \\int_{-\\infty}^{\\infty} X(j \\omega) \\, e^{j \\omega t} \\; d\\omega\n",
    "\\end{align}\n",
    "\n",
    "yields that both transforms are very similar in their structure. They differ only with respect to the normalization factor $2 \\pi$ and the sign of the exponential function. The duality principle of the Fourier transform can be deduced from this observation. Let's assume that we know the Fourier transformation $x_2(j \\omega)$ of a signal $x_1(t)$ \n",
    "\n",
    "\\begin{equation}\n",
    "x_2(j \\omega) = \\mathcal{F} \\{ x_1(t) \\}\n",
    "\\end{equation}\n",
    "\n",
    "It follows from above observation that the Fourier transformation of the signal \n",
    "\n",
    "\\begin{equation}\n",
    "x_2(j t) = x_2(j \\omega) \\big\\vert_{\\omega=t}\n",
    "\\end{equation}\n",
    "\n",
    "is given as\n",
    "\n",
    "\\begin{equation}\n",
    "\\mathcal{F} \\{ x_2(j t) \\} = 2 \\pi \\cdot x_1(- \\omega)\n",
    "\\end{equation}\n",
    "\n",
    "The duality principle of the Fourier transformation allows to carry over results from the time-domain to the spectral-domain and vice-versa. It can be used to derive new transforms from known transforms. This is illustrated at an example."
   ]
  },
  {
   "cell_type": "markdown",
   "metadata": {},
   "source": [
    "**Example**\n",
    "\n",
    "The Fourier transform of a shifted Dirac impulse $\\delta(t - \\tau)$ is derived by introducing it into the definition of the Fourier transform and exploiting the sifting property of the Dirac delta function\n",
    "\n",
    "\\begin{equation}\n",
    "\\mathcal{F} \\{ \\delta(t - \\tau) \\} = \\int_{-\\infty}^{\\infty} \\delta(t - \\tau) \\, e^{-j \\omega t} \\; dt =  e^{-j \\omega \\tau}\n",
    "\\end{equation}\n",
    "\n",
    "Using the duality principle, the Fourier transform of $e^{-j \\omega_0 t}$ can be derived from this result by \n",
    "\n",
    "1. substituting $\\omega$ with $t$ and $\\tau$ with $\\omega_0$ on the right-hand side to yield the time-domain signal $e^{-j \\omega_0 t}$\n",
    "2. substituting $t$ by $- \\omega$, $\\tau$ with $\\omega_0$ and multiplying the result by $2 \\pi$ on the left-hand side to yield its Fourier transform\n",
    "\n",
    "\\begin{equation}\n",
    "\\mathcal{F} \\{ e^{-j \\omega_0 t} \\} = 2 \\pi \\cdot \\delta(\\omega + \\omega_0)\n",
    "\\end{equation}"
   ]
  },
  {
   "cell_type": "markdown",
   "metadata": {},
   "source": [
    "### Linearity\n",
    "\n",
    "The Fourier transform is a linear operation. For two signals $x_1(t)$ and $x_2(t)$ with Fourier transforms $X_1(j \\omega) = \\mathcal{F} \\{ x_1(t) \\}$ and $X_2(j \\omega) = \\mathcal{F} \\{ x_2(t) \\}$ the following holds\n",
    "\n",
    "\\begin{equation}\n",
    "\\mathcal{F} \\{ A \\cdot x_1(t) + B \\cdot x_2(t) \\} = A \\cdot X_1(j \\omega) + B \\cdot X_2(j \\omega)\n",
    "\\end{equation}\n",
    "\n",
    "with $A, B \\in \\mathbb{C}$. The Fourier transform of a weighted superposition of signals is equal to the weighted superposition of the individual Fourier transforms. This property is useful to derive the Fourier transform of signals that can be expressed as superposition of other signals for which the Fourier transform is known or can be calculated easier. Linearity holds also for the inverse Fourier transform."
   ]
  },
  {
   "cell_type": "markdown",
   "metadata": {},
   "source": [
    "**Example**\n",
    "\n",
    "The Fourier transform of $\\cos(\\omega_0 t)$ and $\\sin(\\omega_0 t)$ is derived by expressing both as harmonic exponential signals using [Euler's formula](https://en.wikipedia.org/wiki/Euler's_formula)\n",
    "\n",
    "\\begin{align}\n",
    "\\cos(\\omega_0 t) &= \\frac{1}{2} \\left( e^{j \\omega_0 t} + e^{-j \\omega_0 t} \\right) \\\\\n",
    "\\sin(\\omega_0 t) &= \\frac{1}{2j} \\left( e^{j \\omega_0 t} - e^{-j \\omega_0 t} \\right)\n",
    "\\end{align}\n",
    "\n",
    "together with the Fourier transform $\\mathcal{F} \\{ e^{-j \\omega_0 t} \\} = 2 \\pi \\cdot \\delta(\\omega - \\omega_0)$ from above yields\n",
    "\n",
    "\\begin{align}\n",
    "\\mathcal{F} \\{ \\cos(\\omega_0 t) \\} &= \\pi \\left( \\delta(\\omega + \\omega_0) + \\delta(\\omega - \\omega_0)  \\right) \\\\\n",
    "\\mathcal{F} \\{ \\sin(\\omega_0 t) \\} &= j \\pi \\left( \\delta(\\omega + \\omega_0) - \\delta(\\omega - \\omega_0) \\right)\n",
    "\\end{align}"
   ]
  },
  {
   "cell_type": "markdown",
   "metadata": {},
   "source": [
    "### Symmetries\n",
    "\n",
    "In order to investigate the symmetries of the Fourier transform $X(j \\omega) = \\mathcal{F} \\{ x(t) \\}$ of a signal $x(t)$, first the case of a real valued signal $x(t) \\in \\mathbb{R}$ is considered. The results are then generalized to complex signals $x(t) \\in \\mathbb{C}$."
   ]
  },
  {
   "cell_type": "markdown",
   "metadata": {},
   "source": [
    "#### Real valued signals\n",
    "\n",
    "Decomposing a real valued signal $x(t) \\in \\mathbb{R}$ into its even and odd part $x(t) = x_\\text{e}(t) + x_\\text{o}(t)$ and introducing these into the definition of the Fourier transform yields\n",
    "\n",
    "\\begin{align}\n",
    "X(j \\omega) &= \\int_{-\\infty}^{\\infty} \\left[ x_\\text{e}(t) + x_\\text{o}(t) \\right] e^{-j \\omega t} \\; dt \\\\\n",
    "&= \\int_{-\\infty}^{\\infty} \\left[ x_\\text{e}(t) + x_\\text{o}(t) \\right] \\cdot \\left[ \\cos(\\omega t) - j \\sin(\\omega t) \\right] \\; dt \\\\\n",
    "&= \\underbrace{\\int_{-\\infty}^{\\infty} x_\\text{e}(t) \\cos(\\omega t) \\; dt}_{X_\\text{e}(j \\omega)} + \n",
    "\\underbrace{j \\int_{-\\infty}^{\\infty} - x_\\text{o}(t) \\sin(\\omega t) \\; dt}_{X_\\text{o}(j \\omega)}\n",
    "\\end{align}\n",
    "\n",
    "For the last equality the fact was exploited that an integral with symmetric limits is zero for odd functions. In order to conclude on the symmetry of $X(j \\omega)$ its behavior for a reverse of the sign of $\\omega$ has to be investigated. Due to the symmetry properties of $\\cos(\\omega t)$ and $\\sin(\\omega t)$, it follows that the Fourier transform of the\n",
    "\n",
    "* even part $x_\\text{e}(t)$ is real valued with even symmetry $X_\\text{e}(j \\omega) = X_\\text{e}(-j \\omega)$\n",
    "* odd part $x_\\text{o}(t)$ is imaginary with odd symmetry $X_\\text{o}(j \\omega) = - X_\\text{o}(-j \\omega)$\n",
    "\n",
    "Combining this, it can be concluded that the Fourier transform $X(j \\omega)$ of a real-valued signal $x(t) \\in \\mathbb{R}$ shows complex conjugate symmetry\n",
    "\n",
    "\\begin{equation}\n",
    "X(j \\omega) = X^*(- j \\omega)\n",
    "\\end{equation}"
   ]
  },
  {
   "cell_type": "markdown",
   "metadata": {},
   "source": [
    "#### Complex Signals\n",
    "\n",
    "By following the same procedure as above for an imaginary signal, the symmetries of the Fourier transform of the even and odd part of an imaginary signal can be derived. The results can be combined, by decomposing a complex signal $x(t) \\in \\mathbb{C}$ and its Fourier transform into its even and odd part for both the real and imaginary part. This results in the following symmetry relations of the Fourier transform\n",
    "\n",
    "![Symmetries of the Fourier transform](symmetries.png)"
   ]
  },
  {
   "cell_type": "markdown",
   "metadata": {},
   "source": [
    "**Example**\n",
    "\n",
    "The Fourier transform $X(j \\omega)$ of the signal $x(t) = \\text{sgn}(t) \\cdot \\text{rect}(t)$ is computed. The signal is real valued with odd symmetry due to the sign function. It follows from the symmetry realations of the Fourier transform, that $X(j \\omega)$ is imaginary with odd symmetry."
   ]
  },
  {
   "cell_type": "code",
   "execution_count": 4,
   "metadata": {
    "collapsed": true
   },
   "outputs": [],
   "source": [
    "class rect(sym.Function):\n",
    "\n",
    "    @classmethod\n",
    "    def eval(cls, arg):\n",
    "        return sym.Heaviside(arg + sym.S.Half) - sym.Heaviside(arg - sym.S.Half)"
   ]
  },
  {
   "cell_type": "code",
   "execution_count": 5,
   "metadata": {
    "collapsed": false
   },
   "outputs": [
    {
     "data": {
      "image/png": "[encoded data removed]",
      "text/plain": [
       "<matplotlib.figure.Figure at 0x10822a390>"
      ]
     },
     "metadata": {},
     "output_type": "display_data"
    }
   ],
   "source": [
    "x = sym.sign(t)*rect(t)\n",
    "sym.plot(x, (t, -2, 2), xlabel=r'$t$', ylabel=r'$x(t)$');"
   ]
  },
  {
   "cell_type": "code",
   "execution_count": 6,
   "metadata": {
    "collapsed": false
   },
   "outputs": [
    {
     "data": {
      "image/png": "[encoded data removed]",
      "text/latex": [
       "$$\\frac{i}{\\omega} \\left(2 \\cos{\\left (\\frac{\\omega}{2} \\right )} - 2\\right)$$"
      ],
      "text/plain": [
       "  ⎛     ⎛ω⎞    ⎞\n",
       "ⅈ⋅⎜2⋅cos⎜─⎟ - 2⎟\n",
       "  ⎝     ⎝2⎠    ⎠\n",
       "────────────────\n",
       "       ω        "
      ]
     },
     "execution_count": 6,
     "metadata": {},
     "output_type": "execute_result"
    }
   ],
   "source": [
    "X = fourier_transform(x)\n",
    "X = X.rewrite(sym.cos).simplify()\n",
    "X"
   ]
  },
  {
   "cell_type": "code",
   "execution_count": 7,
   "metadata": {
    "collapsed": false
   },
   "outputs": [
    {
     "data": {
      "image/png": "[encoded data removed]",
      "text/plain": [
       "<matplotlib.figure.Figure at 0x1083ea828>"
      ]
     },
     "metadata": {},
     "output_type": "display_data"
    }
   ],
   "source": [
    "sym.plot(sym.im(X), (w, -30, 30), xlabel=r'$\\omega$', ylabel=r'$\\Im \\{ X(j \\omega) \\}$');"
   ]
  },
  {
   "cell_type": "markdown",
   "metadata": {},
   "source": [
    "**Exercise**\n",
    "\n",
    "* What symmetry do you expect for the Fourier transform of the signal $x(t) = j \\cdot \\text{sgn}(t) \\cdot \\text{rect}(t)$? Check your results by modifying above example."
   ]
  },
  {
   "cell_type": "markdown",
   "metadata": {
    "nbsphinx": "hidden"
   },
   "source": [
    "**Copyright**\n",
    "\n",
    "The notebooks are provided as [Open Educational Resource](https://de.wikipedia.org/wiki/Open_Educational_Resources). Feel free to use the notebooks for your own educational purposes. The text is licensed under [Creative Commons Attribution 4.0](https://creativecommons.org/licenses/by/4.0/), the code of the IPython examples under the [MIT license](https://opensource.org/licenses/MIT). Please attribute the work as follows: *Lecture Notes on Signals and Systems* by Sascha Spors."
   ]
  }
 ],
 "metadata": {
  "kernelspec": {
   "display_name": "Python 3",
   "language": "python",
   "name": "python3"
  },
  "language_info": {
   "codemirror_mode": {
    "name": "ipython",
    "version": 3
   },
   "file_extension": ".py",
   "mimetype": "text/x-python",
   "name": "python",
   "nbconvert_exporter": "python",
   "pygments_lexer": "ipython3",
   "version": "3.5.1"
  }
 },
 "nbformat": 4,
 "nbformat_minor": 0
}
