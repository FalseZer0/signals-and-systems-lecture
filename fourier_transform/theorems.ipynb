{
 "cells": [
  {
   "cell_type": "markdown",
   "metadata": {
    "nbsphinx": "hidden"
   },
   "source": [
    "# The Fourier Transform\n",
    "\n",
    "*This Jupyter notebook is part of a [collection of notebooks](../index.ipynb) in the bachelors module Signals and Systems, Comunications Engineering, Universität Rostock. Please direct questions and suggestions to [Sascha.Spors@uni-rostock.de](mailto:Sascha.Spors@uni-rostock.de).*"
   ]
  },
  {
   "cell_type": "markdown",
   "metadata": {},
   "source": [
    "## Theorems\n",
    "\n",
    "The theorems of the Fourier transform relate basic time-domain operations to their equivalents in the Fourier domain. They are of use for the computation of Fourier transforms of signals composed from modified [standard signals](../continuous_signals/standard_signals.ipynb) and for the computation of the response of systems to an input signal. The theorems allow further to predict the consequences of modifying a signal or system by certain operations."
   ]
  },
  {
   "cell_type": "markdown",
   "metadata": {},
   "source": [
    "### Temporal Scaling Theorem\n",
    "\n",
    "A signal $x(t)$ for which the Fourier transform $X(j \\omega) = \\mathcal{F} \\{ x(t) \\}$ is existing and known is given. The Fourier transform of the [temporally scaled signal](../continuous_signals/operations.ipynb#Temporal-Scaling) $x(a t)$ with $a \\in \\mathbb{R} \\setminus \\{0\\}$ reads\n",
    "\n",
    "\\begin{equation}\n",
    "\\mathcal{F} \\{ x(a t) \\} = \\frac{1}{|a|} \\cdot X \\left( \\frac{j \\omega}{a} \\right)\n",
    "\\end{equation}\n",
    "\n",
    "The Fourier transformation of a temporally scaled signal is given by inverse scaling of the Fourier transform of the unscaled signal and weighting with $\\frac{1}{|a|}$. This relation is known as scaling theorem of the Fourier transform. It can be proven by introducing the scaled signal $x(a t)$ into the definition of the Fourier transformation together with the substitution $t' = a t$."
   ]
  },
  {
   "cell_type": "markdown",
   "metadata": {},
   "source": [
    "**Example**\n",
    "\n",
    "According to the scaling theorem and the [Fourier transform of the rectangular signal](definition.ipynb#Transformation-of-the-Rectangular-Signal) $\\text{rect}(t)$, the transform of the scaled rectangular signal $\\text{rect}(a t)$ is given as\n",
    "\n",
    "\\begin{equation}\n",
    "\\mathcal{F} \\{ \\text{rect}(a t) \\} = \\frac{1}{|a|} \\cdot \\text{sinc} \\left( \\frac{\\omega}{2 a} \\right)\n",
    "\\end{equation}\n",
    "\n",
    "This can be proven by evaluating the Fourier transformation for $\\text{rect}(a t)$"
   ]
  },
  {
   "cell_type": "code",
   "execution_count": 1,
   "metadata": {
    "collapsed": false
   },
   "outputs": [
    {
     "data": {
      "image/png": "[encoded data removed]",
      "text/latex": [
       "$$\\frac{2}{\\omega} \\sin{\\left (\\frac{\\omega}{2 a} \\right )}$$"
      ],
      "text/plain": [
       "     ⎛ ω ⎞\n",
       "2⋅sin⎜───⎟\n",
       "     ⎝2⋅a⎠\n",
       "──────────\n",
       "    ω     "
      ]
     },
     "execution_count": 1,
     "metadata": {},
     "output_type": "execute_result"
    }
   ],
   "source": [
    "%matplotlib inline\n",
    "import sympy as sym\n",
    "sym.init_printing()\n",
    "\n",
    "def fourier_transform(x):\n",
    "    return sym.transforms._fourier_transform(x, t, w, 1, -1, 'Fourier')\n",
    "\n",
    "\n",
    "class rect(sym.Function):\n",
    "\n",
    "    @classmethod\n",
    "    def eval(cls, arg):\n",
    "        return sym.Heaviside(arg + sym.S.Half) - sym.Heaviside(arg - sym.S.Half)\n",
    "\n",
    "\n",
    "t, w = sym.symbols('t omega', real=True)\n",
    "a = sym.symbols('a', positive=True)\n",
    "\n",
    "x = rect(a*t)\n",
    "X = fourier_transform(x)\n",
    "X = X.rewrite(sym.sin).simplify()\n",
    "X"
   ]
  },
  {
   "cell_type": "markdown",
   "metadata": {},
   "source": [
    "For illustration both the signal $x(t)$ and its Fourier transform $X(j \\omega)$ are plotted for a specific value of $a$"
   ]
  },
  {
   "cell_type": "code",
   "execution_count": 2,
   "metadata": {
    "collapsed": false
   },
   "outputs": [
    {
     "data": {
      "image/png": "[encoded data removed]",
      "text/plain": [
       "<matplotlib.figure.Figure at 0x10d403c18>"
      ]
     },
     "metadata": {},
     "output_type": "display_data"
    },
    {
     "data": {
      "image/png": "[encoded data removed]",
      "text/plain": [
       "<matplotlib.figure.Figure at 0x1100799e8>"
      ]
     },
     "metadata": {},
     "output_type": "display_data"
    }
   ],
   "source": [
    "values = {a: 1/2}\n",
    "\n",
    "sym.plot(x.subs(values), (t, -5, 5), xlabel=r'$t$', ylabel=r'$\\mathrm{rect}(a t)$');\n",
    "sym.plot(X.subs(values), (w, -20, 20), xlabel=r'$\\omega$', ylabel=r'$\\mathcal{F} \\{ \\mathrm{rect}(a t) \\}$');"
   ]
  },
  {
   "cell_type": "markdown",
   "metadata": {},
   "source": [
    "**Exercise**\n",
    "\n",
    "* Change the width $1/a$ of the rectangular signal. How does its spectrum change?\n",
    "* On a qualitative level, what happens when $1/a$ increases towards infinity?"
   ]
  },
  {
   "cell_type": "markdown",
   "metadata": {},
   "source": [
    "### Convolution Theorem\n",
    "\n",
    "The [convolution theorem](https://en.wikipedia.org/wiki/Convolution_theorem) states that the Fourier transform of the convolution of two signals $x(t)$ and $y(t)$ is equal to the scalar multiplication of their Fourier transforms $X(j \\omega)$ and $Y(j \\omega)$\n",
    "\n",
    "\\begin{equation}\n",
    "\\mathcal{F} \\{ x(t) * y(t) \\} = X(j \\omega) \\cdot Y(j \\omega)\n",
    "\\end{equation}\n",
    "\n",
    "The theorem can be proven by introducing the [definition of the convolution](../systems_time_domain/convolution.ipynb) into the [definition of the Fourier transform](definition.ipynb) and changing the order of integration\n",
    "\n",
    "\\begin{align}\n",
    "\\mathcal{F} \\{ x(t) * y(t) \\} &= \\int_{-\\infty}^{\\infty} \\left( \\int_{-\\infty}^{\\infty} x(\\tau) \\cdot y(t-\\tau) \\; d \\tau \\right) e^{-j \\omega t} \\; dt \\\\\n",
    "&= \\int_{-\\infty}^{\\infty} \\left( \\int_{-\\infty}^{\\infty} y(t-\\tau) \\, e^{-j \\omega t} \\; dt \\right) x(\\tau) \\; d\\tau \\\\\n",
    "&= Y(j \\omega) \\cdot \\int_{-\\infty}^{\\infty} x(\\tau) \\, e^{-j \\omega \\tau} \\; d \\tau \\\\\n",
    "&= Y(j \\omega) \\cdot X(j \\omega)\n",
    "\\end{align}\n",
    "\n",
    "under the assumption that both Fourier transforms $X(j \\omega) = \\mathcal{F} \\{ x(t) \\}$ and $Y(j \\omega) = \\mathcal{F} \\{ y(t) \\}$ exist.\n",
    "\n",
    "The convolution theorem is very useful in the context of linear time-invariant (LTI) systems. The output signal $y(t)$ of an LTI system is given as the convolution of the input signal $x(t)$ with the impulse response $h(t)$. Hence, the signals and the system can be represented equivalently in the time and frequency domain\n",
    "\n",
    "![Representation of an LTI system in the time- and Fourier-domain](LTI_system_Fourier_domain.png)\n",
    "\n",
    "Calculation of the system response by transforming the problem into the Fourier domain can be beneficial since this replaces the evaluation of the convolution integral by a scalar multiplication. The (inverse) Fourier transforms are known for many signals or can be derived by applying the properties and theorems to standard signals and their transforms. This procedure simplifies the calculation of the system response significantly in many cases.\n",
    "\n",
    "The convolution theorem can also be useful to derive an unknown Fourier transform. The key is here to express the signal as convolution of two other signals for which the Fourier transforms are known. This is illustrated at the following example."
   ]
  },
  {
   "cell_type": "markdown",
   "metadata": {},
   "source": [
    "#### Transformation of the triangular signal\n",
    "\n",
    "A prominent example for the derivation of a Fourier transform by the convolution theorem is the [trianguar signal](https://en.wikipedia.org/wiki/Triangular_function)\n",
    "\n",
    "\\begin{equation}\n",
    "\\Lambda(t) = \\begin{cases} 1- |t| & \\text{for } |t| < 1 \\\\ 0 & \\text{otherwise} \\end{cases}\n",
    "\\end{equation}\n",
    "\n",
    "which can be expressed as the convolution of two rectangular signals\n",
    "\n",
    "\\begin{equation}\n",
    "\\Lambda(t) = \\text{rect}(t) * \\text{rect}(t)\n",
    "\\end{equation}\n",
    "\n",
    "Applying the convolution theorem yields\n",
    "\n",
    "\\begin{equation}\n",
    "\\mathcal{F} \\{ \\Lambda(t) \\} = \\text{sinc}\\left( \\frac{\\omega}{2} \\right) \\cdot \\text{sinc}\\left( \\frac{\\omega}{2} \\right) = \\text{sinc}^2 \\left( \\frac{\\omega}{2} \\right)\n",
    "\\end{equation}\n",
    "\n",
    "Both the signal and its transform are plotted for illustration"
   ]
  },
  {
   "cell_type": "code",
   "execution_count": 3,
   "metadata": {
    "collapsed": false
   },
   "outputs": [
    {
     "data": {
      "image/png": "[encoded data removed]",
      "text/plain": [
       "<matplotlib.figure.Figure at 0x1100792e8>"
      ]
     },
     "metadata": {},
     "output_type": "display_data"
    },
    {
     "data": {
      "image/png": "[encoded data removed]",
      "text/plain": [
       "<matplotlib.figure.Figure at 0x1100c7fd0>"
      ]
     },
     "metadata": {},
     "output_type": "display_data"
    }
   ],
   "source": [
    "x = sym.Piecewise((1 - abs(t), abs(t) < 1), (0, True))\n",
    "X = sym.sinc(w/2)**2\n",
    "\n",
    "sym.plot(x, (t, -2, 2), xlabel=r'$t$', ylabel=r'$\\Lambda(t)$')\n",
    "sym.plot(X, (w, -20, 20), xlabel=r'$\\omega$', ylabel=r'$\\mathcal{F} \\{ \\Lambda(t) \\}$');"
   ]
  },
  {
   "cell_type": "markdown",
   "metadata": {},
   "source": [
    "**Exercise**\n",
    "\n",
    "* Extend above example by temporal scaling of the triangular signal.\n",
    "* Derive the Fourier transform of a trapezoidal shaped signal by convolving two rectangular signals with different width."
   ]
  },
  {
   "cell_type": "markdown",
   "metadata": {},
   "source": [
    "### Temporal Shift Theorem\n",
    "\n",
    "The [temporal shift of a signal](../continuous_signals/operations.ipynb#Temporal-Shift) $x(t)$ can be expressed by a convolution with a shifted Dirac impulse\n",
    "\n",
    "\\begin{equation}\n",
    "x(t - \\tau) = x(t) * \\delta(t - \\tau)\n",
    "\\end{equation}\n",
    "\n",
    "for $\\tau \\in \\mathbb{R}$. This follows from the sifting property of the Dirac impulse. Applying a Fourier transform to the left- and right-hand side and exploiting the convolution theorem yields\n",
    "\n",
    "\\begin{equation}\n",
    "\\mathcal{F} \\{ x(t - \\tau) \\} = X(j \\omega) \\cdot e^{- j \\omega \\tau}\n",
    "\\end{equation}\n",
    "\n",
    "where $X(j \\omega) = \\mathcal{F} \\{ x(t) \\}$. Note that $\\mathcal{F} \\{ \\delta(t - \\tau) \\} = e^{- j \\omega \\tau}$ can be derived from the definition of the Fourier transform together with the sifting property of the Dirac impulse. Above relation is known as shift theorem of the Fourier transform.\n",
    "\n",
    "Expressing $X(j \\omega)$ by its absolute value $|X(j \\omega)|$ and phase $\\varphi(j \\omega)$ results in\n",
    "\n",
    "\\begin{equation}\n",
    "\\mathcal{F} \\{ x(t - \\tau) \\} = | X(j \\omega) | \\cdot e^{j (\\varphi(j \\omega) - \\omega \\tau)}\n",
    "\\end{equation}\n",
    "\n",
    "Temporal shifting of a signal does not change the absolute value of its spectrum but it subtracts the linear contribution $\\omega \\tau$ from the phase of its spectrum."
   ]
  },
  {
   "cell_type": "markdown",
   "metadata": {},
   "source": [
    "### Differentiation Theorem\n",
    "\n",
    "Let's assume a signal $x(t)$ whose temporal derivative $\\frac{d x(t)}{dt}$ exists. Using the [derivation property of the Dirac impulse](../continuous_signals/standard_signals.ipynb#Dirac-Impulse), the derivative of the signal can be expressed by the convolution\n",
    "\n",
    "\\begin{equation}\n",
    "\\frac{d x(t)}{dt} = \\frac{d \\delta(t)}{dt} * x(t)\n",
    "\\end{equation}\n",
    "\n",
    "Fourier transformation of the left- and right-hand side together with the [convolution theorem](#Convolution-Theorem) yields the Fourier transform of the derivative of $x(t)$\n",
    "\n",
    "\\begin{equation}\n",
    "\\mathcal{F} \\left\\{ \\frac{d x(t)}{dt} \\right\\} = j \\omega \\cdot X(j \\omega)\n",
    "\\end{equation}\n",
    "\n",
    "where $X(j \\omega) = \\mathcal{F} \\{ x(t) \\}$. The Fourier transform $\\mathcal{F} \\{ \\frac{d \\delta(t)}{dt} \\} = j \\omega$ can be derived by applying the definition of the Fourier transform together with the derivation property of the Dirac impulse. Above result is known as differentiation theorem of the Fourier transform. It states that the differentiation of a signal in the time domain is equivalent to a multiplication of its spectrum by $j \\omega$. \n",
    "\n",
    "The main applications of the differentiation theorem are the transformation of differential equations or the derivation of transforms of signals which can be expressed as derivatives of other signals. This latter illustrated by the following example. "
   ]
  },
  {
   "cell_type": "markdown",
   "metadata": {},
   "source": [
    "#### Transformation of the sign signal\n",
    "\n",
    "The derivative of the [sign signal](../continuous_signals/standard_signals.ipynb#Sign-Signal) $\\text{sgn}(t)$ [is given by the Dirac impulse](https://en.wikipedia.org/wiki/Sign_function#Properties)\n",
    "\n",
    "\\begin{equation}\n",
    "\\frac{d}{dt} \\text{sgn}(t) = 2 \\cdot \\delta(t)\n",
    "\\end{equation}\n",
    "\n",
    "Fourier transformation of the left- and right-hand side and application of the differentiation theorem yields\n",
    "\n",
    "\\begin{equation}\n",
    "\\mathcal{F} \\{ \\text{sgn}(t) \\} = \\frac{2}{j \\omega}\n",
    "\\end{equation}\n",
    "\n",
    "The same result can be achieved by computing the transform in `SymPy`"
   ]
  },
  {
   "cell_type": "code",
   "execution_count": 4,
   "metadata": {
    "collapsed": false
   },
   "outputs": [
    {
     "data": {
      "image/png": "[encoded data removed]",
      "text/latex": [
       "$$- \\frac{2 i}{\\omega}$$"
      ],
      "text/plain": [
       "-2⋅ⅈ \n",
       "─────\n",
       "  ω  "
      ]
     },
     "execution_count": 4,
     "metadata": {},
     "output_type": "execute_result"
    }
   ],
   "source": [
    "fourier_transform(sym.sign(t))"
   ]
  },
  {
   "cell_type": "markdown",
   "metadata": {},
   "source": [
    "#### Transformation of the Heaviside signal\n",
    "\n",
    "The transformation of the [Heaviside signal](../continuous_signals/standard_signals.ipynb#Heaviside-Signal) $\\epsilon(t)$ is derived by expressing it in terms of the sign signal\n",
    "\n",
    "\\begin{equation}\n",
    "\\epsilon(t) = \\frac{1}{2} ( \\text{sgn}(t) + 1 )\n",
    "\\end{equation}\n",
    "\n",
    "Using the linearity of the Fourier transform yields\n",
    "\n",
    "\\begin{equation}\n",
    "\\mathcal{F} \\{ \\epsilon(t) \\} = \\frac{1}{j \\omega} + \\pi \\cdot \\delta(\\omega)\n",
    "\\end{equation}"
   ]
  },
  {
   "cell_type": "markdown",
   "metadata": {},
   "source": [
    "### Integration Theorem\n",
    "\n",
    "Let's assume a signal $x(t)$ for which the integral $\\int_{-\\infty}^{t} x(\\tau) \\; d\\tau$ exists. The integration can be regarded as inverse operation to the temporal derivative. The integration can be represented as convolution with the rectangular signal $\\epsilon(t)$\n",
    "\n",
    "![Representation of an integration as convolution](integration_as_convolution.png)\n",
    "\n",
    "leading to the following relation\n",
    "\n",
    "\\begin{equation}\n",
    "\\int_{-\\infty}^{t} x(\\tau) \\; d\\tau = \\int_{-\\infty}^{\\infty} x(\\tau) \\cdot \\epsilon(t - \\tau) \\; d\\tau = x(t) * \\epsilon(t)\n",
    "\\end{equation}\n",
    "\n",
    "Fourier transformation of the left- and right-hand side, application of the convolution theorem and using the Fourier transform of the Heaviside signal $\\epsilon(t)$ yields the integration theorem of the Fourier transform\n",
    "\n",
    "\\begin{equation}\n",
    "\\mathcal{F} \\left\\{ \\int_{-\\infty}^{t} x(\\tau) \\; d\\tau \\right\\} \n",
    "= X(j \\omega) * \\left( \\frac{1}{j \\omega} + \\pi \\delta(\\omega) \\right) \n",
    "= \\frac{1}{j \\omega} X(j \\omega) + \\pi X(0) \\delta(\\omega)\n",
    "\\end{equation}"
   ]
  },
  {
   "cell_type": "markdown",
   "metadata": {},
   "source": [
    "**Example**\n",
    "\n",
    "A signal whose amplitude increases over a finite temporal interval to a finite value can be defined as\n",
    "\n",
    "\\begin{equation}\n",
    "x(t) = \\begin{cases}\n",
    "0 & \\text{for } t < - \\frac{1}{2} \\\\\n",
    "t + \\frac{1}{2} & \\text{for } - \\frac{1}{2} < t < \\frac{1}{2} \\\\\n",
    "1 & \\text{for } t > \\frac{1}{2}\n",
    "\\end{cases}\n",
    "\\end{equation}\n",
    "\n",
    "Such functions are known as [ramp functions](https://en.wikipedia.org/wiki/Ramp_function). In order to derive the Fourier transform of the ramp signal $x(t)$ it is important to note that it can be expressed as integration over the rectangular signal $\\text{rect}(t)$\n",
    "\n",
    "\\begin{equation}\n",
    "x(t) = \\int_{-\\infty}^{t} \\text{rect}(\\tau) \\; d\\tau \n",
    "\\end{equation}\n",
    "\n",
    "Now its straightforward to apply the integration theorem to yield the desired Fourier transform\n",
    "\n",
    "\\begin{equation}\n",
    "X(j \\omega) = \\frac{1}{j \\omega} \\text{sinc}\\left( \\frac{\\omega}{2} \\right) + \\pi \\cdot \\text{sinc}(0) \\cdot \\delta(\\omega)\n",
    "\\end{equation}"
   ]
  },
  {
   "cell_type": "markdown",
   "metadata": {},
   "source": [
    "### Multiplication Theorem\n",
    "\n",
    "The Fourier transform of a multiplication of two signals $x(t)$ and $y(t)$ can be derived in a similar way as the convolution theorem by introducing the definition of the (inverse) Fourier transform and rearranging terms. Alternatively the duality of the Fourier transform can be applied to the [convolution theorem](#Convolution-Theorem). Both results in\n",
    "\n",
    "\\begin{equation}\n",
    "\\mathcal{F} \\{ x(t) \\cdot y(t) \\} = \\frac{1}{2 \\pi} X(j \\omega) * Y(j \\omega)\n",
    "\\end{equation}\n",
    "\n",
    "The Fourier transform of a multiplication of two signals $x(t) \\cdot y(t)$ is given by the convolution of their Fourier transforms $X(j \\omega) = \\mathcal{F} \\{ x(t) \\}$ and $Y(j \\omega) = \\mathcal{F} \\{ y(t) \\}$ weighted with $\\frac{1}{2 \\pi}$. Note, the convolution is performed with respect to the angular frequency $\\omega$.\n",
    "\n",
    "Applications of the multiplication theorem include the modulation and windowing of signals. The former leads to the modulation theorem introduced later, the latter is illustrated by the following example."
   ]
  },
  {
   "cell_type": "markdown",
   "metadata": {},
   "source": [
    "**Example**\n",
    "\n",
    "Windowing of signals is often applied to derive signals of finite duration from signals with infinite duration. Here the signal $x(t)$ is multiplied by a weighting function $w(t)$ in order to derive the finite length signal \n",
    "\n",
    "\\begin{equation}\n",
    "y(t) = w(t) \\cdot x(t)\n",
    "\\end{equation}\n",
    "\n",
    "The following example considers the Fourier transform of a finite-length cosine signal. Following the concept of windowing, the signal can be defined as\n",
    "\n",
    "\\begin{equation}\n",
    "y(t) = \\text{rect}(a t) \\cdot \\cos(\\omega_0 t) \n",
    "\\end{equation}\n",
    "\n",
    "where $\\text{rect}(a t)$ denotes the scaled [rectangular signal](../continuous_signals/standard_signals.ipynb#Rectangular-Signal) which is zero for $|t| > \\frac{1}{2 a}$. The Fourier transform $Y(j \\omega) = \\mathcal{F} \\{ y(t) \\}$ is derived by the multiplication theorem, the [Fourier transform of the rectangular signal](definition.ipynb#Transformation-of-the-Rectangular-Signal), and the [Fourier transform of the cosine signal](properties.ipynb#Transformation-of-the-cosine-and-sine-signal) as\n",
    "\n",
    "\\begin{align}\n",
    "Y(j \\omega) &= \\frac{1}{2 \\pi} \\cdot \\frac{1}{|a|} \\text{sinc}\\left( \\frac{\\omega}{2 a} \\right) * \\pi \\left( \\delta(\\omega + \\omega_0) + \\delta(\\omega - \\omega_0) \\right) \\\\\n",
    "&= \\frac{1}{2 |a|} \\left( \\text{sinc}\\left( \\frac{\\omega + \\omega_0}{2 a} \\right) + \\text{sinc}\\left( \\frac{\\omega - \\omega_0}{2 a} \\right) \\right)\n",
    "\\end{align}\n",
    "\n",
    "The latter identity results from the sifting property of the Dirac impulse. The convolution is computed in the following in `SymPy` by symbolic evaluation of the convolution integral."
   ]
  },
  {
   "cell_type": "code",
   "execution_count": 5,
   "metadata": {
    "collapsed": false
   },
   "outputs": [],
   "source": [
    "def convolve(x, y, var):\n",
    "    tau = sym.symbols('tau')\n",
    "    return sym.integrate(x.subs(var, tau) * y.subs(var, var - tau), (tau, -sym.oo, sym.oo))"
   ]
  },
  {
   "cell_type": "markdown",
   "metadata": {},
   "source": [
    "Using above function, both the Fourier transform of the cosine signal and the rectangular window are convolved which each other"
   ]
  },
  {
   "cell_type": "code",
   "execution_count": 6,
   "metadata": {
    "collapsed": false
   },
   "outputs": [
    {
     "data": {
      "image/png": "[encoded data removed]",
      "text/latex": [
       "$$\\frac{1}{2 \\left|{a}\\right|} \\left(\\operatorname{sinc}{\\left (\\frac{\\omega - \\omega_{0}}{2 a} \\right )} + \\operatorname{sinc}{\\left (\\frac{\\omega + \\omega_{0}}{2 a} \\right )}\\right)$$"
      ],
      "text/plain": [
       "    ⎛ω - ω₀⎞       ⎛ω + ω₀⎞\n",
       "sinc⎜──────⎟ + sinc⎜──────⎟\n",
       "    ⎝ 2⋅a  ⎠       ⎝ 2⋅a  ⎠\n",
       "───────────────────────────\n",
       "           2⋅│a│           "
      ]
     },
     "execution_count": 6,
     "metadata": {},
     "output_type": "execute_result"
    }
   ],
   "source": [
    "w0, a = sym.symbols('omega0 a')\n",
    "\n",
    "y = rect(a*t) * sym.cos(w0*t)\n",
    "W = 1/abs(a) * sym.sinc(w/(2*a))\n",
    "X = sym.pi*(sym.DiracDelta(w + w0) + sym.DiracDelta(w - w0))\n",
    "\n",
    "Y = 1/(2*sym.pi) * convolve(W, X, w)\n",
    "Y"
   ]
  },
  {
   "cell_type": "markdown",
   "metadata": {},
   "source": [
    "Both the signal and its Fourier transform are plotted for specific values $\\omega_0$, $a$"
   ]
  },
  {
   "cell_type": "code",
   "execution_count": 7,
   "metadata": {
    "collapsed": false
   },
   "outputs": [
    {
     "data": {
      "image/png": "[encoded data removed]",
      "text/plain": [
       "<matplotlib.figure.Figure at 0x110316588>"
      ]
     },
     "metadata": {},
     "output_type": "display_data"
    },
    {
     "data": {
      "image/png": "[encoded data removed]",
      "text/plain": [
       "<matplotlib.figure.Figure at 0x1101cbac8>"
      ]
     },
     "metadata": {},
     "output_type": "display_data"
    }
   ],
   "source": [
    "values = {w0: 10, a: 1/2}\n",
    "\n",
    "sym.plot(y.subs(values), (t, -5, 5), xlabel=r'$t$', ylabel=r'$y(t)$')\n",
    "sym.plot(Y.subs(values), (w, -20, 20), xlabel=r'$\\omega$', ylabel=r'$Y(j \\omega)$');"
   ]
  },
  {
   "cell_type": "markdown",
   "metadata": {},
   "source": [
    "**Exercise**\n",
    "\n",
    "* Change the length $1/a$ of the signal by modifying the substitution in the example. How does the Fourier transform change if you decrease or increase the length $1/a$?\n",
    "\n",
    "* What happens if you change the angular frequency $\\omega_0$ of the signal?\n",
    "\n",
    "* Assume a signal that is composed from a superposition of two finite length cosine signals with different frequencies. What qualitative condition has to hold that you can derive these frequencies from the spectrum?"
   ]
  },
  {
   "cell_type": "markdown",
   "metadata": {},
   "source": [
    "### Modulation Theorem\n",
    "\n",
    "The complex modulation of a signal $x(t)$ is defined as $e^{j \\omega_0 t} \\cdot x(t)$ with $\\omega_0 \\in \\mathbb{R}$. Its Fourier transform can be derived by applying the multiplication theorem\n",
    "\n",
    "\\begin{equation}\n",
    "\\mathcal{F} \\left\\{ e^{j \\omega_0 t} \\cdot x(t) \\right\\} = \\frac{1}{2 \\pi} \\cdot 2 \\pi \\cdot \\delta(\\omega - \\omega_0) * X(j \\omega) \n",
    "= X \\big( j \\, (\\omega - \\omega_0) \\big)\n",
    "\\end{equation}\n",
    "\n",
    "where $X(j \\omega) = \\mathcal{F} \\{ x(t) \\}$.  Above result states that the complex modulation of a signal leads to a shift of its spectrum. For $\\omega_0 > 0$ the spectrum is shifted to higher frequencies. This lays the ground for the wireless transmission of signals. Above result is known as modulation theorem."
   ]
  },
  {
   "cell_type": "markdown",
   "metadata": {},
   "source": [
    "**Example**\n",
    "\n",
    "Lets assume a signal $x(t)$ which has a triangular spectrum $X(j \\omega) = 2 \\pi \\cdot \\Lambda(\\omega)$. Due to the definition of the triangular function, the spectrum has only non-zero contributions for $|\\omega| < 1$. Applying the duality principle to the [Fourier transform of $\\Lambda(t)$ derived above](#Transformation-of-the-triangular-signal) yields the corresponding signal $x(t) = \\mathcal{F}^{-1} \\{ X(j \\omega) \\}$\n",
    "\n",
    "\\begin{equation}\n",
    "x(t) = \\text{sinc}^2 \\left( \\frac{t}{2} \\right)\n",
    "\\end{equation}\n",
    "\n",
    "Now lets consider the complex modulation $y(t) = e^{-j \\omega_0 t} \\cdot x(t)$ of the signal $x(t)$. The Fourier transform of the modulated signal is given as\n",
    "\n",
    "\\begin{equation}\n",
    "\\mathcal{F} \\{ e^{j \\omega_0 t} \\cdot x(t) \\} = 2 \\pi \\cdot \\Lambda(\\omega - \\omega_0)\n",
    "\\end{equation}\n",
    "\n",
    "The spectrum of the modulated signal has non-zero contributions for $\\omega_0 -1 < \\omega < \\omega_0 + 1$. For a large $\\omega_0$ it only occupies a small part of the spectrum. This is a important property of signals used for wireless transmission. The signal $y(t)$ is defined"
   ]
  },
  {
   "cell_type": "code",
   "execution_count": 8,
   "metadata": {
    "collapsed": false
   },
   "outputs": [
    {
     "data": {
      "image/png": "[encoded data removed]",
      "text/latex": [
       "$$e^{i \\omega_{0} t} \\operatorname{sinc}^{2}{\\left (\\frac{t}{2} \\right )}$$"
      ],
      "text/plain": [
       " ⅈ⋅ω₀⋅t     2⎛t⎞\n",
       "ℯ      ⋅sinc ⎜─⎟\n",
       "             ⎝2⎠"
      ]
     },
     "execution_count": 8,
     "metadata": {},
     "output_type": "execute_result"
    }
   ],
   "source": [
    "y = sym.exp(sym.I*w0*t) * sym.sinc(t/2)**2\n",
    "y"
   ]
  },
  {
   "cell_type": "markdown",
   "metadata": {},
   "source": [
    "and the real part of the complex modulated signal is plotted for illustration"
   ]
  },
  {
   "cell_type": "code",
   "execution_count": 9,
   "metadata": {
    "collapsed": false
   },
   "outputs": [
    {
     "data": {
      "image/png": "[encoded data removed]",
      "text/plain": [
       "<matplotlib.figure.Figure at 0x10ff9fef0>"
      ]
     },
     "metadata": {},
     "output_type": "display_data"
    }
   ],
   "source": [
    "values = {w0: 5}\n",
    "sym.plot(sym.re(y.subs(values)), (t, -20, 20), xlabel=r'$t$', ylabel=r'$\\Re \\{ y(t) \\}$');"
   ]
  },
  {
   "cell_type": "markdown",
   "metadata": {},
   "source": [
    "**Exercise**\n",
    "\n",
    "* Derive the spectrum of the signal $x(t)$ modulated by $\\cos(\\omega_0 t)$. Hint: Express $\\cos(\\omega_0 t)$ by Euler's formula and exploit the linearity of the Fourier transform. What is different in the resulting spectrum when comparing to the result above?"
   ]
  },
  {
   "cell_type": "markdown",
   "metadata": {},
   "source": [
    "### Parseval's Theorem\n",
    "\n",
    "[Parseval's theorem](https://en.wikipedia.org/wiki/Parseval's_theorem) relates the energy of a signal in the time domain to its spectrum. The squared absolute value of a signal $x(t)$ represents its instantaneous power. It can be expressed as\n",
    "\n",
    "\\begin{equation}\n",
    "| x(t) |^2 = x(t) \\cdot x^*(t)\n",
    "\\end{equation}\n",
    "\n",
    "where $x^*(t)$ denotes the complex conjugate of $x(t)$. Fourier transformation of the right-hand side and application of the multiplication theorem results in\n",
    "\n",
    "\\begin{equation}\n",
    "\\mathcal{F} \\{ x(t) \\cdot x^*(t) \\} = \\frac{1}{2 \\pi} \\cdot X(j \\omega) * X^*(-j \\omega)\n",
    "\\end{equation}\n",
    "\n",
    "Introducing the definition of the Fourier transform and the convolution\n",
    "\n",
    "\\begin{equation}\n",
    "\\int_{-\\infty}^{\\infty} x(t) \\cdot x^*(t) \\, e^{-j \\omega t} \\; dt =\n",
    "\\frac{1}{2 \\pi} \\int_{-\\infty}^{\\infty} X(j \\eta) \\cdot X^*(-j (\\omega - \\eta)) \\, d\\eta\n",
    "\\end{equation}\n",
    "\n",
    "and assuming $\\omega = 0$ yields the desired relation\n",
    "\n",
    "\\begin{equation}\n",
    "\\int_{-\\infty}^{\\infty} | x(t) |^2 \\; dt = \\frac{1}{2 \\pi} \\int_{-\\infty}^{\\infty} | X(j \\omega) |^2 \\; d\\omega\n",
    "\\end{equation}\n",
    "\n",
    "The integral over the squared absolute signal in the time-domain is equal to the integral over its squared absolute spectrum divided by $2 \\pi$. Since the left-hand side represents the energy $E$ of the signal $x(t)$, Parseval's theorem states that the energy can be computed either in the time or spectral domain by integrating over the squared absolute value of the signal/spectrum. Parseval's theorem can be generalized to the [Plancherel theorem](https://en.wikipedia.org/wiki/Plancherel_theorem) which considers the product of two signals $x(t) \\cdot y^*(t)$."
   ]
  },
  {
   "cell_type": "markdown",
   "metadata": {},
   "source": [
    "**Example**\n",
    "\n",
    "The energy of the rectangular signal $\\text{rect}(t)$ is computed in the time and spectral domain by evaluation of the respective integrals. First the time domain is evaluated\n",
    "\n",
    "\\begin{equation}\n",
    "E_t = \\int_{-\\infty}^{\\infty} | \\text{rect}(t) |^2 \\; dt = \\int_{- \\frac{1}{2}}^{\\frac{1}{2}} 1 \\; dt\n",
    "\\end{equation}"
   ]
  },
  {
   "cell_type": "code",
   "execution_count": 10,
   "metadata": {
    "collapsed": false
   },
   "outputs": [
    {
     "data": {
      "image/png": "[encoded data removed]",
      "text/latex": [
       "$$1$$"
      ],
      "text/plain": [
       "1"
      ]
     },
     "execution_count": 10,
     "metadata": {},
     "output_type": "execute_result"
    }
   ],
   "source": [
    "E_t = sym.integrate(1, (t, -sym.S.Half, sym.S.Half))\n",
    "E_t"
   ]
  },
  {
   "cell_type": "markdown",
   "metadata": {},
   "source": [
    "The energy in the spectral domain is computed by evaluating\n",
    "\n",
    "\\begin{equation}\n",
    "E_f = \\frac{1}{2 \\pi} \\int_{-\\infty}^{\\infty} \\left| \\text{sinc}\\left(\\frac{\\omega}{2}\\right) \\right|^2 \\; d\\omega\n",
    "\\end{equation}"
   ]
  },
  {
   "cell_type": "code",
   "execution_count": 11,
   "metadata": {
    "collapsed": false
   },
   "outputs": [
    {
     "data": {
      "image/png": "[encoded data removed]",
      "text/latex": [
       "$$1$$"
      ],
      "text/plain": [
       "1"
      ]
     },
     "execution_count": 11,
     "metadata": {},
     "output_type": "execute_result"
    }
   ],
   "source": [
    "E_f = 1/(2*sym.pi) * sym.integrate(sym.sinc(w/2)**2, (w, -sym.oo, sym.oo))\n",
    "E_f"
   ]
  },
  {
   "cell_type": "markdown",
   "metadata": {
    "nbsphinx": "hidden"
   },
   "source": [
    "**Copyright**\n",
    "\n",
    "The notebooks are provided as [Open Educational Resource](https://de.wikipedia.org/wiki/Open_Educational_Resources). Feel free to use the notebooks for your own educational purposes. The text is licensed under [Creative Commons Attribution 4.0](https://creativecommons.org/licenses/by/4.0/), the code of the IPython examples under the [MIT license](https://opensource.org/licenses/MIT). Please attribute the work as follows: *Lecture Notes on Signals and Systems* by Sascha Spors."
   ]
  }
 ],
 "metadata": {
  "kernelspec": {
   "display_name": "Python 3",
   "language": "python",
   "name": "python3"
  },
  "language_info": {
   "codemirror_mode": {
    "name": "ipython",
    "version": 3
   },
   "file_extension": ".py",
   "mimetype": "text/x-python",
   "name": "python",
   "nbconvert_exporter": "python",
   "pygments_lexer": "ipython3",
   "version": "3.5.1"
  }
 },
 "nbformat": 4,
 "nbformat_minor": 0
}
