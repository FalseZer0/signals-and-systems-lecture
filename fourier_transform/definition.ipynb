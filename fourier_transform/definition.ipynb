{
 "cells": [
  {
   "cell_type": "markdown",
   "metadata": {
    "nbsphinx": "hidden"
   },
   "source": [
    "# The Fourier Transform\n",
    "\n",
    "*This Jupyter notebook is part of a [collection of notebooks](../index.ipynb) in the bachelors module Signals and Systems, Communications Engineering, Universität Rostock. Please direct questions and suggestions to [Sascha.Spors@uni-rostock.de](mailto:Sascha.Spors@uni-rostock.de).*"
   ]
  },
  {
   "cell_type": "markdown",
   "metadata": {},
   "source": [
    "## Definition\n",
    "\n",
    "The [Fourier transform](https://en.wikipedia.org/wiki/Fourier_transform), as commonly used in electrical engineering, is defined as\n",
    "\n",
    "\\begin{equation}\n",
    "X(j \\omega) = \\int_{-\\infty}^{\\infty} x(t) \\, e^{-j \\omega t} \\; dt\n",
    "\\end{equation}\n",
    "\n",
    "where $X(j \\omega) = \\mathcal{F} \\{ x(t) \\}$ denotes the Fourier transform of $x(t)$. It is also termed as *spectrum* of the signal $x(t)$. The argument $j \\omega$ copes for the fact that the kernel $e^{-j \\omega t}$ of above [integral transform](https://en.wikipedia.org/wiki/Integral_transform) is a [harmonic exponential signal](../continuous_signals/standard_signals.ipynb#Complex-Exponential-Signal) $e^{-s t}$ with $s= j \\omega$. Other common definitions of the Fourier transform may be found in the literature. They differ with respect to the sign of the exponential function and normalization factors. Or the Fourier transform is evaluated in terms of the frequency $f$ instead of the angular frequency $\\omega = 2 \\pi f$. In both cases, the properties, theorems and transforms may differ from the ones given here.\n",
    "\n",
    "A sufficient but not necessary condition for the existence of the Fourier transform of a given signal $x(t)$ is\n",
    "\n",
    "\\begin{equation}\n",
    "\\int_{-\\infty}^{\\infty} | x(t) | \\; dt < \\infty\n",
    "\\end{equation}\n",
    "\n",
    "i.e., the signal $x(t)$ is an [absolutely integrable function](https://en.wikipedia.org/wiki/Absolutely_integrable_function).\n",
    "\n",
    "The inverse Fourier transform $x(t) = \\mathcal{F}^{-1} \\{ X(j \\omega) \\}$ is defined as\n",
    "\n",
    "\\begin{equation}\n",
    "x(t) = \\frac{1}{2 \\pi} \\int_{-\\infty}^{\\infty} X(j \\omega) \\, e^{j \\omega t} \\; d\\omega\n",
    "\\end{equation}"
   ]
  },
  {
   "cell_type": "markdown",
   "metadata": {},
   "source": [
    "### Relation to the Laplace Transform\n",
    "\n",
    "The Laplace transform $X(s) = \\mathcal{L} \\{ x(t) \\}$ of a signal $x(t)$ can be related to its Fourier transform $X(j \\omega) = \\mathcal{F} \\{ x(t) \\}$ by inspecting the kernels of both transforms. The [Laplace transform](../laplace_transform/definition.ipynb) has the complex exponential function $e^{- s t}$ with $s \\in \\mathbb{C}$ as kernel. The Fourier transform, as introduced above, has the harmonic exponential function $e^{- j \\omega t}$ with $\\omega \\in \\mathbb{R}$ as kernel. Both can be related to each other by considering that $s = \\sigma + j \\omega$. Hence, if the ROC includes the imaginary axis $s = j \\omega$ of the $s$-plane, the Fourier transform of a signal $x(t)$ can be derived from its Laplace transform by\n",
    "\n",
    "\\begin{equation}\n",
    "\\mathcal{F} \\{ x(t) \\} = \\mathcal{L} \\{ x(t) \\} \\bigr\\rvert_{s = j \\omega}\n",
    "\\end{equation}\n",
    "\n",
    "If the ROC does not include the imaginary axis, the Fourier transform of a given signal $x(t)$ does not exist. If the ROC includes the imaginary axis $s = j \\omega$ and the integration path of the inverse Laplace transform is chosen along the imaginary axis $\\sigma = 0$, the inverse Laplace transform becomes identical to the inverse Fourier transform.\n",
    "\n",
    "A benefit of the Laplace over the Fourier transform is that it exists for a wider class of signals. The one-sided Laplace transform also allows to conveniently consider initial values of differential equations."
   ]
  },
  {
   "cell_type": "markdown",
   "metadata": {},
   "source": [
    "**Example**\n",
    "\n",
    "The Fourier transform $X(j \\omega) = \\mathcal{F} \\{ x(t) \\}$ of the causal exponential signal\n",
    "\n",
    "\\begin{equation}\n",
    "x(t) = \\epsilon(t) \\cdot e^{- \\alpha t} \n",
    "\\end{equation}\n",
    "\n",
    "with $\\alpha \\in \\mathbb{R}^+$ is derived from the Laplace transform of the [causal complex exponential signal](#Transformation-of-the-Causal-Complex-Exponential-Signal). Using the substituting $s_0 = \\alpha$ yields\n",
    "\n",
    "\\begin{equation}\n",
    "X(s) = \\frac{1}{s + \\alpha}\n",
    "\\end{equation}\n",
    "\n",
    "with the ROC $\\Re \\{ s \\} > - \\alpha$. Hence for $0 < \\alpha < \\infty$, the ROC includes the imaginary axis. The Fourier transform can be derived from the Laplace transform as\n",
    "\n",
    "\\begin{equation}\n",
    "X(j \\omega) = \\frac{1}{j \\omega + \\alpha}\n",
    "\\end{equation}"
   ]
  },
  {
   "cell_type": "markdown",
   "metadata": {},
   "source": [
    "### Interpretation of the Spectrum\n",
    "\n",
    "The Fourier transform is in general complex valued, $X(j \\omega) \\in \\mathbb{C}$. It is commonly represented by its real and imaginary part $X(j \\omega) = \\Re \\{ X(j \\omega) \\} + j \\cdot \\Im \\{ X(j \\omega) \\}$ or by its magnitude and phase $X(j \\omega) = |X(j \\omega)| \\cdot e^{j \\varphi(j \\omega)}$. It can be concluded from the inverse Fourier transformation that a signal $x(t)$ for which the Fourier transform $X(j \\omega)$ exists can be represented as a superposition of weighted harmonic exponential signals $X(j \\omega) \\cdot e^{j \\omega t}$. The magnitude spectra $|X(\\omega)|$ provides insights into the composition of an unknown signal in terms of its harmonic contributions. The angular frequency of these contributions can be related to the frequency by $f = \\frac{\\omega}{2 \\pi}$. Due to this reasoning, the Fourier transformation is a valuable tool in the analysis of signals.\n",
    "\n",
    "In general a spectrum $X(j \\omega)$ will also have non-negative contributions for negative angular frequencies $\\omega < 0$. The concept of [negative frequencies](https://en.wikipedia.org/wiki/Negative_frequency) has no physical meaning. However, in the context of the Fourier transformation with its complex kernel $e^{j \\omega t}$ it is required to express real-valued signals."
   ]
  },
  {
   "cell_type": "markdown",
   "metadata": {},
   "source": [
    "### Transformation of the Dirac Impulse\n",
    "\n",
    "The transform $\\mathcal{F} \\{ \\delta(t) \\}$ of the [Dirac impulse](../continuous_signals/standard_signals.ipynb#Dirac-Impulse) is derived by introducing $\\delta(t)$ into the definition of the Fourier transform and exploiting the sifting property of the Dirac delta function\n",
    "\n",
    "\\begin{equation}\n",
    "\\mathcal{F} \\{ \\delta(t) \\} = \\int_{-\\infty}^{\\infty} \\delta(t) \\, e^{-j \\omega t} dt = 1\n",
    "\\end{equation}\n",
    "\n",
    "The transform of the Dirac impulse is equal to one. Hence, all angular frequencies $\\omega$ are present with equal weight. This is an important property in the theory of signals and systems, since the Dirac impulse is used to characterize linear time-invariant (LTI) systems by their [impulse response](../systems_time_domain/impulse_response.ipynb) $h(t) = \\mathcal{H} \\{ \\delta(t) \\}$."
   ]
  },
  {
   "cell_type": "markdown",
   "metadata": {},
   "source": [
    "**Example**\n",
    "\n",
    "The Fourier transform of the Dirac impulse can be derived in `SymPy` by direct evaluation of above integral"
   ]
  },
  {
   "cell_type": "code",
   "execution_count": 1,
   "metadata": {},
   "outputs": [
    {
     "data": {
      "image/png": "[encoded data removed]",
      "text/latex": [
       "$$1$$"
      ],
      "text/plain": [
       "1"
      ]
     },
     "execution_count": 1,
     "metadata": {},
     "output_type": "execute_result"
    }
   ],
   "source": [
    "%matplotlib inline\n",
    "import sympy as sym\n",
    "sym.init_printing()\n",
    "\n",
    "t, w = sym.symbols('t omega', real=True)\n",
    "\n",
    "X = sym.integrate(sym.DiracDelta(t)*sym.exp(-sym.I*w*t), (t, -sym.oo, sym.oo))\n",
    "X"
   ]
  },
  {
   "cell_type": "markdown",
   "metadata": {},
   "source": [
    "`SymPy` offers also a [Fourier transform](http://docs.sympy.org/latest/modules/integrals/integrals.html?highlight=fourier#sympy.integrals.transforms.fourier_transform). However, it is defined in terms of the frequency $f$ instead of the angular frequency $\\omega$. Therefore a custom function is defined which matches the definition used here"
   ]
  },
  {
   "cell_type": "code",
   "execution_count": 2,
   "metadata": {
    "collapsed": true
   },
   "outputs": [],
   "source": [
    "def fourier_transform(x):\n",
    "    return sym.transforms._fourier_transform(x, t, w, 1, -1, 'Fourier')"
   ]
  },
  {
   "cell_type": "markdown",
   "metadata": {},
   "source": [
    "Applying this function to the Dirac impulse yields the same result as the direct evaluation of the integral above"
   ]
  },
  {
   "cell_type": "code",
   "execution_count": 3,
   "metadata": {},
   "outputs": [
    {
     "data": {
      "image/png": "[encoded data removed]",
      "text/latex": [
       "$$1$$"
      ],
      "text/plain": [
       "1"
      ]
     },
     "execution_count": 3,
     "metadata": {},
     "output_type": "execute_result"
    }
   ],
   "source": [
    "X = fourier_transform(sym.DiracDelta(t))\n",
    "X"
   ]
  },
  {
   "cell_type": "markdown",
   "metadata": {},
   "source": [
    "**Exercise**\n",
    "\n",
    "* Derive the Fourier transform of a shifted Dirac impulse $\\delta(t - \\tau)$ either by manual evaluation of the integral or by modification of above example."
   ]
  },
  {
   "cell_type": "markdown",
   "metadata": {},
   "source": [
    "### Transformation of the Rectangular Signal\n",
    "\n",
    "The Fourier transform $\\mathcal{F} \\{ \\text{rect}(t) \\}$ of the [rectangular signal](../continuous_signals/standard_signals.ipynb#Rectangular-Signal) is derived by explicit evaluation of its definition\n",
    "\n",
    "\\begin{equation}\n",
    "\\mathcal{F} \\{ \\text{rect}(t) \\} = \\int_{-\\infty}^{\\infty} \\text{rect}(t) \\, e^{-j \\omega t} \\; dt =\n",
    "\\int_{- \\frac{1}{2}}^{\\frac{1}{2}} e^{-j \\omega t} \\; dt = \\frac{\\sin(\\frac{\\omega}{2})}{\\frac{\\omega}{2}}\n",
    "\\end{equation}\n",
    "\n",
    "The result is commonly abbreviated in terms of the [cardinal sine or sinc function](https://en.wikipedia.org/wiki/Sinc_function)\n",
    "\n",
    "\\begin{equation}\n",
    "\\text{sinc}(x) = \\begin{cases} \n",
    "\\frac{sin(x)}{x} & \\text{for } x \\neq 0 \\\\\n",
    "1 & \\text{for } x = 0\n",
    "\\end{cases}\n",
    "\\end{equation}\n",
    "\n",
    "Note, that the value at $x = 0$ has been derived by applying [L'Hôpital's rule](https://en.wikipedia.org/wiki/L'H%C3%B4pital's_rule) to $\\frac{sin(x)}{x}$. The sinc function is an important function in (digital) signal processing and communications engineering. It has the following properties\n",
    "\n",
    "1. Its maximum value is one at $x=0$\n",
    "\n",
    "2. Its amplitude decays with $\\frac{1}{|x|}$\n",
    "\n",
    "3. Its zeros are located at $x_0 = n \\cdot \\pi$ for $n \\in \\mathcal{Z} \\setminus \\{0\\}$\n",
    "\n",
    "4. $\\int_{-\\infty}^{\\infty} \\text{sinc}(t) \\; dt = \\pi$\n",
    "\n",
    "Using the sinc function, the Fourier transform of $\\text{rect}(t)$ reads\n",
    "\n",
    "\\begin{equation}\n",
    "\\mathcal{F} \\{ \\text{rect}(t) \\} = \\text{sinc}\\left( \\frac{\\omega}{2} \\right)\n",
    "\\end{equation}\n",
    "\n",
    "The [Laplace transform of the rectangular signal](../laplace_transform/theorems.ipynb#Transformation-of-the-rectangular-signal) is given as\n",
    "\n",
    "\\begin{equation}\n",
    "\\mathcal{L} \\{ \\text{rect}(t) \\} = \\frac{\\sinh \\left( \\frac{s}{2} \\right) }{\\frac{s}{2}}\n",
    "\\end{equation}\n",
    "\n",
    "with the $\\text{ROC} \\{ \\text{rect}(t) \\} = \\mathbb{C}$. The FLaplace transform of the rectangular signal can be related to its Fourier transform by using $\\sinh (s) = -j \\sin(j s)$ with the substitution $s = j \\omega$\n",
    "\n",
    "\\begin{equation}\n",
    "\\frac{\\sinh \\left( \\frac{s}{2} \\right) }{\\frac{s}{2}} \\Bigg\\vert_{s= j \\omega} = \\frac{\\sin \\left( \\frac{\\omega}{2} \\right) }{\\frac{\\omega}{2}}\n",
    "\\end{equation}"
   ]
  },
  {
   "cell_type": "markdown",
   "metadata": {},
   "source": [
    "**Example**\n",
    "\n",
    "The Fourier transform of the rectangular signal is computed in the following. First the rectangular signal is defined"
   ]
  },
  {
   "cell_type": "code",
   "execution_count": 4,
   "metadata": {
    "collapsed": true
   },
   "outputs": [],
   "source": [
    "class rect(sym.Function):\n",
    "\n",
    "    @classmethod\n",
    "    def eval(cls, arg):\n",
    "        return sym.Heaviside(arg + sym.S.Half) - sym.Heaviside(arg - sym.S.Half)"
   ]
  },
  {
   "cell_type": "markdown",
   "metadata": {},
   "source": [
    "Now the Fourier transform is computed"
   ]
  },
  {
   "cell_type": "code",
   "execution_count": 5,
   "metadata": {},
   "outputs": [
    {
     "data": {
      "image/png": "[encoded data removed]",
      "text/latex": [
       "$$\\frac{i}{\\omega} \\left(- e^{i \\omega} + 1\\right) e^{- \\frac{i \\omega}{2}}$$"
      ],
      "text/plain": [
       "                -ⅈ⋅ω \n",
       "                ─────\n",
       "  ⎛   ⅈ⋅ω    ⎞    2  \n",
       "ⅈ⋅⎝- ℯ    + 1⎠⋅ℯ     \n",
       "─────────────────────\n",
       "          ω          "
      ]
     },
     "execution_count": 5,
     "metadata": {},
     "output_type": "execute_result"
    }
   ],
   "source": [
    "X = fourier_transform(rect(t))\n",
    "X"
   ]
  },
  {
   "cell_type": "markdown",
   "metadata": {},
   "source": [
    "The result is rewritten and simplified in order to yield the same result as above by manual evaluation of the integral"
   ]
  },
  {
   "cell_type": "code",
   "execution_count": 6,
   "metadata": {},
   "outputs": [
    {
     "data": {
      "image/png": "[encoded data removed]",
      "text/latex": [
       "$$\\frac{2}{\\omega} \\sin{\\left (\\frac{\\omega}{2} \\right )}$$"
      ],
      "text/plain": [
       "     ⎛ω⎞\n",
       "2⋅sin⎜─⎟\n",
       "     ⎝2⎠\n",
       "────────\n",
       "   ω    "
      ]
     },
     "execution_count": 6,
     "metadata": {},
     "output_type": "execute_result"
    }
   ],
   "source": [
    "X = X.rewrite(sym.sin).simplify()\n",
    "X"
   ]
  },
  {
   "cell_type": "code",
   "execution_count": 7,
   "metadata": {},
   "outputs": [
    {
     "data": {
      "image/png": "[encoded data removed]",
      "text/plain": [
       "<matplotlib.figure.Figure at 0x1116dc3c8>"
      ]
     },
     "metadata": {},
     "output_type": "display_data"
    }
   ],
   "source": [
    "sym.plot(X, (w, -30, 30), xlabel=r'$\\omega$', ylabel=r'sinc($\\omega / 2$)');"
   ]
  },
  {
   "cell_type": "markdown",
   "metadata": {},
   "source": [
    "**Exercise**\n",
    "\n",
    "* Derive the Fourier transform of a scaled rectangular signal $\\text{rect}(a t)$ with $a \\in \\mathbb{R}$ by manual evaluation of the Fourier integral or by modification of above example.\n",
    "* What happens to the sinc function if you increase/decrease the width of the rectangular signal?"
   ]
  },
  {
   "cell_type": "markdown",
   "metadata": {
    "nbsphinx": "hidden"
   },
   "source": [
    "**Copyright**\n",
    "\n",
    "The notebooks are provided as [Open Educational Resource](https://de.wikipedia.org/wiki/Open_Educational_Resources). Feel free to use the notebooks for your own educational purposes. The text is licensed under [Creative Commons Attribution 4.0](https://creativecommons.org/licenses/by/4.0/), the code of the IPython examples under the [MIT license](https://opensource.org/licenses/MIT). Please attribute the work as follows: *Lecture Notes on Signals and Systems* by Sascha Spors."
   ]
  }
 ],
 "metadata": {
  "kernelspec": {
   "display_name": "Python 3",
   "language": "python",
   "name": "python3"
  },
  "language_info": {
   "codemirror_mode": {
    "name": "ipython",
    "version": 3
   },
   "file_extension": ".py",
   "mimetype": "text/x-python",
   "name": "python",
   "nbconvert_exporter": "python",
   "pygments_lexer": "ipython3",
   "version": "3.5.2"
  }
 },
 "nbformat": 4,
 "nbformat_minor": 1
}
