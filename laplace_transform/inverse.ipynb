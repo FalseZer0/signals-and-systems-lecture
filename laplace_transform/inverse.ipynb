{
 "cells": [
  {
   "cell_type": "markdown",
   "metadata": {
    "nbsphinx": "hidden"
   },
   "source": [
    "# The Laplace Transform\n",
    "\n",
    "*This Jupyter notebook is part of a [collection of notebooks](../index.ipynb) in the bachelors module Signals and Systems, Comunications Engineering, Universität Rostock. Please direct questions and suggestions to <mailto:Sascha.Spors@uni-rostock.de>.*"
   ]
  },
  {
   "cell_type": "markdown",
   "metadata": {},
   "source": [
    "## Inverse Transform\n",
    "\n",
    "So far only the [(forward) Laplace transform](definition.ipynb) has been introduced. The Laplace transform features also an [inverse Laplace transform](https://en.wikipedia.org/wiki/Inverse_Laplace_transform). It can be shown that the inverse Laplace transform $x(t) = \\mathcal{L}^{-1} \\{ X(s) \\}$ is uniquely determined for practically relevant signals. The Laplace transform maps a complex-valued signal $x(t) \\in \\mathbb{C}$ with real-valued independent variable $t \\in \\mathbb{R}$ into its complex-valued Laplace transform $X(s) \\in \\mathbb{C}$ with complex-valued independent variable $s \\in \\mathbb{C}$. The inverse Laplace transform is hence not as straightforward as the [inverse Fourier transform](fourier_transform/definition.ipynb). This section discusses two techniques to compute the inverse Laplace transform."
   ]
  },
  {
   "cell_type": "markdown",
   "metadata": {},
   "source": [
    "### Integral Formula\n",
    "\n",
    "Using results from complex analysis, the inverse Laplace transform is given by the following complex line integral\n",
    "\n",
    "\\begin{equation}\n",
    "x(t) = \\frac{1}{2 \\pi j} \\int_{\\sigma - j \\infty}^{\\sigma + j \\infty} X(s) \\, e^{s t} \\; ds\n",
    "\\end{equation}\n",
    "\n",
    "where $X(s) = \\mathcal{L} \\{ x(t) \\}$ is assumed to be analytic in its simply connected region of convergence (ROC). The notation $\\sigma \\mp j \\infty$ for the lower/upper integration limit denotes an arbitrary integration path which lies in the ROC and ranges from $\\Im \\{s\\} = - \\infty$ to $\\Im \\{s\\} = + \\infty$. The integration path can be chosen parallel to the imaginary axis but also all other paths in the ROC are possible. This results from [Cauchy's integral theorem](https://en.wikipedia.org/wiki/Cauchy's_integral_theorem). Two equivalent paths are shown in the following illustration\n",
    "\n",
    "![Integration paths for the inverse Laplace transform](integration_paths.png)\n",
    "\n",
    "where the blue line indicates the integration path and the gray area the ROC. If the ROC includes the imaginary axis $s = j \\omega$ and the integration path is chosen along the imaginary axis $\\sigma = 0$, the inverse Laplace transform becomes identical to the inverse Fourier transform."
   ]
  },
  {
   "cell_type": "markdown",
   "metadata": {},
   "source": [
    "### Rational Laplace Transforms\n",
    "\n",
    "Computing the inverse Laplace transform by above integral formula can be challenging. For Laplace transforms $X(s) = \\mathcal{L} \\{ x(t) \\}$ which are given as rational functions, the [Cauchy residue theorem](https://en.wikipedia.org/wiki/Residue_theorem) provides a pratically tractable solution. It states that the value of a line integral of an holomorphic function over a closed contour is given by summing up its [residues](https://en.wikipedia.org/wiki/Residue_theorem). The residue is the value of the line integral for a path enclosing a singularity. Consequently, the inverse Laplace transform of a rational Laplace transform can be computed by summing up the individual contributions from its poles. This procedure is detailed in the following."
   ]
  },
  {
   "cell_type": "markdown",
   "metadata": {},
   "source": [
    "#### Basic Procedure\n",
    "\n",
    "A rational Laplace transform $X(s)$ can be written in terms of its numerator and denominator polynomial\n",
    "\n",
    "\\begin{equation}\n",
    "X(s) = \\frac{\\sum_{m=0}^{M} \\beta_m s^m}{\\sum_{n=0}^{N} \\alpha_n s^n}\n",
    "\\end{equation}\n",
    "\n",
    "where $M$, $N$ denotes the order of the numerator and denominator polynomial and $\\beta_m$, $\\alpha_n$ their coefficients, respectively. It is assumed that $\\alpha_N \\neq 0$ and that $M \\leq N$. If $M > N$, $X(s)$ can be decomposed by [polynomial division](https://en.wikipedia.org/wiki/Polynomial_long_division) into a sum of powers of $s$ and a rational function fulfilling $M \\leq N$. \n",
    "\n",
    "Now a [partial fraction decomposition](https://en.wikipedia.org/wiki/Partial_fraction_decomposition) of $X(s)$ is performed resulting in\n",
    "\n",
    "\\begin{equation}\n",
    "X(s) = A_0 + \\sum_{\\mu = 1}^{L} \\sum_{\\nu = 1}^{R_\\mu} \\frac{A_{\\mu \\nu}}{(s - s_{\\infty \\mu})^\\nu}\n",
    "\\end{equation}\n",
    "\n",
    "where $s_{\\infty \\mu}$ denotes the $\\mu$-th unique pole of $X(s)$, $R_\\mu$ its degree and $L$ the total number of different poles $\\mu = 1 \\dots L$. Using the known Laplace transforms ([cf. table of selected transforms](table_theorems_transforms.ipynb#Selected-Transforms))\n",
    "\n",
    "\\begin{equation}\n",
    "\\mathcal{L} \\{ t^n e^{-s_0 t} \\epsilon(t) \\} = \\frac{n!}{(s + s_0)^{n+1}} \\qquad \\text{for } \\Re \\{ s \\} > \\Re \\{ - s_0 \\}.\n",
    "\\end{equation}\n",
    "\n",
    "and $\\mathcal{L} \\{ \\delta(t) \\} = 1$ together with the linearity of the Laplace transform yields a generic result for the inverse Laplace transform $x(t) = \\mathcal{L}^{-1} \\{ X(s) \\}$ of a right-sided signal\n",
    "\n",
    "\\begin{equation}\n",
    "x(t) = A_0 \\cdot \\delta(t) + \\epsilon(t) \\sum_{\\mu = 1}^{L} e^{s_{\\infty \\mu} t} \\sum_{\\nu = 1}^{R_\\mu} \\frac{A_{\\mu \\nu} \\, t^{\\mu - 1}}{(\\nu -1)!}\n",
    "\\end{equation}\n",
    "\n",
    "It remains to compute the coefficients $A_0$ and $A_{\\mu \\nu}$ of the partial fraction decomposition. The constant coefficient $A_0$ is given as\n",
    "\n",
    "\\begin{equation}\n",
    "A_0 = \\lim_{s \\to \\infty} X(s)\n",
    "\\end{equation}\n",
    "\n",
    "For a pole $s_{\\infty \\mu}$ with degree $R_\\mu = 1$, the coefficient $A_{\\mu 1}$ reads\n",
    "\\begin{equation}\n",
    "A_{\\mu 1} = \\lim_{s \\to s_{\\infty \\mu}} \\left( X(s) \\cdot (s - s_{\\infty \\mu}) \\right)\n",
    "\\end{equation}\n",
    "\n",
    "For a pole $s_{\\infty \\mu}$ of higher degree $R_\\mu > 1$, the coefficients $A_{\\mu \\nu}$ are given as\n",
    "\\begin{equation}\n",
    "A_{\\mu \\nu} = \\frac{1}{(R_\\mu - \\nu)!} \\lim_{s \\to s_{\\infty \\mu}} \\frac{d^{R_\\mu - \\nu}}{d s^{R_\\mu - \\nu}} \\left( X(s) \\cdot (s - s_{\\infty \\mu})^{R_\\mu} \\right)\n",
    "\\end{equation}"
   ]
  },
  {
   "cell_type": "markdown",
   "metadata": {},
   "source": [
    "#### Classification of Poles\n",
    "\n",
    "Above procedure allows to compute the inverse Laplace transform $x(t) = \\mathcal{L}^{-1} \\{ X(s) \\}$ of a rational Laplace transform $X(s)$ in a systematic way. It is well suited for an algorithmic realization. However, for manual evaluation it is useful to classify the poles with respect to their location in the $s$-plane and their symmetries. The classification can then be used to formulate a modified partional fraction decomposition which limits the need for later algebraic simplification of the inverse Laplace transform. Three classes of poles are considered\n",
    "\n",
    "| Type | Pole-Zero Diagramm | $X(s)$ | $x(t) = \\mathcal{L}^{-1} \\{ X(s) \\} \\qquad \\qquad$ |\n",
    "|---|:---:|:---:|:---:|\n",
    "| Single complex pole | ![Single pole](single_pole.png) | $\\frac{n!}{(s + s_0)^{n+1}}$ | $t^n e^{-s_0 t} \\epsilon(t)$ |\n",
    "| Conjugated imaginary poles | ![Conjugated imaginary poles](conjugated_imaginary_poles.png) | $\\frac{A s + B}{s^2 + \\omega_0^2}$ | $\\begin{cases} \\sin(\\omega_0 t) \\epsilon(t) \\\\ \\cos(\\omega_0 t) \\epsilon(t) \\end{cases}$ |\n",
    "| Conjugated complex poles | ![](conjugated_complex_poles.png) | $\\frac{A s + B}{(s + \\sigma_0)^2 + \\omega_0^2}$ | $\\begin{cases} e^{-\\sigma_0 t} \\sin(\\omega_0 t) \\epsilon(t) \\\\ e^{-\\sigma_0 t} \\cos(\\omega_0 t) \\epsilon(t) \\end{cases}$ |\n",
    "\n",
    "where $s_0 \\in \\mathbb{C}$ and $\\omega_0, \\sigma_0 \\in \\mathbb{R}$. The expansion coefficients $A, B \\in \\mathbb{R}$ can be derived by comparison of coefficients. Whether $x(t)$ contains a sine or cosine depends on the coefficient $A$. If $A \\neq 0$ then $x(t)$ contains a cosine."
   ]
  },
  {
   "cell_type": "markdown",
   "metadata": {},
   "source": [
    "#### Example\n",
    "\n",
    "The inverse transform $x(t) = \\mathcal{L}^{-1} \\{ X) \\}$ of \n",
    "\n",
    "\\begin{equation}\n",
    "H(s) = \\frac{2 s^2 + 14 s + 124}{s^3 + 8 s^2 + 46 s + 68} \\qquad \\text{for } \\Re \\{s \\} > -2\n",
    "\\end{equation}\n",
    "\n",
    "is computed. First the function $X(s)$ is defined in `SymPy`"
   ]
  },
  {
   "cell_type": "code",
   "execution_count": 1,
   "metadata": {
    "collapsed": false
   },
   "outputs": [
    {
     "data": {
      "image/png": "[encoded data removed]",
      "text/latex": [
       "$$\\frac{2 s^{2} + 14 s + 124}{s^{3} + 8 s^{2} + 46 s + 68}$$"
      ],
      "text/plain": [
       "     2               \n",
       "  2⋅s  + 14⋅s + 124  \n",
       "─────────────────────\n",
       " 3      2            \n",
       "s  + 8⋅s  + 46⋅s + 68"
      ]
     },
     "execution_count": 1,
     "metadata": {},
     "output_type": "execute_result"
    }
   ],
   "source": [
    "%matplotlib inline\n",
    "import sympy as sym\n",
    "sym.init_printing()\n",
    "\n",
    "s = sym.symbols('s', complex=True)\n",
    "t = sym.symbols('t', real=True)\n",
    "\n",
    "X = (2*s**2 + 14*s + 124)/(s**3 + 8 * s**2 + 46*s + 68)\n",
    "X"
   ]
  },
  {
   "cell_type": "markdown",
   "metadata": {},
   "source": [
    "The poles of $X(s)$ are derived by computing the roots of the denominator polynomial"
   ]
  },
  {
   "cell_type": "code",
   "execution_count": 2,
   "metadata": {
    "collapsed": false
   },
   "outputs": [
    {
     "data": {
      "image/png": "[encoded data removed]",
      "text/latex": [
       "$$\\left \\{ -2 : 1, \\quad -3 - 5 i : 1, \\quad -3 + 5 i : 1\\right \\}$$"
      ],
      "text/plain": [
       "{-2: 1, -3 - 5⋅ⅈ: 1, -3 + 5⋅ⅈ: 1}"
      ]
     },
     "execution_count": 2,
     "metadata": {},
     "output_type": "execute_result"
    }
   ],
   "source": [
    "poles = sym.roots(sym.denom(X))\n",
    "poles"
   ]
  },
  {
   "cell_type": "markdown",
   "metadata": {},
   "source": [
    "The result is a real-valued pole and a conjugate complex pair of poles. According to above introduced classification of poles, the following ansatz is chosen for the partional fraction decomposition of the Laplace transform\n",
    "\n",
    "\\begin{equation}\n",
    "X_p(s) = \\frac{A}{s + 2} + \\frac{B s + C}{s^2 + 6s + 34}\n",
    "\\end{equation}\n",
    "\n",
    "The coefficients $A, B, C \\in \\mathbb{R}$ are derived by equating coefficients with $X(s)$"
   ]
  },
  {
   "cell_type": "code",
   "execution_count": 3,
   "metadata": {
    "collapsed": false
   },
   "outputs": [
    {
     "data": {
      "image/png": "[encoded data removed]",
      "text/latex": [
       "$$\\left \\{ A : 4, \\quad B : -2, \\quad C : -6\\right \\}$$"
      ],
      "text/plain": [
       "{A: 4, B: -2, C: -6}"
      ]
     },
     "execution_count": 3,
     "metadata": {},
     "output_type": "execute_result"
    }
   ],
   "source": [
    "A, B, C = sym.symbols('A B C', real=True)\n",
    "\n",
    "Xp = A / (s+2) + (B*s + C)/(s**2 + 6*s + 34)\n",
    "coeffs = sym.solve(sym.Eq(X, Xp), (A, B, C))\n",
    "coeffs"
   ]
  },
  {
   "cell_type": "markdown",
   "metadata": {},
   "source": [
    "Introducing the coefficients into $X_p(s)$ yields"
   ]
  },
  {
   "cell_type": "code",
   "execution_count": 4,
   "metadata": {
    "collapsed": false
   },
   "outputs": [
    {
     "data": {
      "image/png": "[encoded data removed]",
      "text/latex": [
       "$$\\frac{- 2 s - 6}{s^{2} + 6 s + 34} + \\frac{4}{s + 2}$$"
      ],
      "text/plain": [
       "   -2⋅s - 6       4  \n",
       "───────────── + ─────\n",
       " 2              s + 2\n",
       "s  + 6⋅s + 34        "
      ]
     },
     "execution_count": 4,
     "metadata": {},
     "output_type": "execute_result"
    }
   ],
   "source": [
    "Xp = Xp.subs(coeffs)\n",
    "Xp"
   ]
  },
  {
   "cell_type": "markdown",
   "metadata": {},
   "source": [
    "The first fraction belongs to the complex conjugate poles. Applying [completion of the square](https://en.wikipedia.org/wiki/Completing_the_square) to the denominator, its inverse can be identified in the [table of Laplace transforms](table_theorems_transforms.ipynb#Transforms) as exponentially decaying cosine signal. Performing the inverse Laplace transform with `SymPy` yields"
   ]
  },
  {
   "cell_type": "code",
   "execution_count": 5,
   "metadata": {
    "collapsed": false
   },
   "outputs": [
    {
     "data": {
      "image/png": "[encoded data removed]",
      "text/latex": [
       "$$- 2 e^{- 3 t} \\cos{\\left (5 t \\right )} \\theta\\left(t\\right)$$"
      ],
      "text/plain": [
       "    -3⋅t                      \n",
       "-2⋅ℯ    ⋅cos(5⋅t)⋅Heaviside(t)"
      ]
     },
     "execution_count": 5,
     "metadata": {},
     "output_type": "execute_result"
    }
   ],
   "source": [
    "x1 = sym.inverse_laplace_transform(Xp.args[1], s, t)\n",
    "x1"
   ]
  },
  {
   "cell_type": "markdown",
   "metadata": {},
   "source": [
    "The second fraction belongs to a real-valued pole of first degree. Its inverse Laplace transform can be looked-up directly in the [table of Laplace transforms](table_theorems_transforms.ipynb#Transforms) as exponentially decaying signal. Performing the inverse Laplace transform again with `SymPy` yields"
   ]
  },
  {
   "cell_type": "code",
   "execution_count": 6,
   "metadata": {
    "collapsed": false
   },
   "outputs": [
    {
     "data": {
      "image/png": "[encoded data removed]",
      "text/latex": [
       "$$4 e^{- 2 t} \\theta\\left(t\\right)$$"
      ],
      "text/plain": [
       "   -2⋅t             \n",
       "4⋅ℯ    ⋅Heaviside(t)"
      ]
     },
     "execution_count": 6,
     "metadata": {},
     "output_type": "execute_result"
    }
   ],
   "source": [
    "x2 = sym.inverse_laplace_transform(Xp.args[0], s, t)\n",
    "x2"
   ]
  },
  {
   "cell_type": "markdown",
   "metadata": {},
   "source": [
    "The inverse Laplace transform of $X(s)$ is given by summing up these two parts"
   ]
  },
  {
   "cell_type": "code",
   "execution_count": 7,
   "metadata": {
    "collapsed": false
   },
   "outputs": [
    {
     "data": {
      "image/png": "[encoded data removed]",
      "text/latex": [
       "$$4 e^{- 2 t} \\theta\\left(t\\right) - 2 e^{- 3 t} \\cos{\\left (5 t \\right )} \\theta\\left(t\\right)$$"
      ],
      "text/plain": [
       "   -2⋅t                   -3⋅t                      \n",
       "4⋅ℯ    ⋅Heaviside(t) - 2⋅ℯ    ⋅cos(5⋅t)⋅Heaviside(t)"
      ]
     },
     "execution_count": 7,
     "metadata": {},
     "output_type": "execute_result"
    }
   ],
   "source": [
    "x = x1 + x2\n",
    "x"
   ]
  },
  {
   "cell_type": "markdown",
   "metadata": {},
   "source": [
    "The resulting signal is plotted for illustration"
   ]
  },
  {
   "cell_type": "code",
   "execution_count": 8,
   "metadata": {
    "collapsed": false
   },
   "outputs": [
    {
     "data": {
      "image/png": "[encoded data removed]",
      "text/plain": [
       "<matplotlib.figure.Figure at 0x10a02cb38>"
      ]
     },
     "metadata": {},
     "output_type": "display_data"
    }
   ],
   "source": [
    "sym.plot(x, (t, -0.1, 4), xlabel='$t$', ylabel='$x(t)$');"
   ]
  },
  {
   "cell_type": "markdown",
   "metadata": {},
   "source": [
    "The same result can be derived directly from $X(s)$ by using the inverse Laplace transform of `SymPy`"
   ]
  },
  {
   "cell_type": "code",
   "execution_count": 9,
   "metadata": {
    "collapsed": false
   },
   "outputs": [
    {
     "data": {
      "image/png": "[encoded data removed]",
      "text/latex": [
       "$$2 \\left(2 e^{t} - \\cos{\\left (5 t \\right )}\\right) e^{- 3 t} \\theta\\left(t\\right)$$"
      ],
      "text/plain": [
       "  ⎛   t           ⎞  -3⋅t             \n",
       "2⋅⎝2⋅ℯ  - cos(5⋅t)⎠⋅ℯ    ⋅Heaviside(t)"
      ]
     },
     "execution_count": 9,
     "metadata": {},
     "output_type": "execute_result"
    }
   ],
   "source": [
    "sym.inverse_laplace_transform(X, s, t).simplify()"
   ]
  },
  {
   "cell_type": "markdown",
   "metadata": {},
   "source": [
    "**Exercise**\n",
    "\n",
    "* Derive the inverse Laplace transform of $X(s)$ by manual calculation.\n",
    "* Derive the inverse Laplace transform of\n",
    "    \\begin{equation}\n",
    "    X(s) = \\frac{1}{(s+1)(s+2)^2} \\qquad \\text{for } \\Re \\{ s \\} \\geq -1\n",
    "    \\end{equation}\n",
    "    by manual calculation. Check your results with `SymPy`."
   ]
  },
  {
   "cell_type": "markdown",
   "metadata": {
    "nbsphinx": "hidden"
   },
   "source": [
    "**Copyright**\n",
    "\n",
    "The notebooks are provided as [Open Educational Resource](https://de.wikipedia.org/wiki/Open_Educational_Resources). Feel free to use the notebooks for your own educational purposes. The text is licensed under [Creative Commons Attribution 4.0](https://creativecommons.org/licenses/by/4.0/), the code of the IPython examples under the [MIT license](https://opensource.org/licenses/MIT). Please attribute the work as follows: *Lecture Notes on Signals and Systems* by Sascha Spors."
   ]
  }
 ],
 "metadata": {
  "kernelspec": {
   "display_name": "Python 3",
   "language": "python",
   "name": "python3"
  },
  "language_info": {
   "codemirror_mode": {
    "name": "ipython",
    "version": 3
   },
   "file_extension": ".py",
   "mimetype": "text/x-python",
   "name": "python",
   "nbconvert_exporter": "python",
   "pygments_lexer": "ipython3",
   "version": "3.5.1"
  }
 },
 "nbformat": 4,
 "nbformat_minor": 0
}
